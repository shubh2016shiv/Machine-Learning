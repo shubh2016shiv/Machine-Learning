{
 "cells": [
  {
   "cell_type": "code",
   "execution_count": 1,
   "metadata": {},
   "outputs": [],
   "source": [
    "import pandas as pd\n",
    "import numpy as np\n",
    "from matplotlib import pyplot as plt\n",
    "import seaborn as sns\n",
    "\n",
    "from sklearn.preprocessing import LabelEncoder,StandardScaler\n",
    "from sklearn.model_selection import train_test_split"
   ]
  },
  {
   "cell_type": "code",
   "execution_count": 2,
   "metadata": {},
   "outputs": [],
   "source": [
    "data = pd.read_csv('adult.data.txt',header=None)"
   ]
  },
  {
   "cell_type": "code",
   "execution_count": 3,
   "metadata": {},
   "outputs": [
    {
     "data": {
      "text/html": [
       "<div>\n",
       "<style scoped>\n",
       "    .dataframe tbody tr th:only-of-type {\n",
       "        vertical-align: middle;\n",
       "    }\n",
       "\n",
       "    .dataframe tbody tr th {\n",
       "        vertical-align: top;\n",
       "    }\n",
       "\n",
       "    .dataframe thead th {\n",
       "        text-align: right;\n",
       "    }\n",
       "</style>\n",
       "<table border=\"1\" class=\"dataframe\">\n",
       "  <thead>\n",
       "    <tr style=\"text-align: right;\">\n",
       "      <th></th>\n",
       "      <th>0</th>\n",
       "      <th>1</th>\n",
       "      <th>2</th>\n",
       "      <th>3</th>\n",
       "      <th>4</th>\n",
       "      <th>5</th>\n",
       "      <th>6</th>\n",
       "      <th>7</th>\n",
       "      <th>8</th>\n",
       "      <th>9</th>\n",
       "      <th>10</th>\n",
       "      <th>11</th>\n",
       "      <th>12</th>\n",
       "      <th>13</th>\n",
       "      <th>14</th>\n",
       "    </tr>\n",
       "  </thead>\n",
       "  <tbody>\n",
       "    <tr>\n",
       "      <th>0</th>\n",
       "      <td>39</td>\n",
       "      <td>State-gov</td>\n",
       "      <td>77516</td>\n",
       "      <td>Bachelors</td>\n",
       "      <td>13</td>\n",
       "      <td>Never-married</td>\n",
       "      <td>Adm-clerical</td>\n",
       "      <td>Not-in-family</td>\n",
       "      <td>White</td>\n",
       "      <td>Male</td>\n",
       "      <td>2174</td>\n",
       "      <td>0</td>\n",
       "      <td>40</td>\n",
       "      <td>United-States</td>\n",
       "      <td>&lt;=50K</td>\n",
       "    </tr>\n",
       "    <tr>\n",
       "      <th>1</th>\n",
       "      <td>50</td>\n",
       "      <td>Self-emp-not-inc</td>\n",
       "      <td>83311</td>\n",
       "      <td>Bachelors</td>\n",
       "      <td>13</td>\n",
       "      <td>Married-civ-spouse</td>\n",
       "      <td>Exec-managerial</td>\n",
       "      <td>Husband</td>\n",
       "      <td>White</td>\n",
       "      <td>Male</td>\n",
       "      <td>0</td>\n",
       "      <td>0</td>\n",
       "      <td>13</td>\n",
       "      <td>United-States</td>\n",
       "      <td>&lt;=50K</td>\n",
       "    </tr>\n",
       "    <tr>\n",
       "      <th>2</th>\n",
       "      <td>38</td>\n",
       "      <td>Private</td>\n",
       "      <td>215646</td>\n",
       "      <td>HS-grad</td>\n",
       "      <td>9</td>\n",
       "      <td>Divorced</td>\n",
       "      <td>Handlers-cleaners</td>\n",
       "      <td>Not-in-family</td>\n",
       "      <td>White</td>\n",
       "      <td>Male</td>\n",
       "      <td>0</td>\n",
       "      <td>0</td>\n",
       "      <td>40</td>\n",
       "      <td>United-States</td>\n",
       "      <td>&lt;=50K</td>\n",
       "    </tr>\n",
       "    <tr>\n",
       "      <th>3</th>\n",
       "      <td>53</td>\n",
       "      <td>Private</td>\n",
       "      <td>234721</td>\n",
       "      <td>11th</td>\n",
       "      <td>7</td>\n",
       "      <td>Married-civ-spouse</td>\n",
       "      <td>Handlers-cleaners</td>\n",
       "      <td>Husband</td>\n",
       "      <td>Black</td>\n",
       "      <td>Male</td>\n",
       "      <td>0</td>\n",
       "      <td>0</td>\n",
       "      <td>40</td>\n",
       "      <td>United-States</td>\n",
       "      <td>&lt;=50K</td>\n",
       "    </tr>\n",
       "    <tr>\n",
       "      <th>4</th>\n",
       "      <td>28</td>\n",
       "      <td>Private</td>\n",
       "      <td>338409</td>\n",
       "      <td>Bachelors</td>\n",
       "      <td>13</td>\n",
       "      <td>Married-civ-spouse</td>\n",
       "      <td>Prof-specialty</td>\n",
       "      <td>Wife</td>\n",
       "      <td>Black</td>\n",
       "      <td>Female</td>\n",
       "      <td>0</td>\n",
       "      <td>0</td>\n",
       "      <td>40</td>\n",
       "      <td>Cuba</td>\n",
       "      <td>&lt;=50K</td>\n",
       "    </tr>\n",
       "  </tbody>\n",
       "</table>\n",
       "</div>"
      ],
      "text/plain": [
       "   0                  1       2           3   4                    5   \\\n",
       "0  39          State-gov   77516   Bachelors  13        Never-married   \n",
       "1  50   Self-emp-not-inc   83311   Bachelors  13   Married-civ-spouse   \n",
       "2  38            Private  215646     HS-grad   9             Divorced   \n",
       "3  53            Private  234721        11th   7   Married-civ-spouse   \n",
       "4  28            Private  338409   Bachelors  13   Married-civ-spouse   \n",
       "\n",
       "                   6               7       8        9     10  11  12  \\\n",
       "0        Adm-clerical   Not-in-family   White     Male  2174   0  40   \n",
       "1     Exec-managerial         Husband   White     Male     0   0  13   \n",
       "2   Handlers-cleaners   Not-in-family   White     Male     0   0  40   \n",
       "3   Handlers-cleaners         Husband   Black     Male     0   0  40   \n",
       "4      Prof-specialty            Wife   Black   Female     0   0  40   \n",
       "\n",
       "               13      14  \n",
       "0   United-States   <=50K  \n",
       "1   United-States   <=50K  \n",
       "2   United-States   <=50K  \n",
       "3   United-States   <=50K  \n",
       "4            Cuba   <=50K  "
      ]
     },
     "execution_count": 3,
     "metadata": {},
     "output_type": "execute_result"
    }
   ],
   "source": [
    "data.head()"
   ]
  },
  {
   "cell_type": "code",
   "execution_count": 4,
   "metadata": {},
   "outputs": [],
   "source": [
    "data.columns = [\"Age\", \"Workclass\", \"fnlwgt\", \"Education\", \"Education-Num\", \"Martial Status\",\n",
    "        \"Occupation\", \"Relationship\", \"Race\", \"Sex\", \"Capital Gain\", \"Capital Loss\",\n",
    "        \"Hours per week\", \"Country\", \"salary\"]"
   ]
  },
  {
   "cell_type": "code",
   "execution_count": 5,
   "metadata": {},
   "outputs": [
    {
     "data": {
      "text/html": [
       "<div>\n",
       "<style scoped>\n",
       "    .dataframe tbody tr th:only-of-type {\n",
       "        vertical-align: middle;\n",
       "    }\n",
       "\n",
       "    .dataframe tbody tr th {\n",
       "        vertical-align: top;\n",
       "    }\n",
       "\n",
       "    .dataframe thead th {\n",
       "        text-align: right;\n",
       "    }\n",
       "</style>\n",
       "<table border=\"1\" class=\"dataframe\">\n",
       "  <thead>\n",
       "    <tr style=\"text-align: right;\">\n",
       "      <th></th>\n",
       "      <th>Age</th>\n",
       "      <th>Workclass</th>\n",
       "      <th>fnlwgt</th>\n",
       "      <th>Education</th>\n",
       "      <th>Education-Num</th>\n",
       "      <th>Martial Status</th>\n",
       "      <th>Occupation</th>\n",
       "      <th>Relationship</th>\n",
       "      <th>Race</th>\n",
       "      <th>Sex</th>\n",
       "      <th>Capital Gain</th>\n",
       "      <th>Capital Loss</th>\n",
       "      <th>Hours per week</th>\n",
       "      <th>Country</th>\n",
       "      <th>salary</th>\n",
       "    </tr>\n",
       "  </thead>\n",
       "  <tbody>\n",
       "    <tr>\n",
       "      <th>0</th>\n",
       "      <td>39</td>\n",
       "      <td>State-gov</td>\n",
       "      <td>77516</td>\n",
       "      <td>Bachelors</td>\n",
       "      <td>13</td>\n",
       "      <td>Never-married</td>\n",
       "      <td>Adm-clerical</td>\n",
       "      <td>Not-in-family</td>\n",
       "      <td>White</td>\n",
       "      <td>Male</td>\n",
       "      <td>2174</td>\n",
       "      <td>0</td>\n",
       "      <td>40</td>\n",
       "      <td>United-States</td>\n",
       "      <td>&lt;=50K</td>\n",
       "    </tr>\n",
       "    <tr>\n",
       "      <th>1</th>\n",
       "      <td>50</td>\n",
       "      <td>Self-emp-not-inc</td>\n",
       "      <td>83311</td>\n",
       "      <td>Bachelors</td>\n",
       "      <td>13</td>\n",
       "      <td>Married-civ-spouse</td>\n",
       "      <td>Exec-managerial</td>\n",
       "      <td>Husband</td>\n",
       "      <td>White</td>\n",
       "      <td>Male</td>\n",
       "      <td>0</td>\n",
       "      <td>0</td>\n",
       "      <td>13</td>\n",
       "      <td>United-States</td>\n",
       "      <td>&lt;=50K</td>\n",
       "    </tr>\n",
       "    <tr>\n",
       "      <th>2</th>\n",
       "      <td>38</td>\n",
       "      <td>Private</td>\n",
       "      <td>215646</td>\n",
       "      <td>HS-grad</td>\n",
       "      <td>9</td>\n",
       "      <td>Divorced</td>\n",
       "      <td>Handlers-cleaners</td>\n",
       "      <td>Not-in-family</td>\n",
       "      <td>White</td>\n",
       "      <td>Male</td>\n",
       "      <td>0</td>\n",
       "      <td>0</td>\n",
       "      <td>40</td>\n",
       "      <td>United-States</td>\n",
       "      <td>&lt;=50K</td>\n",
       "    </tr>\n",
       "    <tr>\n",
       "      <th>3</th>\n",
       "      <td>53</td>\n",
       "      <td>Private</td>\n",
       "      <td>234721</td>\n",
       "      <td>11th</td>\n",
       "      <td>7</td>\n",
       "      <td>Married-civ-spouse</td>\n",
       "      <td>Handlers-cleaners</td>\n",
       "      <td>Husband</td>\n",
       "      <td>Black</td>\n",
       "      <td>Male</td>\n",
       "      <td>0</td>\n",
       "      <td>0</td>\n",
       "      <td>40</td>\n",
       "      <td>United-States</td>\n",
       "      <td>&lt;=50K</td>\n",
       "    </tr>\n",
       "    <tr>\n",
       "      <th>4</th>\n",
       "      <td>28</td>\n",
       "      <td>Private</td>\n",
       "      <td>338409</td>\n",
       "      <td>Bachelors</td>\n",
       "      <td>13</td>\n",
       "      <td>Married-civ-spouse</td>\n",
       "      <td>Prof-specialty</td>\n",
       "      <td>Wife</td>\n",
       "      <td>Black</td>\n",
       "      <td>Female</td>\n",
       "      <td>0</td>\n",
       "      <td>0</td>\n",
       "      <td>40</td>\n",
       "      <td>Cuba</td>\n",
       "      <td>&lt;=50K</td>\n",
       "    </tr>\n",
       "  </tbody>\n",
       "</table>\n",
       "</div>"
      ],
      "text/plain": [
       "   Age          Workclass  fnlwgt   Education  Education-Num  \\\n",
       "0   39          State-gov   77516   Bachelors             13   \n",
       "1   50   Self-emp-not-inc   83311   Bachelors             13   \n",
       "2   38            Private  215646     HS-grad              9   \n",
       "3   53            Private  234721        11th              7   \n",
       "4   28            Private  338409   Bachelors             13   \n",
       "\n",
       "        Martial Status          Occupation    Relationship    Race      Sex  \\\n",
       "0        Never-married        Adm-clerical   Not-in-family   White     Male   \n",
       "1   Married-civ-spouse     Exec-managerial         Husband   White     Male   \n",
       "2             Divorced   Handlers-cleaners   Not-in-family   White     Male   \n",
       "3   Married-civ-spouse   Handlers-cleaners         Husband   Black     Male   \n",
       "4   Married-civ-spouse      Prof-specialty            Wife   Black   Female   \n",
       "\n",
       "   Capital Gain  Capital Loss  Hours per week         Country  salary  \n",
       "0          2174             0              40   United-States   <=50K  \n",
       "1             0             0              13   United-States   <=50K  \n",
       "2             0             0              40   United-States   <=50K  \n",
       "3             0             0              40   United-States   <=50K  \n",
       "4             0             0              40            Cuba   <=50K  "
      ]
     },
     "execution_count": 5,
     "metadata": {},
     "output_type": "execute_result"
    }
   ],
   "source": [
    "data.head()"
   ]
  },
  {
   "cell_type": "code",
   "execution_count": 6,
   "metadata": {},
   "outputs": [
    {
     "data": {
      "text/plain": [
       "array([' State-gov', ' Self-emp-not-inc', ' Private', ' Federal-gov',\n",
       "       ' Local-gov', ' ?', ' Self-emp-inc', ' Without-pay',\n",
       "       ' Never-worked'], dtype=object)"
      ]
     },
     "execution_count": 6,
     "metadata": {},
     "output_type": "execute_result"
    }
   ],
   "source": [
    "data['Workclass'].unique() # The rows with '?' is meaningless"
   ]
  },
  {
   "cell_type": "code",
   "execution_count": 7,
   "metadata": {},
   "outputs": [
    {
     "data": {
      "text/plain": [
       "array([' Bachelors', ' HS-grad', ' 11th', ' Masters', ' 9th',\n",
       "       ' Some-college', ' Assoc-acdm', ' Assoc-voc', ' 7th-8th',\n",
       "       ' Doctorate', ' Prof-school', ' 5th-6th', ' 10th', ' 1st-4th',\n",
       "       ' Preschool', ' 12th'], dtype=object)"
      ]
     },
     "execution_count": 7,
     "metadata": {},
     "output_type": "execute_result"
    }
   ],
   "source": [
    "data['Education'].unique()"
   ]
  },
  {
   "cell_type": "code",
   "execution_count": 8,
   "metadata": {},
   "outputs": [
    {
     "data": {
      "text/plain": [
       "array([' Never-married', ' Married-civ-spouse', ' Divorced',\n",
       "       ' Married-spouse-absent', ' Separated', ' Married-AF-spouse',\n",
       "       ' Widowed'], dtype=object)"
      ]
     },
     "execution_count": 8,
     "metadata": {},
     "output_type": "execute_result"
    }
   ],
   "source": [
    "data['Martial Status'].unique()"
   ]
  },
  {
   "cell_type": "code",
   "execution_count": 9,
   "metadata": {},
   "outputs": [
    {
     "data": {
      "text/plain": [
       "array([' Adm-clerical', ' Exec-managerial', ' Handlers-cleaners',\n",
       "       ' Prof-specialty', ' Other-service', ' Sales', ' Craft-repair',\n",
       "       ' Transport-moving', ' Farming-fishing', ' Machine-op-inspct',\n",
       "       ' Tech-support', ' ?', ' Protective-serv', ' Armed-Forces',\n",
       "       ' Priv-house-serv'], dtype=object)"
      ]
     },
     "execution_count": 9,
     "metadata": {},
     "output_type": "execute_result"
    }
   ],
   "source": [
    "data['Occupation'].unique() # The rows with '?' is meaningless"
   ]
  },
  {
   "cell_type": "code",
   "execution_count": 10,
   "metadata": {},
   "outputs": [
    {
     "data": {
      "text/plain": [
       "array([' Not-in-family', ' Husband', ' Wife', ' Own-child', ' Unmarried',\n",
       "       ' Other-relative'], dtype=object)"
      ]
     },
     "execution_count": 10,
     "metadata": {},
     "output_type": "execute_result"
    }
   ],
   "source": [
    "data['Relationship'].unique()"
   ]
  },
  {
   "cell_type": "code",
   "execution_count": 11,
   "metadata": {},
   "outputs": [
    {
     "data": {
      "text/plain": [
       "array([' White', ' Black', ' Asian-Pac-Islander', ' Amer-Indian-Eskimo',\n",
       "       ' Other'], dtype=object)"
      ]
     },
     "execution_count": 11,
     "metadata": {},
     "output_type": "execute_result"
    }
   ],
   "source": [
    "data['Race'].unique()"
   ]
  },
  {
   "cell_type": "code",
   "execution_count": 12,
   "metadata": {},
   "outputs": [
    {
     "data": {
      "text/plain": [
       "array([' Male', ' Female'], dtype=object)"
      ]
     },
     "execution_count": 12,
     "metadata": {},
     "output_type": "execute_result"
    }
   ],
   "source": [
    "data['Sex'].unique()"
   ]
  },
  {
   "cell_type": "code",
   "execution_count": 13,
   "metadata": {},
   "outputs": [
    {
     "data": {
      "text/plain": [
       "array([' United-States', ' Cuba', ' Jamaica', ' India', ' ?', ' Mexico',\n",
       "       ' South', ' Puerto-Rico', ' Honduras', ' England', ' Canada',\n",
       "       ' Germany', ' Iran', ' Philippines', ' Italy', ' Poland',\n",
       "       ' Columbia', ' Cambodia', ' Thailand', ' Ecuador', ' Laos',\n",
       "       ' Taiwan', ' Haiti', ' Portugal', ' Dominican-Republic',\n",
       "       ' El-Salvador', ' France', ' Guatemala', ' China', ' Japan',\n",
       "       ' Yugoslavia', ' Peru', ' Outlying-US(Guam-USVI-etc)', ' Scotland',\n",
       "       ' Trinadad&Tobago', ' Greece', ' Nicaragua', ' Vietnam', ' Hong',\n",
       "       ' Ireland', ' Hungary', ' Holand-Netherlands'], dtype=object)"
      ]
     },
     "execution_count": 13,
     "metadata": {},
     "output_type": "execute_result"
    }
   ],
   "source": [
    "data['Country'].unique() # The rows with '?' is meaningless"
   ]
  },
  {
   "cell_type": "markdown",
   "metadata": {},
   "source": [
    "# Data Pre-Processing"
   ]
  },
  {
   "cell_type": "markdown",
   "metadata": {},
   "source": [
    "## Handling the null values"
   ]
  },
  {
   "cell_type": "code",
   "execution_count": 14,
   "metadata": {},
   "outputs": [],
   "source": [
    "#  First, mapping the Target values to categorical values \n",
    "salay_map = {' <=50K':0,' >50K':1}\n",
    "data['salary'] = data['salary'].map(salay_map)"
   ]
  },
  {
   "cell_type": "code",
   "execution_count": 15,
   "metadata": {},
   "outputs": [
    {
     "data": {
      "text/plain": [
       "(32561, 15)"
      ]
     },
     "execution_count": 15,
     "metadata": {},
     "output_type": "execute_result"
    }
   ],
   "source": [
    "data.shape"
   ]
  },
  {
   "cell_type": "code",
   "execution_count": 16,
   "metadata": {},
   "outputs": [],
   "source": [
    "data = data.replace(' ?',np.nan)"
   ]
  },
  {
   "cell_type": "code",
   "execution_count": 17,
   "metadata": {},
   "outputs": [
    {
     "data": {
      "text/plain": [
       "<matplotlib.axes._subplots.AxesSubplot at 0x23df5f9aa90>"
      ]
     },
     "execution_count": 17,
     "metadata": {},
     "output_type": "execute_result"
    },
    {
     "data": {
      "image/png": "[encoded data removed]",
      "text/plain": [
       "<Figure size 432x288 with 2 Axes>"
      ]
     },
     "metadata": {
      "needs_background": "light"
     },
     "output_type": "display_data"
    }
   ],
   "source": [
    "# Create the heatmap using seaborn to visualize the null values in dataset\n",
    "sns.heatmap(data.isnull(),robust=True)"
   ]
  },
  {
   "cell_type": "code",
   "execution_count": 18,
   "metadata": {},
   "outputs": [
    {
     "data": {
      "text/plain": [
       "(array([24720.,     0.,  7841.]),\n",
       " array([0.        , 0.33333333, 0.66666667, 1.        ]),\n",
       " <a list of 3 Patch objects>)"
      ]
     },
     "execution_count": 18,
     "metadata": {},
     "output_type": "execute_result"
    },
    {
     "data": {
      "image/png": "[encoded data removed]",
      "text/plain": [
       "<Figure size 432x288 with 1 Axes>"
      ]
     },
     "metadata": {
      "needs_background": "light"
     },
     "output_type": "display_data"
    }
   ],
   "source": [
    "plt.hist(data['salary'],bins=3)"
   ]
  },
  {
   "cell_type": "code",
   "execution_count": 19,
   "metadata": {},
   "outputs": [],
   "source": [
    "data = data.dropna()"
   ]
  },
  {
   "cell_type": "code",
   "execution_count": 20,
   "metadata": {},
   "outputs": [
    {
     "data": {
      "text/plain": [
       "<matplotlib.axes._subplots.AxesSubplot at 0x23df5cb22e8>"
      ]
     },
     "execution_count": 20,
     "metadata": {},
     "output_type": "execute_result"
    },
    {
     "data": {
      "image/png": "[encoded data removed]",
      "text/plain": [
       "<Figure size 432x288 with 2 Axes>"
      ]
     },
     "metadata": {
      "needs_background": "light"
     },
     "output_type": "display_data"
    }
   ],
   "source": [
    "# Create the heatmap using seaborn to visualize the null values in dataset\n",
    "sns.heatmap(data.isnull(),robust=True)"
   ]
  },
  {
   "cell_type": "code",
   "execution_count": 21,
   "metadata": {},
   "outputs": [
    {
     "data": {
      "text/plain": [
       "(array([22654.,     0.,  7508.]),\n",
       " array([0.        , 0.33333333, 0.66666667, 1.        ]),\n",
       " <a list of 3 Patch objects>)"
      ]
     },
     "execution_count": 21,
     "metadata": {},
     "output_type": "execute_result"
    },
    {
     "data": {
      "image/png": "[encoded data removed]",
      "text/plain": [
       "<Figure size 432x288 with 1 Axes>"
      ]
     },
     "metadata": {
      "needs_background": "light"
     },
     "output_type": "display_data"
    }
   ],
   "source": [
    "plt.hist(data['salary'],bins=3)"
   ]
  },
  {
   "cell_type": "code",
   "execution_count": 22,
   "metadata": {},
   "outputs": [
    {
     "data": {
      "text/plain": [
       "(30162, 15)"
      ]
     },
     "execution_count": 22,
     "metadata": {},
     "output_type": "execute_result"
    }
   ],
   "source": [
    "data.shape"
   ]
  },
  {
   "cell_type": "markdown",
   "metadata": {},
   "source": [
    "## Label Encoding on Categorical Values"
   ]
  },
  {
   "cell_type": "code",
   "execution_count": 23,
   "metadata": {},
   "outputs": [],
   "source": [
    "le_Workclass = LabelEncoder()\n",
    "le_Education = LabelEncoder()\n",
    "le_Occupation = LabelEncoder()\n",
    "le_Country = LabelEncoder()"
   ]
  },
  {
   "cell_type": "code",
   "execution_count": 24,
   "metadata": {},
   "outputs": [],
   "source": [
    "# create the checkpoint by copying the data in data_copy\n",
    "data_copy = data.copy(deep=True)"
   ]
  },
  {
   "cell_type": "code",
   "execution_count": 25,
   "metadata": {},
   "outputs": [],
   "source": [
    "# fit and transform used for Label encoding\n",
    "data['Workclass'] = le_Workclass.fit_transform(data['Workclass'])\n",
    "data['Education'] = le_Education.fit_transform(data['Education'])\n",
    "data['Occupation'] = le_Occupation.fit_transform(data['Occupation'])\n",
    "data['Country'] = le_Country.fit_transform(data['Country'])"
   ]
  },
  {
   "cell_type": "code",
   "execution_count": 26,
   "metadata": {},
   "outputs": [
    {
     "data": {
      "text/html": [
       "<div>\n",
       "<style scoped>\n",
       "    .dataframe tbody tr th:only-of-type {\n",
       "        vertical-align: middle;\n",
       "    }\n",
       "\n",
       "    .dataframe tbody tr th {\n",
       "        vertical-align: top;\n",
       "    }\n",
       "\n",
       "    .dataframe thead th {\n",
       "        text-align: right;\n",
       "    }\n",
       "</style>\n",
       "<table border=\"1\" class=\"dataframe\">\n",
       "  <thead>\n",
       "    <tr style=\"text-align: right;\">\n",
       "      <th></th>\n",
       "      <th>Age</th>\n",
       "      <th>Workclass</th>\n",
       "      <th>fnlwgt</th>\n",
       "      <th>Education</th>\n",
       "      <th>Education-Num</th>\n",
       "      <th>Martial Status</th>\n",
       "      <th>Occupation</th>\n",
       "      <th>Relationship</th>\n",
       "      <th>Race</th>\n",
       "      <th>Sex</th>\n",
       "      <th>Capital Gain</th>\n",
       "      <th>Capital Loss</th>\n",
       "      <th>Hours per week</th>\n",
       "      <th>Country</th>\n",
       "      <th>salary</th>\n",
       "    </tr>\n",
       "  </thead>\n",
       "  <tbody>\n",
       "    <tr>\n",
       "      <th>0</th>\n",
       "      <td>39</td>\n",
       "      <td>5</td>\n",
       "      <td>77516</td>\n",
       "      <td>9</td>\n",
       "      <td>13</td>\n",
       "      <td>Never-married</td>\n",
       "      <td>0</td>\n",
       "      <td>Not-in-family</td>\n",
       "      <td>White</td>\n",
       "      <td>Male</td>\n",
       "      <td>2174</td>\n",
       "      <td>0</td>\n",
       "      <td>40</td>\n",
       "      <td>38</td>\n",
       "      <td>0</td>\n",
       "    </tr>\n",
       "    <tr>\n",
       "      <th>1</th>\n",
       "      <td>50</td>\n",
       "      <td>4</td>\n",
       "      <td>83311</td>\n",
       "      <td>9</td>\n",
       "      <td>13</td>\n",
       "      <td>Married-civ-spouse</td>\n",
       "      <td>3</td>\n",
       "      <td>Husband</td>\n",
       "      <td>White</td>\n",
       "      <td>Male</td>\n",
       "      <td>0</td>\n",
       "      <td>0</td>\n",
       "      <td>13</td>\n",
       "      <td>38</td>\n",
       "      <td>0</td>\n",
       "    </tr>\n",
       "    <tr>\n",
       "      <th>2</th>\n",
       "      <td>38</td>\n",
       "      <td>2</td>\n",
       "      <td>215646</td>\n",
       "      <td>11</td>\n",
       "      <td>9</td>\n",
       "      <td>Divorced</td>\n",
       "      <td>5</td>\n",
       "      <td>Not-in-family</td>\n",
       "      <td>White</td>\n",
       "      <td>Male</td>\n",
       "      <td>0</td>\n",
       "      <td>0</td>\n",
       "      <td>40</td>\n",
       "      <td>38</td>\n",
       "      <td>0</td>\n",
       "    </tr>\n",
       "    <tr>\n",
       "      <th>3</th>\n",
       "      <td>53</td>\n",
       "      <td>2</td>\n",
       "      <td>234721</td>\n",
       "      <td>1</td>\n",
       "      <td>7</td>\n",
       "      <td>Married-civ-spouse</td>\n",
       "      <td>5</td>\n",
       "      <td>Husband</td>\n",
       "      <td>Black</td>\n",
       "      <td>Male</td>\n",
       "      <td>0</td>\n",
       "      <td>0</td>\n",
       "      <td>40</td>\n",
       "      <td>38</td>\n",
       "      <td>0</td>\n",
       "    </tr>\n",
       "    <tr>\n",
       "      <th>4</th>\n",
       "      <td>28</td>\n",
       "      <td>2</td>\n",
       "      <td>338409</td>\n",
       "      <td>9</td>\n",
       "      <td>13</td>\n",
       "      <td>Married-civ-spouse</td>\n",
       "      <td>9</td>\n",
       "      <td>Wife</td>\n",
       "      <td>Black</td>\n",
       "      <td>Female</td>\n",
       "      <td>0</td>\n",
       "      <td>0</td>\n",
       "      <td>40</td>\n",
       "      <td>4</td>\n",
       "      <td>0</td>\n",
       "    </tr>\n",
       "  </tbody>\n",
       "</table>\n",
       "</div>"
      ],
      "text/plain": [
       "   Age  Workclass  fnlwgt  Education  Education-Num       Martial Status  \\\n",
       "0   39          5   77516          9             13        Never-married   \n",
       "1   50          4   83311          9             13   Married-civ-spouse   \n",
       "2   38          2  215646         11              9             Divorced   \n",
       "3   53          2  234721          1              7   Married-civ-spouse   \n",
       "4   28          2  338409          9             13   Married-civ-spouse   \n",
       "\n",
       "   Occupation    Relationship    Race      Sex  Capital Gain  Capital Loss  \\\n",
       "0           0   Not-in-family   White     Male          2174             0   \n",
       "1           3         Husband   White     Male             0             0   \n",
       "2           5   Not-in-family   White     Male             0             0   \n",
       "3           5         Husband   Black     Male             0             0   \n",
       "4           9            Wife   Black   Female             0             0   \n",
       "\n",
       "   Hours per week  Country  salary  \n",
       "0              40       38       0  \n",
       "1              13       38       0  \n",
       "2              40       38       0  \n",
       "3              40       38       0  \n",
       "4              40        4       0  "
      ]
     },
     "execution_count": 26,
     "metadata": {},
     "output_type": "execute_result"
    }
   ],
   "source": [
    "data.head()"
   ]
  },
  {
   "cell_type": "markdown",
   "metadata": {},
   "source": [
    "## Hot - encoding"
   ]
  },
  {
   "cell_type": "code",
   "execution_count": 27,
   "metadata": {},
   "outputs": [],
   "source": [
    "Martial_Status_dummy = pd.get_dummies(data['Martial Status'],drop_first=True)\n",
    "Relationship_dummy = pd.get_dummies(data['Relationship'],drop_first=True)\n",
    "Race_dummy = pd.get_dummies(data['Race'],drop_first=True)\n",
    "Sex_dummy = pd.get_dummies(data['Sex'],drop_first=True)"
   ]
  },
  {
   "cell_type": "code",
   "execution_count": 28,
   "metadata": {},
   "outputs": [],
   "source": [
    "# creating the checkpoint\n",
    "data_copy = data.copy(deep=True)"
   ]
  },
  {
   "cell_type": "code",
   "execution_count": 29,
   "metadata": {},
   "outputs": [],
   "source": [
    "data = pd.concat([Martial_Status_dummy,Relationship_dummy,Race_dummy,Sex_dummy,data],axis=1)"
   ]
  },
  {
   "cell_type": "code",
   "execution_count": 30,
   "metadata": {},
   "outputs": [],
   "source": [
    "data.drop(['Martial Status','Relationship','Race','Sex'],axis=1,inplace=True)"
   ]
  },
  {
   "cell_type": "code",
   "execution_count": 31,
   "metadata": {},
   "outputs": [
    {
     "data": {
      "text/html": [
       "<div>\n",
       "<style scoped>\n",
       "    .dataframe tbody tr th:only-of-type {\n",
       "        vertical-align: middle;\n",
       "    }\n",
       "\n",
       "    .dataframe tbody tr th {\n",
       "        vertical-align: top;\n",
       "    }\n",
       "\n",
       "    .dataframe thead th {\n",
       "        text-align: right;\n",
       "    }\n",
       "</style>\n",
       "<table border=\"1\" class=\"dataframe\">\n",
       "  <thead>\n",
       "    <tr style=\"text-align: right;\">\n",
       "      <th></th>\n",
       "      <th>Married-AF-spouse</th>\n",
       "      <th>Married-civ-spouse</th>\n",
       "      <th>Married-spouse-absent</th>\n",
       "      <th>Never-married</th>\n",
       "      <th>Separated</th>\n",
       "      <th>Widowed</th>\n",
       "      <th>Not-in-family</th>\n",
       "      <th>Other-relative</th>\n",
       "      <th>Own-child</th>\n",
       "      <th>Unmarried</th>\n",
       "      <th>...</th>\n",
       "      <th>Workclass</th>\n",
       "      <th>fnlwgt</th>\n",
       "      <th>Education</th>\n",
       "      <th>Education-Num</th>\n",
       "      <th>Occupation</th>\n",
       "      <th>Capital Gain</th>\n",
       "      <th>Capital Loss</th>\n",
       "      <th>Hours per week</th>\n",
       "      <th>Country</th>\n",
       "      <th>salary</th>\n",
       "    </tr>\n",
       "  </thead>\n",
       "  <tbody>\n",
       "    <tr>\n",
       "      <th>0</th>\n",
       "      <td>0</td>\n",
       "      <td>0</td>\n",
       "      <td>0</td>\n",
       "      <td>1</td>\n",
       "      <td>0</td>\n",
       "      <td>0</td>\n",
       "      <td>1</td>\n",
       "      <td>0</td>\n",
       "      <td>0</td>\n",
       "      <td>0</td>\n",
       "      <td>...</td>\n",
       "      <td>5</td>\n",
       "      <td>77516</td>\n",
       "      <td>9</td>\n",
       "      <td>13</td>\n",
       "      <td>0</td>\n",
       "      <td>2174</td>\n",
       "      <td>0</td>\n",
       "      <td>40</td>\n",
       "      <td>38</td>\n",
       "      <td>0</td>\n",
       "    </tr>\n",
       "    <tr>\n",
       "      <th>1</th>\n",
       "      <td>0</td>\n",
       "      <td>1</td>\n",
       "      <td>0</td>\n",
       "      <td>0</td>\n",
       "      <td>0</td>\n",
       "      <td>0</td>\n",
       "      <td>0</td>\n",
       "      <td>0</td>\n",
       "      <td>0</td>\n",
       "      <td>0</td>\n",
       "      <td>...</td>\n",
       "      <td>4</td>\n",
       "      <td>83311</td>\n",
       "      <td>9</td>\n",
       "      <td>13</td>\n",
       "      <td>3</td>\n",
       "      <td>0</td>\n",
       "      <td>0</td>\n",
       "      <td>13</td>\n",
       "      <td>38</td>\n",
       "      <td>0</td>\n",
       "    </tr>\n",
       "    <tr>\n",
       "      <th>2</th>\n",
       "      <td>0</td>\n",
       "      <td>0</td>\n",
       "      <td>0</td>\n",
       "      <td>0</td>\n",
       "      <td>0</td>\n",
       "      <td>0</td>\n",
       "      <td>1</td>\n",
       "      <td>0</td>\n",
       "      <td>0</td>\n",
       "      <td>0</td>\n",
       "      <td>...</td>\n",
       "      <td>2</td>\n",
       "      <td>215646</td>\n",
       "      <td>11</td>\n",
       "      <td>9</td>\n",
       "      <td>5</td>\n",
       "      <td>0</td>\n",
       "      <td>0</td>\n",
       "      <td>40</td>\n",
       "      <td>38</td>\n",
       "      <td>0</td>\n",
       "    </tr>\n",
       "    <tr>\n",
       "      <th>3</th>\n",
       "      <td>0</td>\n",
       "      <td>1</td>\n",
       "      <td>0</td>\n",
       "      <td>0</td>\n",
       "      <td>0</td>\n",
       "      <td>0</td>\n",
       "      <td>0</td>\n",
       "      <td>0</td>\n",
       "      <td>0</td>\n",
       "      <td>0</td>\n",
       "      <td>...</td>\n",
       "      <td>2</td>\n",
       "      <td>234721</td>\n",
       "      <td>1</td>\n",
       "      <td>7</td>\n",
       "      <td>5</td>\n",
       "      <td>0</td>\n",
       "      <td>0</td>\n",
       "      <td>40</td>\n",
       "      <td>38</td>\n",
       "      <td>0</td>\n",
       "    </tr>\n",
       "    <tr>\n",
       "      <th>4</th>\n",
       "      <td>0</td>\n",
       "      <td>1</td>\n",
       "      <td>0</td>\n",
       "      <td>0</td>\n",
       "      <td>0</td>\n",
       "      <td>0</td>\n",
       "      <td>0</td>\n",
       "      <td>0</td>\n",
       "      <td>0</td>\n",
       "      <td>0</td>\n",
       "      <td>...</td>\n",
       "      <td>2</td>\n",
       "      <td>338409</td>\n",
       "      <td>9</td>\n",
       "      <td>13</td>\n",
       "      <td>9</td>\n",
       "      <td>0</td>\n",
       "      <td>0</td>\n",
       "      <td>40</td>\n",
       "      <td>4</td>\n",
       "      <td>0</td>\n",
       "    </tr>\n",
       "  </tbody>\n",
       "</table>\n",
       "<p>5 rows × 27 columns</p>\n",
       "</div>"
      ],
      "text/plain": [
       "    Married-AF-spouse   Married-civ-spouse   Married-spouse-absent  \\\n",
       "0                   0                    0                       0   \n",
       "1                   0                    1                       0   \n",
       "2                   0                    0                       0   \n",
       "3                   0                    1                       0   \n",
       "4                   0                    1                       0   \n",
       "\n",
       "    Never-married   Separated   Widowed   Not-in-family   Other-relative  \\\n",
       "0               1           0         0               1                0   \n",
       "1               0           0         0               0                0   \n",
       "2               0           0         0               1                0   \n",
       "3               0           0         0               0                0   \n",
       "4               0           0         0               0                0   \n",
       "\n",
       "    Own-child   Unmarried  ...  Workclass  fnlwgt  Education  Education-Num  \\\n",
       "0           0           0  ...          5   77516          9             13   \n",
       "1           0           0  ...          4   83311          9             13   \n",
       "2           0           0  ...          2  215646         11              9   \n",
       "3           0           0  ...          2  234721          1              7   \n",
       "4           0           0  ...          2  338409          9             13   \n",
       "\n",
       "   Occupation  Capital Gain  Capital Loss  Hours per week  Country  salary  \n",
       "0           0          2174             0              40       38       0  \n",
       "1           3             0             0              13       38       0  \n",
       "2           5             0             0              40       38       0  \n",
       "3           5             0             0              40       38       0  \n",
       "4           9             0             0              40        4       0  \n",
       "\n",
       "[5 rows x 27 columns]"
      ]
     },
     "execution_count": 31,
     "metadata": {},
     "output_type": "execute_result"
    }
   ],
   "source": [
    "data.head()"
   ]
  },
  {
   "cell_type": "code",
   "execution_count": 32,
   "metadata": {},
   "outputs": [
    {
     "name": "stdout",
     "output_type": "stream",
     "text": [
      "<class 'pandas.core.frame.DataFrame'>\n",
      "Int64Index: 30162 entries, 0 to 32560\n",
      "Data columns (total 27 columns):\n",
      " Married-AF-spouse        30162 non-null uint8\n",
      " Married-civ-spouse       30162 non-null uint8\n",
      " Married-spouse-absent    30162 non-null uint8\n",
      " Never-married            30162 non-null uint8\n",
      " Separated                30162 non-null uint8\n",
      " Widowed                  30162 non-null uint8\n",
      " Not-in-family            30162 non-null uint8\n",
      " Other-relative           30162 non-null uint8\n",
      " Own-child                30162 non-null uint8\n",
      " Unmarried                30162 non-null uint8\n",
      " Wife                     30162 non-null uint8\n",
      " Asian-Pac-Islander       30162 non-null uint8\n",
      " Black                    30162 non-null uint8\n",
      " Other                    30162 non-null uint8\n",
      " White                    30162 non-null uint8\n",
      " Male                     30162 non-null uint8\n",
      "Age                       30162 non-null int64\n",
      "Workclass                 30162 non-null int32\n",
      "fnlwgt                    30162 non-null int64\n",
      "Education                 30162 non-null int32\n",
      "Education-Num             30162 non-null int64\n",
      "Occupation                30162 non-null int32\n",
      "Capital Gain              30162 non-null int64\n",
      "Capital Loss              30162 non-null int64\n",
      "Hours per week            30162 non-null int64\n",
      "Country                   30162 non-null int32\n",
      "salary                    30162 non-null int64\n",
      "dtypes: int32(4), int64(7), uint8(16)\n",
      "memory usage: 2.8 MB\n"
     ]
    }
   ],
   "source": [
    "data.info()"
   ]
  },
  {
   "cell_type": "code",
   "execution_count": 33,
   "metadata": {},
   "outputs": [
    {
     "data": {
      "text/plain": [
       "Index([' Married-AF-spouse', ' Married-civ-spouse', ' Married-spouse-absent',\n",
       "       ' Never-married', ' Separated', ' Widowed', ' Not-in-family',\n",
       "       ' Other-relative', ' Own-child', ' Unmarried', ' Wife',\n",
       "       ' Asian-Pac-Islander', ' Black', ' Other', ' White', ' Male', 'Age',\n",
       "       'Workclass', 'fnlwgt', 'Education', 'Education-Num', 'Occupation',\n",
       "       'Capital Gain', 'Capital Loss', 'Hours per week', 'Country', 'salary'],\n",
       "      dtype='object')"
      ]
     },
     "execution_count": 33,
     "metadata": {},
     "output_type": "execute_result"
    }
   ],
   "source": [
    "data.columns"
   ]
  },
  {
   "cell_type": "code",
   "execution_count": 34,
   "metadata": {},
   "outputs": [],
   "source": [
    "# Columns to be standardised\n",
    "data_to_be_scaled = data[['Age',\n",
    "       'Workclass', 'fnlwgt', 'Education', 'Education-Num', 'Occupation',\n",
    "       'Capital Gain', 'Capital Loss', 'Hours per week', 'Country']]"
   ]
  },
  {
   "cell_type": "code",
   "execution_count": 35,
   "metadata": {},
   "outputs": [],
   "source": [
    "# Columns not to be standardised\n",
    "data_not_to_be_scaled = data[[' Married-AF-spouse', ' Married-civ-spouse', ' Married-spouse-absent',\n",
    "       ' Never-married', ' Separated', ' Widowed', ' Not-in-family',\n",
    "       ' Other-relative', ' Own-child', ' Unmarried', ' Wife',\n",
    "       ' Asian-Pac-Islander', ' Black', ' Other', ' White', ' Male','salary']]"
   ]
  },
  {
   "cell_type": "code",
   "execution_count": 36,
   "metadata": {},
   "outputs": [],
   "source": [
    "scalar = StandardScaler()"
   ]
  },
  {
   "cell_type": "code",
   "execution_count": 37,
   "metadata": {},
   "outputs": [
    {
     "name": "stderr",
     "output_type": "stream",
     "text": [
      "F:\\Anaconda\\lib\\site-packages\\sklearn\\preprocessing\\data.py:645: DataConversionWarning: Data with input dtype int32, int64 were all converted to float64 by StandardScaler.\n",
      "  return self.partial_fit(X, y)\n",
      "F:\\Anaconda\\lib\\site-packages\\sklearn\\base.py:464: DataConversionWarning: Data with input dtype int32, int64 were all converted to float64 by StandardScaler.\n",
      "  return self.fit(X, **fit_params).transform(X)\n"
     ]
    }
   ],
   "source": [
    "std_data = scalar.fit_transform(data_to_be_scaled)"
   ]
  },
  {
   "cell_type": "code",
   "execution_count": 38,
   "metadata": {},
   "outputs": [
    {
     "data": {
      "text/plain": [
       "(30162, 10)"
      ]
     },
     "execution_count": 38,
     "metadata": {},
     "output_type": "execute_result"
    }
   ],
   "source": [
    "std_data.shape"
   ]
  },
  {
   "cell_type": "code",
   "execution_count": 39,
   "metadata": {},
   "outputs": [
    {
     "data": {
      "text/plain": [
       "(30162, 17)"
      ]
     },
     "execution_count": 39,
     "metadata": {},
     "output_type": "execute_result"
    }
   ],
   "source": [
    "data_not_to_be_scaled.shape"
   ]
  },
  {
   "cell_type": "code",
   "execution_count": 40,
   "metadata": {},
   "outputs": [],
   "source": [
    "# Horizontally stacking the standardised and not standardised columns\n",
    "data = pd.DataFrame(np.hstack([data_not_to_be_scaled,std_data]))"
   ]
  },
  {
   "cell_type": "code",
   "execution_count": 41,
   "metadata": {},
   "outputs": [],
   "source": [
    "# Assigning the columns according to order it was horizaontally stacked\n",
    "data.columns = [' Married-AF-spouse', ' Married-civ-spouse', ' Married-spouse-absent',\n",
    "       ' Never-married', ' Separated', ' Widowed', ' Not-in-family',\n",
    "       ' Other-relative', ' Own-child', ' Unmarried', ' Wife',\n",
    "       ' Asian-Pac-Islander', ' Black', ' Other', ' White', ' Male','salary','Age',\n",
    "       'Workclass', 'fnlwgt', 'Education', 'Education-Num', 'Occupation',\n",
    "       'Capital Gain', 'Capital Loss', 'Hours per week', 'Country']"
   ]
  },
  {
   "cell_type": "code",
   "execution_count": 42,
   "metadata": {},
   "outputs": [],
   "source": [
    "# Re-arranging the columns of data sp that 'salary' column comes last\n",
    "data = data[[' Married-AF-spouse', ' Married-civ-spouse', ' Married-spouse-absent',\n",
    "       ' Never-married', ' Separated', ' Widowed', ' Not-in-family',\n",
    "       ' Other-relative', ' Own-child', ' Unmarried', ' Wife',\n",
    "       ' Asian-Pac-Islander', ' Black', ' Other', ' White', ' Male','Age',\n",
    "       'Workclass', 'fnlwgt', 'Education', 'Education-Num', 'Occupation',\n",
    "       'Capital Gain', 'Capital Loss', 'Hours per week', 'Country','salary']]"
   ]
  },
  {
   "cell_type": "code",
   "execution_count": 43,
   "metadata": {},
   "outputs": [
    {
     "data": {
      "text/html": [
       "<div>\n",
       "<style scoped>\n",
       "    .dataframe tbody tr th:only-of-type {\n",
       "        vertical-align: middle;\n",
       "    }\n",
       "\n",
       "    .dataframe tbody tr th {\n",
       "        vertical-align: top;\n",
       "    }\n",
       "\n",
       "    .dataframe thead th {\n",
       "        text-align: right;\n",
       "    }\n",
       "</style>\n",
       "<table border=\"1\" class=\"dataframe\">\n",
       "  <thead>\n",
       "    <tr style=\"text-align: right;\">\n",
       "      <th></th>\n",
       "      <th>Married-AF-spouse</th>\n",
       "      <th>Married-civ-spouse</th>\n",
       "      <th>Married-spouse-absent</th>\n",
       "      <th>Never-married</th>\n",
       "      <th>Separated</th>\n",
       "      <th>Widowed</th>\n",
       "      <th>Not-in-family</th>\n",
       "      <th>Other-relative</th>\n",
       "      <th>Own-child</th>\n",
       "      <th>Unmarried</th>\n",
       "      <th>...</th>\n",
       "      <th>Workclass</th>\n",
       "      <th>fnlwgt</th>\n",
       "      <th>Education</th>\n",
       "      <th>Education-Num</th>\n",
       "      <th>Occupation</th>\n",
       "      <th>Capital Gain</th>\n",
       "      <th>Capital Loss</th>\n",
       "      <th>Hours per week</th>\n",
       "      <th>Country</th>\n",
       "      <th>salary</th>\n",
       "    </tr>\n",
       "  </thead>\n",
       "  <tbody>\n",
       "    <tr>\n",
       "      <th>0</th>\n",
       "      <td>0.0</td>\n",
       "      <td>0.0</td>\n",
       "      <td>0.0</td>\n",
       "      <td>1.0</td>\n",
       "      <td>0.0</td>\n",
       "      <td>0.0</td>\n",
       "      <td>1.0</td>\n",
       "      <td>0.0</td>\n",
       "      <td>0.0</td>\n",
       "      <td>0.0</td>\n",
       "      <td>...</td>\n",
       "      <td>2.936000</td>\n",
       "      <td>-1.062722</td>\n",
       "      <td>-0.349865</td>\n",
       "      <td>1.128918</td>\n",
       "      <td>-1.479055</td>\n",
       "      <td>0.146092</td>\n",
       "      <td>-0.218586</td>\n",
       "      <td>-0.077734</td>\n",
       "      <td>0.264924</td>\n",
       "      <td>0.0</td>\n",
       "    </tr>\n",
       "    <tr>\n",
       "      <th>1</th>\n",
       "      <td>0.0</td>\n",
       "      <td>1.0</td>\n",
       "      <td>0.0</td>\n",
       "      <td>0.0</td>\n",
       "      <td>0.0</td>\n",
       "      <td>0.0</td>\n",
       "      <td>0.0</td>\n",
       "      <td>0.0</td>\n",
       "      <td>0.0</td>\n",
       "      <td>0.0</td>\n",
       "      <td>...</td>\n",
       "      <td>1.887682</td>\n",
       "      <td>-1.007871</td>\n",
       "      <td>-0.349865</td>\n",
       "      <td>1.128918</td>\n",
       "      <td>-0.734545</td>\n",
       "      <td>-0.147445</td>\n",
       "      <td>-0.218586</td>\n",
       "      <td>-2.331531</td>\n",
       "      <td>0.264924</td>\n",
       "      <td>0.0</td>\n",
       "    </tr>\n",
       "    <tr>\n",
       "      <th>2</th>\n",
       "      <td>0.0</td>\n",
       "      <td>0.0</td>\n",
       "      <td>0.0</td>\n",
       "      <td>0.0</td>\n",
       "      <td>0.0</td>\n",
       "      <td>0.0</td>\n",
       "      <td>1.0</td>\n",
       "      <td>0.0</td>\n",
       "      <td>0.0</td>\n",
       "      <td>0.0</td>\n",
       "      <td>...</td>\n",
       "      <td>-0.208955</td>\n",
       "      <td>0.244693</td>\n",
       "      <td>0.174763</td>\n",
       "      <td>-0.439738</td>\n",
       "      <td>-0.238206</td>\n",
       "      <td>-0.147445</td>\n",
       "      <td>-0.218586</td>\n",
       "      <td>-0.077734</td>\n",
       "      <td>0.264924</td>\n",
       "      <td>0.0</td>\n",
       "    </tr>\n",
       "    <tr>\n",
       "      <th>3</th>\n",
       "      <td>0.0</td>\n",
       "      <td>1.0</td>\n",
       "      <td>0.0</td>\n",
       "      <td>0.0</td>\n",
       "      <td>0.0</td>\n",
       "      <td>0.0</td>\n",
       "      <td>0.0</td>\n",
       "      <td>0.0</td>\n",
       "      <td>0.0</td>\n",
       "      <td>0.0</td>\n",
       "      <td>...</td>\n",
       "      <td>-0.208955</td>\n",
       "      <td>0.425240</td>\n",
       "      <td>-2.448375</td>\n",
       "      <td>-1.224066</td>\n",
       "      <td>-0.238206</td>\n",
       "      <td>-0.147445</td>\n",
       "      <td>-0.218586</td>\n",
       "      <td>-0.077734</td>\n",
       "      <td>0.264924</td>\n",
       "      <td>0.0</td>\n",
       "    </tr>\n",
       "    <tr>\n",
       "      <th>4</th>\n",
       "      <td>0.0</td>\n",
       "      <td>1.0</td>\n",
       "      <td>0.0</td>\n",
       "      <td>0.0</td>\n",
       "      <td>0.0</td>\n",
       "      <td>0.0</td>\n",
       "      <td>0.0</td>\n",
       "      <td>0.0</td>\n",
       "      <td>0.0</td>\n",
       "      <td>0.0</td>\n",
       "      <td>...</td>\n",
       "      <td>-0.208955</td>\n",
       "      <td>1.406658</td>\n",
       "      <td>-0.349865</td>\n",
       "      <td>1.128918</td>\n",
       "      <td>0.754473</td>\n",
       "      <td>-0.147445</td>\n",
       "      <td>-0.218586</td>\n",
       "      <td>-0.077734</td>\n",
       "      <td>-5.304034</td>\n",
       "      <td>0.0</td>\n",
       "    </tr>\n",
       "  </tbody>\n",
       "</table>\n",
       "<p>5 rows × 27 columns</p>\n",
       "</div>"
      ],
      "text/plain": [
       "    Married-AF-spouse   Married-civ-spouse   Married-spouse-absent  \\\n",
       "0                 0.0                  0.0                     0.0   \n",
       "1                 0.0                  1.0                     0.0   \n",
       "2                 0.0                  0.0                     0.0   \n",
       "3                 0.0                  1.0                     0.0   \n",
       "4                 0.0                  1.0                     0.0   \n",
       "\n",
       "    Never-married   Separated   Widowed   Not-in-family   Other-relative  \\\n",
       "0             1.0         0.0       0.0             1.0              0.0   \n",
       "1             0.0         0.0       0.0             0.0              0.0   \n",
       "2             0.0         0.0       0.0             1.0              0.0   \n",
       "3             0.0         0.0       0.0             0.0              0.0   \n",
       "4             0.0         0.0       0.0             0.0              0.0   \n",
       "\n",
       "    Own-child   Unmarried  ...  Workclass    fnlwgt  Education  Education-Num  \\\n",
       "0         0.0         0.0  ...   2.936000 -1.062722  -0.349865       1.128918   \n",
       "1         0.0         0.0  ...   1.887682 -1.007871  -0.349865       1.128918   \n",
       "2         0.0         0.0  ...  -0.208955  0.244693   0.174763      -0.439738   \n",
       "3         0.0         0.0  ...  -0.208955  0.425240  -2.448375      -1.224066   \n",
       "4         0.0         0.0  ...  -0.208955  1.406658  -0.349865       1.128918   \n",
       "\n",
       "   Occupation  Capital Gain  Capital Loss  Hours per week   Country  salary  \n",
       "0   -1.479055      0.146092     -0.218586       -0.077734  0.264924     0.0  \n",
       "1   -0.734545     -0.147445     -0.218586       -2.331531  0.264924     0.0  \n",
       "2   -0.238206     -0.147445     -0.218586       -0.077734  0.264924     0.0  \n",
       "3   -0.238206     -0.147445     -0.218586       -0.077734  0.264924     0.0  \n",
       "4    0.754473     -0.147445     -0.218586       -0.077734 -5.304034     0.0  \n",
       "\n",
       "[5 rows x 27 columns]"
      ]
     },
     "execution_count": 43,
     "metadata": {},
     "output_type": "execute_result"
    }
   ],
   "source": [
    "data.head()"
   ]
  },
  {
   "cell_type": "markdown",
   "metadata": {},
   "source": [
    "# Splitting the data in training and test"
   ]
  },
  {
   "cell_type": "code",
   "execution_count": 44,
   "metadata": {},
   "outputs": [],
   "source": [
    "X = data.iloc[:,:-1]\n",
    "y = data.iloc[:,-1]"
   ]
  },
  {
   "cell_type": "code",
   "execution_count": 45,
   "metadata": {
    "scrolled": true
   },
   "outputs": [
    {
     "data": {
      "text/html": [
       "<div>\n",
       "<style scoped>\n",
       "    .dataframe tbody tr th:only-of-type {\n",
       "        vertical-align: middle;\n",
       "    }\n",
       "\n",
       "    .dataframe tbody tr th {\n",
       "        vertical-align: top;\n",
       "    }\n",
       "\n",
       "    .dataframe thead th {\n",
       "        text-align: right;\n",
       "    }\n",
       "</style>\n",
       "<table border=\"1\" class=\"dataframe\">\n",
       "  <thead>\n",
       "    <tr style=\"text-align: right;\">\n",
       "      <th></th>\n",
       "      <th>Married-AF-spouse</th>\n",
       "      <th>Married-civ-spouse</th>\n",
       "      <th>Married-spouse-absent</th>\n",
       "      <th>Never-married</th>\n",
       "      <th>Separated</th>\n",
       "      <th>Widowed</th>\n",
       "      <th>Not-in-family</th>\n",
       "      <th>Other-relative</th>\n",
       "      <th>Own-child</th>\n",
       "      <th>Unmarried</th>\n",
       "      <th>...</th>\n",
       "      <th>Age</th>\n",
       "      <th>Workclass</th>\n",
       "      <th>fnlwgt</th>\n",
       "      <th>Education</th>\n",
       "      <th>Education-Num</th>\n",
       "      <th>Occupation</th>\n",
       "      <th>Capital Gain</th>\n",
       "      <th>Capital Loss</th>\n",
       "      <th>Hours per week</th>\n",
       "      <th>Country</th>\n",
       "    </tr>\n",
       "  </thead>\n",
       "  <tbody>\n",
       "    <tr>\n",
       "      <th>0</th>\n",
       "      <td>0.0</td>\n",
       "      <td>0.0</td>\n",
       "      <td>0.0</td>\n",
       "      <td>1.0</td>\n",
       "      <td>0.0</td>\n",
       "      <td>0.0</td>\n",
       "      <td>1.0</td>\n",
       "      <td>0.0</td>\n",
       "      <td>0.0</td>\n",
       "      <td>0.0</td>\n",
       "      <td>...</td>\n",
       "      <td>0.042796</td>\n",
       "      <td>2.936000</td>\n",
       "      <td>-1.062722</td>\n",
       "      <td>-0.349865</td>\n",
       "      <td>1.128918</td>\n",
       "      <td>-1.479055</td>\n",
       "      <td>0.146092</td>\n",
       "      <td>-0.218586</td>\n",
       "      <td>-0.077734</td>\n",
       "      <td>0.264924</td>\n",
       "    </tr>\n",
       "    <tr>\n",
       "      <th>1</th>\n",
       "      <td>0.0</td>\n",
       "      <td>1.0</td>\n",
       "      <td>0.0</td>\n",
       "      <td>0.0</td>\n",
       "      <td>0.0</td>\n",
       "      <td>0.0</td>\n",
       "      <td>0.0</td>\n",
       "      <td>0.0</td>\n",
       "      <td>0.0</td>\n",
       "      <td>0.0</td>\n",
       "      <td>...</td>\n",
       "      <td>0.880288</td>\n",
       "      <td>1.887682</td>\n",
       "      <td>-1.007871</td>\n",
       "      <td>-0.349865</td>\n",
       "      <td>1.128918</td>\n",
       "      <td>-0.734545</td>\n",
       "      <td>-0.147445</td>\n",
       "      <td>-0.218586</td>\n",
       "      <td>-2.331531</td>\n",
       "      <td>0.264924</td>\n",
       "    </tr>\n",
       "    <tr>\n",
       "      <th>2</th>\n",
       "      <td>0.0</td>\n",
       "      <td>0.0</td>\n",
       "      <td>0.0</td>\n",
       "      <td>0.0</td>\n",
       "      <td>0.0</td>\n",
       "      <td>0.0</td>\n",
       "      <td>1.0</td>\n",
       "      <td>0.0</td>\n",
       "      <td>0.0</td>\n",
       "      <td>0.0</td>\n",
       "      <td>...</td>\n",
       "      <td>-0.033340</td>\n",
       "      <td>-0.208955</td>\n",
       "      <td>0.244693</td>\n",
       "      <td>0.174763</td>\n",
       "      <td>-0.439738</td>\n",
       "      <td>-0.238206</td>\n",
       "      <td>-0.147445</td>\n",
       "      <td>-0.218586</td>\n",
       "      <td>-0.077734</td>\n",
       "      <td>0.264924</td>\n",
       "    </tr>\n",
       "    <tr>\n",
       "      <th>3</th>\n",
       "      <td>0.0</td>\n",
       "      <td>1.0</td>\n",
       "      <td>0.0</td>\n",
       "      <td>0.0</td>\n",
       "      <td>0.0</td>\n",
       "      <td>0.0</td>\n",
       "      <td>0.0</td>\n",
       "      <td>0.0</td>\n",
       "      <td>0.0</td>\n",
       "      <td>0.0</td>\n",
       "      <td>...</td>\n",
       "      <td>1.108695</td>\n",
       "      <td>-0.208955</td>\n",
       "      <td>0.425240</td>\n",
       "      <td>-2.448375</td>\n",
       "      <td>-1.224066</td>\n",
       "      <td>-0.238206</td>\n",
       "      <td>-0.147445</td>\n",
       "      <td>-0.218586</td>\n",
       "      <td>-0.077734</td>\n",
       "      <td>0.264924</td>\n",
       "    </tr>\n",
       "    <tr>\n",
       "      <th>4</th>\n",
       "      <td>0.0</td>\n",
       "      <td>1.0</td>\n",
       "      <td>0.0</td>\n",
       "      <td>0.0</td>\n",
       "      <td>0.0</td>\n",
       "      <td>0.0</td>\n",
       "      <td>0.0</td>\n",
       "      <td>0.0</td>\n",
       "      <td>0.0</td>\n",
       "      <td>0.0</td>\n",
       "      <td>...</td>\n",
       "      <td>-0.794697</td>\n",
       "      <td>-0.208955</td>\n",
       "      <td>1.406658</td>\n",
       "      <td>-0.349865</td>\n",
       "      <td>1.128918</td>\n",
       "      <td>0.754473</td>\n",
       "      <td>-0.147445</td>\n",
       "      <td>-0.218586</td>\n",
       "      <td>-0.077734</td>\n",
       "      <td>-5.304034</td>\n",
       "    </tr>\n",
       "  </tbody>\n",
       "</table>\n",
       "<p>5 rows × 26 columns</p>\n",
       "</div>"
      ],
      "text/plain": [
       "    Married-AF-spouse   Married-civ-spouse   Married-spouse-absent  \\\n",
       "0                 0.0                  0.0                     0.0   \n",
       "1                 0.0                  1.0                     0.0   \n",
       "2                 0.0                  0.0                     0.0   \n",
       "3                 0.0                  1.0                     0.0   \n",
       "4                 0.0                  1.0                     0.0   \n",
       "\n",
       "    Never-married   Separated   Widowed   Not-in-family   Other-relative  \\\n",
       "0             1.0         0.0       0.0             1.0              0.0   \n",
       "1             0.0         0.0       0.0             0.0              0.0   \n",
       "2             0.0         0.0       0.0             1.0              0.0   \n",
       "3             0.0         0.0       0.0             0.0              0.0   \n",
       "4             0.0         0.0       0.0             0.0              0.0   \n",
       "\n",
       "    Own-child   Unmarried  ...       Age  Workclass    fnlwgt  Education  \\\n",
       "0         0.0         0.0  ...  0.042796   2.936000 -1.062722  -0.349865   \n",
       "1         0.0         0.0  ...  0.880288   1.887682 -1.007871  -0.349865   \n",
       "2         0.0         0.0  ... -0.033340  -0.208955  0.244693   0.174763   \n",
       "3         0.0         0.0  ...  1.108695  -0.208955  0.425240  -2.448375   \n",
       "4         0.0         0.0  ... -0.794697  -0.208955  1.406658  -0.349865   \n",
       "\n",
       "   Education-Num  Occupation  Capital Gain  Capital Loss  Hours per week  \\\n",
       "0       1.128918   -1.479055      0.146092     -0.218586       -0.077734   \n",
       "1       1.128918   -0.734545     -0.147445     -0.218586       -2.331531   \n",
       "2      -0.439738   -0.238206     -0.147445     -0.218586       -0.077734   \n",
       "3      -1.224066   -0.238206     -0.147445     -0.218586       -0.077734   \n",
       "4       1.128918    0.754473     -0.147445     -0.218586       -0.077734   \n",
       "\n",
       "    Country  \n",
       "0  0.264924  \n",
       "1  0.264924  \n",
       "2  0.264924  \n",
       "3  0.264924  \n",
       "4 -5.304034  \n",
       "\n",
       "[5 rows x 26 columns]"
      ]
     },
     "execution_count": 45,
     "metadata": {},
     "output_type": "execute_result"
    }
   ],
   "source": [
    "X.head()"
   ]
  },
  {
   "cell_type": "code",
   "execution_count": 46,
   "metadata": {},
   "outputs": [
    {
     "name": "stderr",
     "output_type": "stream",
     "text": [
      "F:\\Anaconda\\lib\\site-packages\\sklearn\\model_selection\\_split.py:2179: FutureWarning: From version 0.21, test_size will always complement train_size unless both are specified.\n",
      "  FutureWarning)\n"
     ]
    }
   ],
   "source": [
    "X_train,X_test,y_train,y_test = train_test_split(X,y,train_size=0.8,random_state=10)"
   ]
  },
  {
   "cell_type": "markdown",
   "metadata": {},
   "source": [
    "# Applying Models"
   ]
  },
  {
   "cell_type": "markdown",
   "metadata": {},
   "source": [
    "## Logistic Regression"
   ]
  },
  {
   "cell_type": "code",
   "execution_count": 47,
   "metadata": {},
   "outputs": [],
   "source": [
    "from sklearn.linear_model import LogisticRegression\n",
    "from sklearn.model_selection import GridSearchCV\n",
    "from sklearn.metrics import accuracy_score,confusion_matrix,roc_curve"
   ]
  },
  {
   "cell_type": "code",
   "execution_count": 48,
   "metadata": {},
   "outputs": [],
   "source": [
    "params = {'penalty':['l1','l2'],'C':np.linspace(start=0.001,stop=2,num=30)}"
   ]
  },
  {
   "cell_type": "code",
   "execution_count": 49,
   "metadata": {},
   "outputs": [],
   "source": [
    "grid = GridSearchCV(LogisticRegression(random_state=10),params,refit=True,verbose=4)"
   ]
  },
  {
   "cell_type": "code",
   "execution_count": 50,
   "metadata": {},
   "outputs": [
    {
     "name": "stderr",
     "output_type": "stream",
     "text": [
      "F:\\Anaconda\\lib\\site-packages\\sklearn\\model_selection\\_split.py:2053: FutureWarning: You should specify a value for 'cv' instead of relying on the default value. The default value will change from 3 to 5 in version 0.22.\n",
      "  warnings.warn(CV_WARNING, FutureWarning)\n",
      "[Parallel(n_jobs=1)]: Using backend SequentialBackend with 1 concurrent workers.\n",
      "F:\\Anaconda\\lib\\site-packages\\sklearn\\linear_model\\logistic.py:433: FutureWarning: Default solver will be changed to 'lbfgs' in 0.22. Specify a solver to silence this warning.\n",
      "  FutureWarning)\n",
      "[Parallel(n_jobs=1)]: Done   1 out of   1 | elapsed:    0.1s remaining:    0.0s\n",
      "F:\\Anaconda\\lib\\site-packages\\sklearn\\linear_model\\logistic.py:433: FutureWarning: Default solver will be changed to 'lbfgs' in 0.22. Specify a solver to silence this warning.\n",
      "  FutureWarning)\n"
     ]
    },
    {
     "name": "stdout",
     "output_type": "stream",
     "text": [
      "Fitting 3 folds for each of 60 candidates, totalling 180 fits\n",
      "[CV] C=0.001, penalty=l1 .............................................\n",
      "[CV] .... C=0.001, penalty=l1, score=0.7769766285430134, total=   0.1s\n",
      "[CV] C=0.001, penalty=l1 .............................................\n",
      "[CV] .... C=0.001, penalty=l1, score=0.7742136018898421, total=   0.0s\n",
      "[CV] C=0.001, penalty=l1 .............................................\n",
      "[CV] ..... C=0.001, penalty=l1, score=0.772444665506093, total=   0.0s\n",
      "[CV] C=0.001, penalty=l2 .............................................\n",
      "[CV] .... C=0.001, penalty=l2, score=0.8218547986076579, total=   0.0s\n",
      "[CV] C=0.001, penalty=l2 .............................................\n"
     ]
    },
    {
     "name": "stderr",
     "output_type": "stream",
     "text": [
      "[Parallel(n_jobs=1)]: Done   2 out of   2 | elapsed:    0.1s remaining:    0.0s\n",
      "F:\\Anaconda\\lib\\site-packages\\sklearn\\linear_model\\logistic.py:433: FutureWarning: Default solver will be changed to 'lbfgs' in 0.22. Specify a solver to silence this warning.\n",
      "  FutureWarning)\n",
      "[Parallel(n_jobs=1)]: Done   3 out of   3 | elapsed:    0.2s remaining:    0.0s\n",
      "F:\\Anaconda\\lib\\site-packages\\sklearn\\linear_model\\logistic.py:433: FutureWarning: Default solver will be changed to 'lbfgs' in 0.22. Specify a solver to silence this warning.\n",
      "  FutureWarning)\n",
      "F:\\Anaconda\\lib\\site-packages\\sklearn\\linear_model\\logistic.py:433: FutureWarning: Default solver will be changed to 'lbfgs' in 0.22. Specify a solver to silence this warning.\n",
      "  FutureWarning)\n",
      "F:\\Anaconda\\lib\\site-packages\\sklearn\\linear_model\\logistic.py:433: FutureWarning: Default solver will be changed to 'lbfgs' in 0.22. Specify a solver to silence this warning.\n",
      "  FutureWarning)\n",
      "F:\\Anaconda\\lib\\site-packages\\sklearn\\linear_model\\logistic.py:433: FutureWarning: Default solver will be changed to 'lbfgs' in 0.22. Specify a solver to silence this warning.\n",
      "  FutureWarning)\n"
     ]
    },
    {
     "name": "stdout",
     "output_type": "stream",
     "text": [
      "[CV] ..... C=0.001, penalty=l2, score=0.824692279000373, total=   0.0s\n",
      "[CV] C=0.001, penalty=l2 .............................................\n",
      "[CV] .... C=0.001, penalty=l2, score=0.8194478985327033, total=   0.0s\n",
      "[CV] C=0.06993103448275863, penalty=l1 ...............................\n",
      "[CV]  C=0.06993103448275863, penalty=l1, score=0.836399801093983, total=   0.2s\n",
      "[CV] C=0.06993103448275863, penalty=l1 ...............................\n"
     ]
    },
    {
     "name": "stderr",
     "output_type": "stream",
     "text": [
      "F:\\Anaconda\\lib\\site-packages\\sklearn\\linear_model\\logistic.py:433: FutureWarning: Default solver will be changed to 'lbfgs' in 0.22. Specify a solver to silence this warning.\n",
      "  FutureWarning)\n"
     ]
    },
    {
     "name": "stdout",
     "output_type": "stream",
     "text": [
      "[CV]  C=0.06993103448275863, penalty=l1, score=0.8445853537237349, total=   0.2s\n",
      "[CV] C=0.06993103448275863, penalty=l1 ...............................\n"
     ]
    },
    {
     "name": "stderr",
     "output_type": "stream",
     "text": [
      "F:\\Anaconda\\lib\\site-packages\\sklearn\\linear_model\\logistic.py:433: FutureWarning: Default solver will be changed to 'lbfgs' in 0.22. Specify a solver to silence this warning.\n",
      "  FutureWarning)\n"
     ]
    },
    {
     "name": "stdout",
     "output_type": "stream",
     "text": [
      "[CV]  C=0.06993103448275863, penalty=l1, score=0.8385973638398408, total=   0.1s\n",
      "[CV] C=0.06993103448275863, penalty=l2 ...............................\n",
      "[CV]  C=0.06993103448275863, penalty=l2, score=0.8351566384883142, total=   0.0s\n",
      "[CV] C=0.06993103448275863, penalty=l2 ...............................\n"
     ]
    },
    {
     "name": "stderr",
     "output_type": "stream",
     "text": [
      "F:\\Anaconda\\lib\\site-packages\\sklearn\\linear_model\\logistic.py:433: FutureWarning: Default solver will be changed to 'lbfgs' in 0.22. Specify a solver to silence this warning.\n",
      "  FutureWarning)\n",
      "F:\\Anaconda\\lib\\site-packages\\sklearn\\linear_model\\logistic.py:433: FutureWarning: Default solver will be changed to 'lbfgs' in 0.22. Specify a solver to silence this warning.\n",
      "  FutureWarning)\n"
     ]
    },
    {
     "name": "stdout",
     "output_type": "stream",
     "text": [
      "[CV]  C=0.06993103448275863, penalty=l2, score=0.845580007459903, total=   0.1s\n",
      "[CV] C=0.06993103448275863, penalty=l2 ...............................\n",
      "[CV]  C=0.06993103448275863, penalty=l2, score=0.838970405371798, total=   0.0s\n",
      "[CV] C=0.13886206896551725, penalty=l1 ...............................\n"
     ]
    },
    {
     "name": "stderr",
     "output_type": "stream",
     "text": [
      "F:\\Anaconda\\lib\\site-packages\\sklearn\\linear_model\\logistic.py:433: FutureWarning: Default solver will be changed to 'lbfgs' in 0.22. Specify a solver to silence this warning.\n",
      "  FutureWarning)\n",
      "F:\\Anaconda\\lib\\site-packages\\sklearn\\linear_model\\logistic.py:433: FutureWarning: Default solver will be changed to 'lbfgs' in 0.22. Specify a solver to silence this warning.\n",
      "  FutureWarning)\n"
     ]
    },
    {
     "name": "stdout",
     "output_type": "stream",
     "text": [
      "[CV]  C=0.13886206896551725, penalty=l1, score=0.8360268523122825, total=   0.3s\n",
      "[CV] C=0.13886206896551725, penalty=l1 ...............................\n"
     ]
    },
    {
     "name": "stderr",
     "output_type": "stream",
     "text": [
      "F:\\Anaconda\\lib\\site-packages\\sklearn\\linear_model\\logistic.py:433: FutureWarning: Default solver will be changed to 'lbfgs' in 0.22. Specify a solver to silence this warning.\n",
      "  FutureWarning)\n"
     ]
    },
    {
     "name": "stdout",
     "output_type": "stream",
     "text": [
      "[CV]  C=0.13886206896551725, penalty=l1, score=0.8443366902896929, total=   0.3s\n",
      "[CV] C=0.13886206896551725, penalty=l1 ...............................\n"
     ]
    },
    {
     "name": "stderr",
     "output_type": "stream",
     "text": [
      "F:\\Anaconda\\lib\\site-packages\\sklearn\\linear_model\\logistic.py:433: FutureWarning: Default solver will be changed to 'lbfgs' in 0.22. Specify a solver to silence this warning.\n",
      "  FutureWarning)\n"
     ]
    },
    {
     "name": "stdout",
     "output_type": "stream",
     "text": [
      "[CV]  C=0.13886206896551725, penalty=l1, score=0.8390947525491171, total=   0.4s\n",
      "[CV] C=0.13886206896551725, penalty=l2 ...............................\n",
      "[CV]  C=0.13886206896551725, penalty=l2, score=0.8357782197911486, total=   0.0s\n",
      "[CV] C=0.13886206896551725, penalty=l2 ...............................\n"
     ]
    },
    {
     "name": "stderr",
     "output_type": "stream",
     "text": [
      "F:\\Anaconda\\lib\\site-packages\\sklearn\\linear_model\\logistic.py:433: FutureWarning: Default solver will be changed to 'lbfgs' in 0.22. Specify a solver to silence this warning.\n",
      "  FutureWarning)\n",
      "F:\\Anaconda\\lib\\site-packages\\sklearn\\linear_model\\logistic.py:433: FutureWarning: Default solver will be changed to 'lbfgs' in 0.22. Specify a solver to silence this warning.\n",
      "  FutureWarning)\n"
     ]
    },
    {
     "name": "stdout",
     "output_type": "stream",
     "text": [
      "[CV]  C=0.13886206896551725, penalty=l2, score=0.845082680591819, total=   0.1s\n",
      "[CV] C=0.13886206896551725, penalty=l2 ...............................\n",
      "[CV]  C=0.13886206896551725, penalty=l2, score=0.8390947525491171, total=   0.0s\n",
      "[CV] C=0.2077931034482759, penalty=l1 ................................\n"
     ]
    },
    {
     "name": "stderr",
     "output_type": "stream",
     "text": [
      "F:\\Anaconda\\lib\\site-packages\\sklearn\\linear_model\\logistic.py:433: FutureWarning: Default solver will be changed to 'lbfgs' in 0.22. Specify a solver to silence this warning.\n",
      "  FutureWarning)\n",
      "F:\\Anaconda\\lib\\site-packages\\sklearn\\linear_model\\logistic.py:433: FutureWarning: Default solver will be changed to 'lbfgs' in 0.22. Specify a solver to silence this warning.\n",
      "  FutureWarning)\n"
     ]
    },
    {
     "name": "stdout",
     "output_type": "stream",
     "text": [
      "[CV]  C=0.2077931034482759, penalty=l1, score=0.8360268523122825, total=   0.3s\n",
      "[CV] C=0.2077931034482759, penalty=l1 ................................\n"
     ]
    },
    {
     "name": "stderr",
     "output_type": "stream",
     "text": [
      "F:\\Anaconda\\lib\\site-packages\\sklearn\\linear_model\\logistic.py:433: FutureWarning: Default solver will be changed to 'lbfgs' in 0.22. Specify a solver to silence this warning.\n",
      "  FutureWarning)\n"
     ]
    },
    {
     "name": "stdout",
     "output_type": "stream",
     "text": [
      "[CV]  C=0.2077931034482759, penalty=l1, score=0.844709685440756, total=   0.4s\n",
      "[CV] C=0.2077931034482759, penalty=l1 ................................\n"
     ]
    },
    {
     "name": "stderr",
     "output_type": "stream",
     "text": [
      "F:\\Anaconda\\lib\\site-packages\\sklearn\\linear_model\\logistic.py:433: FutureWarning: Default solver will be changed to 'lbfgs' in 0.22. Specify a solver to silence this warning.\n",
      "  FutureWarning)\n"
     ]
    },
    {
     "name": "stdout",
     "output_type": "stream",
     "text": [
      "[CV]  C=0.2077931034482759, penalty=l1, score=0.8383486694852027, total=   0.4s\n",
      "[CV] C=0.2077931034482759, penalty=l2 ................................\n"
     ]
    },
    {
     "name": "stderr",
     "output_type": "stream",
     "text": [
      "F:\\Anaconda\\lib\\site-packages\\sklearn\\linear_model\\logistic.py:433: FutureWarning: Default solver will be changed to 'lbfgs' in 0.22. Specify a solver to silence this warning.\n",
      "  FutureWarning)\n"
     ]
    },
    {
     "name": "stdout",
     "output_type": "stream",
     "text": [
      "[CV]  C=0.2077931034482759, penalty=l2, score=0.8360268523122825, total=   0.1s\n",
      "[CV] C=0.2077931034482759, penalty=l2 ................................\n",
      "[CV]  C=0.2077931034482759, penalty=l2, score=0.845082680591819, total=   0.1s\n",
      "[CV] C=0.2077931034482759, penalty=l2 ................................"
     ]
    },
    {
     "name": "stderr",
     "output_type": "stream",
     "text": [
      "F:\\Anaconda\\lib\\site-packages\\sklearn\\linear_model\\logistic.py:433: FutureWarning: Default solver will be changed to 'lbfgs' in 0.22. Specify a solver to silence this warning.\n",
      "  FutureWarning)\n"
     ]
    },
    {
     "name": "stdout",
     "output_type": "stream",
     "text": [
      "\n"
     ]
    },
    {
     "name": "stderr",
     "output_type": "stream",
     "text": [
      "F:\\Anaconda\\lib\\site-packages\\sklearn\\linear_model\\logistic.py:433: FutureWarning: Default solver will be changed to 'lbfgs' in 0.22. Specify a solver to silence this warning.\n",
      "  FutureWarning)\n"
     ]
    },
    {
     "name": "stdout",
     "output_type": "stream",
     "text": [
      "[CV]  C=0.2077931034482759, penalty=l2, score=0.8385973638398408, total=   0.1s\n",
      "[CV] C=0.2767241379310345, penalty=l1 ................................\n"
     ]
    },
    {
     "name": "stderr",
     "output_type": "stream",
     "text": [
      "F:\\Anaconda\\lib\\site-packages\\sklearn\\linear_model\\logistic.py:433: FutureWarning: Default solver will be changed to 'lbfgs' in 0.22. Specify a solver to silence this warning.\n",
      "  FutureWarning)\n"
     ]
    },
    {
     "name": "stdout",
     "output_type": "stream",
     "text": [
      "[CV]  C=0.2767241379310345, penalty=l1, score=0.8361511685728493, total=   0.6s\n",
      "[CV] C=0.2767241379310345, penalty=l1 ................................\n"
     ]
    },
    {
     "name": "stderr",
     "output_type": "stream",
     "text": [
      "F:\\Anaconda\\lib\\site-packages\\sklearn\\linear_model\\logistic.py:433: FutureWarning: Default solver will be changed to 'lbfgs' in 0.22. Specify a solver to silence this warning.\n",
      "  FutureWarning)\n"
     ]
    },
    {
     "name": "stdout",
     "output_type": "stream",
     "text": [
      "[CV]  C=0.2767241379310345, penalty=l1, score=0.844834017157777, total=   0.6s\n",
      "[CV] C=0.2767241379310345, penalty=l1 ................................\n"
     ]
    },
    {
     "name": "stderr",
     "output_type": "stream",
     "text": [
      "F:\\Anaconda\\lib\\site-packages\\sklearn\\linear_model\\logistic.py:433: FutureWarning: Default solver will be changed to 'lbfgs' in 0.22. Specify a solver to silence this warning.\n",
      "  FutureWarning)\n"
     ]
    },
    {
     "name": "stdout",
     "output_type": "stream",
     "text": [
      "[CV]  C=0.2767241379310345, penalty=l1, score=0.8382243223078836, total=   0.7s\n",
      "[CV] C=0.2767241379310345, penalty=l2 ................................\n"
     ]
    },
    {
     "name": "stderr",
     "output_type": "stream",
     "text": [
      "F:\\Anaconda\\lib\\site-packages\\sklearn\\linear_model\\logistic.py:433: FutureWarning: Default solver will be changed to 'lbfgs' in 0.22. Specify a solver to silence this warning.\n",
      "  FutureWarning)\n"
     ]
    },
    {
     "name": "stdout",
     "output_type": "stream",
     "text": [
      "[CV]  C=0.2767241379310345, penalty=l2, score=0.8361511685728493, total=   0.1s\n",
      "[CV] C=0.2767241379310345, penalty=l2 ................................\n"
     ]
    },
    {
     "name": "stderr",
     "output_type": "stream",
     "text": [
      "F:\\Anaconda\\lib\\site-packages\\sklearn\\linear_model\\logistic.py:433: FutureWarning: Default solver will be changed to 'lbfgs' in 0.22. Specify a solver to silence this warning.\n",
      "  FutureWarning)\n"
     ]
    },
    {
     "name": "stdout",
     "output_type": "stream",
     "text": [
      "[CV]  C=0.2767241379310345, penalty=l2, score=0.8449583488747979, total=   0.1s\n",
      "[CV] C=0.2767241379310345, penalty=l2 ................................\n"
     ]
    },
    {
     "name": "stderr",
     "output_type": "stream",
     "text": [
      "F:\\Anaconda\\lib\\site-packages\\sklearn\\linear_model\\logistic.py:433: FutureWarning: Default solver will be changed to 'lbfgs' in 0.22. Specify a solver to silence this warning.\n",
      "  FutureWarning)\n"
     ]
    },
    {
     "name": "stdout",
     "output_type": "stream",
     "text": [
      "[CV]  C=0.2767241379310345, penalty=l2, score=0.8383486694852027, total=   0.1s\n",
      "[CV] C=0.3456551724137931, penalty=l1 ................................\n"
     ]
    },
    {
     "name": "stderr",
     "output_type": "stream",
     "text": [
      "F:\\Anaconda\\lib\\site-packages\\sklearn\\linear_model\\logistic.py:433: FutureWarning: Default solver will be changed to 'lbfgs' in 0.22. Specify a solver to silence this warning.\n",
      "  FutureWarning)\n"
     ]
    },
    {
     "name": "stdout",
     "output_type": "stream",
     "text": [
      "[CV]  C=0.3456551724137931, penalty=l1, score=0.8362754848334162, total=   0.8s\n",
      "[CV] C=0.3456551724137931, penalty=l1 ................................\n"
     ]
    },
    {
     "name": "stderr",
     "output_type": "stream",
     "text": [
      "F:\\Anaconda\\lib\\site-packages\\sklearn\\linear_model\\logistic.py:433: FutureWarning: Default solver will be changed to 'lbfgs' in 0.22. Specify a solver to silence this warning.\n",
      "  FutureWarning)\n"
     ]
    },
    {
     "name": "stdout",
     "output_type": "stream",
     "text": [
      "[CV]  C=0.3456551724137931, penalty=l1, score=0.845082680591819, total=   0.9s\n",
      "[CV] C=0.3456551724137931, penalty=l1 ................................\n"
     ]
    },
    {
     "name": "stderr",
     "output_type": "stream",
     "text": [
      "F:\\Anaconda\\lib\\site-packages\\sklearn\\linear_model\\logistic.py:433: FutureWarning: Default solver will be changed to 'lbfgs' in 0.22. Specify a solver to silence this warning.\n",
      "  FutureWarning)\n"
     ]
    },
    {
     "name": "stdout",
     "output_type": "stream",
     "text": [
      "[CV]  C=0.3456551724137931, penalty=l1, score=0.8382243223078836, total=   0.8s\n",
      "[CV] C=0.3456551724137931, penalty=l2 ................................\n",
      "[CV]  C=0.3456551724137931, penalty=l2, score=0.83652411735455, total=   0.1s\n",
      "[CV] C=0.3456551724137931, penalty=l2 ................................"
     ]
    },
    {
     "name": "stderr",
     "output_type": "stream",
     "text": [
      "F:\\Anaconda\\lib\\site-packages\\sklearn\\linear_model\\logistic.py:433: FutureWarning: Default solver will be changed to 'lbfgs' in 0.22. Specify a solver to silence this warning.\n",
      "  FutureWarning)\n",
      "F:\\Anaconda\\lib\\site-packages\\sklearn\\linear_model\\logistic.py:433: FutureWarning: Default solver will be changed to 'lbfgs' in 0.22. Specify a solver to silence this warning.\n",
      "  FutureWarning)\n"
     ]
    },
    {
     "name": "stdout",
     "output_type": "stream",
     "text": [
      "\n",
      "[CV]  C=0.3456551724137931, penalty=l2, score=0.8445853537237349, total=   0.1s\n",
      "[CV] C=0.3456551724137931, penalty=l2 ................................\n"
     ]
    },
    {
     "name": "stderr",
     "output_type": "stream",
     "text": [
      "F:\\Anaconda\\lib\\site-packages\\sklearn\\linear_model\\logistic.py:433: FutureWarning: Default solver will be changed to 'lbfgs' in 0.22. Specify a solver to silence this warning.\n",
      "  FutureWarning)\n"
     ]
    },
    {
     "name": "stdout",
     "output_type": "stream",
     "text": [
      "[CV]  C=0.3456551724137931, penalty=l2, score=0.8385973638398408, total=   0.2s\n",
      "[CV] C=0.4145862068965518, penalty=l1 ................................\n"
     ]
    },
    {
     "name": "stderr",
     "output_type": "stream",
     "text": [
      "F:\\Anaconda\\lib\\site-packages\\sklearn\\linear_model\\logistic.py:433: FutureWarning: Default solver will be changed to 'lbfgs' in 0.22. Specify a solver to silence this warning.\n",
      "  FutureWarning)\n"
     ]
    },
    {
     "name": "stdout",
     "output_type": "stream",
     "text": [
      "[CV]  C=0.4145862068965518, penalty=l1, score=0.83652411735455, total=   1.0s\n",
      "[CV] C=0.4145862068965518, penalty=l1 ................................\n"
     ]
    },
    {
     "name": "stderr",
     "output_type": "stream",
     "text": [
      "F:\\Anaconda\\lib\\site-packages\\sklearn\\linear_model\\logistic.py:433: FutureWarning: Default solver will be changed to 'lbfgs' in 0.22. Specify a solver to silence this warning.\n",
      "  FutureWarning)\n"
     ]
    },
    {
     "name": "stdout",
     "output_type": "stream",
     "text": [
      "[CV]  C=0.4145862068965518, penalty=l1, score=0.845331344025861, total=   0.8s\n",
      "[CV] C=0.4145862068965518, penalty=l1 ................................\n"
     ]
    },
    {
     "name": "stderr",
     "output_type": "stream",
     "text": [
      "F:\\Anaconda\\lib\\site-packages\\sklearn\\linear_model\\logistic.py:433: FutureWarning: Default solver will be changed to 'lbfgs' in 0.22. Specify a solver to silence this warning.\n",
      "  FutureWarning)\n"
     ]
    },
    {
     "name": "stdout",
     "output_type": "stream",
     "text": [
      "[CV]  C=0.4145862068965518, penalty=l1, score=0.8382243223078836, total=   0.7s\n",
      "[CV] C=0.4145862068965518, penalty=l2 ................................\n"
     ]
    },
    {
     "name": "stderr",
     "output_type": "stream",
     "text": [
      "F:\\Anaconda\\lib\\site-packages\\sklearn\\linear_model\\logistic.py:433: FutureWarning: Default solver will be changed to 'lbfgs' in 0.22. Specify a solver to silence this warning.\n",
      "  FutureWarning)\n"
     ]
    },
    {
     "name": "stdout",
     "output_type": "stream",
     "text": [
      "[CV]  C=0.4145862068965518, penalty=l2, score=0.83652411735455, total=   0.1s\n",
      "[CV] C=0.4145862068965518, penalty=l2 ................................\n"
     ]
    },
    {
     "name": "stderr",
     "output_type": "stream",
     "text": [
      "F:\\Anaconda\\lib\\site-packages\\sklearn\\linear_model\\logistic.py:433: FutureWarning: Default solver will be changed to 'lbfgs' in 0.22. Specify a solver to silence this warning.\n",
      "  FutureWarning)\n"
     ]
    },
    {
     "name": "stdout",
     "output_type": "stream",
     "text": [
      "[CV]  C=0.4145862068965518, penalty=l2, score=0.8445853537237349, total=   0.1s\n",
      "[CV] C=0.4145862068965518, penalty=l2 ................................\n",
      "[CV]  C=0.4145862068965518, penalty=l2, score=0.8384730166625217, total=   0.1s"
     ]
    },
    {
     "name": "stderr",
     "output_type": "stream",
     "text": [
      "F:\\Anaconda\\lib\\site-packages\\sklearn\\linear_model\\logistic.py:433: FutureWarning: Default solver will be changed to 'lbfgs' in 0.22. Specify a solver to silence this warning.\n",
      "  FutureWarning)\n"
     ]
    },
    {
     "name": "stdout",
     "output_type": "stream",
     "text": [
      "\n",
      "[CV] C=0.4835172413793104, penalty=l1 ................................\n"
     ]
    },
    {
     "name": "stderr",
     "output_type": "stream",
     "text": [
      "F:\\Anaconda\\lib\\site-packages\\sklearn\\linear_model\\logistic.py:433: FutureWarning: Default solver will be changed to 'lbfgs' in 0.22. Specify a solver to silence this warning.\n",
      "  FutureWarning)\n"
     ]
    },
    {
     "name": "stdout",
     "output_type": "stream",
     "text": [
      "[CV]  C=0.4835172413793104, penalty=l1, score=0.83652411735455, total=   1.0s\n",
      "[CV] C=0.4835172413793104, penalty=l1 ................................\n"
     ]
    },
    {
     "name": "stderr",
     "output_type": "stream",
     "text": [
      "F:\\Anaconda\\lib\\site-packages\\sklearn\\linear_model\\logistic.py:433: FutureWarning: Default solver will be changed to 'lbfgs' in 0.22. Specify a solver to silence this warning.\n",
      "  FutureWarning)\n"
     ]
    },
    {
     "name": "stdout",
     "output_type": "stream",
     "text": [
      "[CV]  C=0.4835172413793104, penalty=l1, score=0.84520701230884, total=   0.9s\n",
      "[CV] C=0.4835172413793104, penalty=l1 ................................\n"
     ]
    },
    {
     "name": "stderr",
     "output_type": "stream",
     "text": [
      "F:\\Anaconda\\lib\\site-packages\\sklearn\\linear_model\\logistic.py:433: FutureWarning: Default solver will be changed to 'lbfgs' in 0.22. Specify a solver to silence this warning.\n",
      "  FutureWarning)\n"
     ]
    },
    {
     "name": "stdout",
     "output_type": "stream",
     "text": [
      "[CV]  C=0.4835172413793104, penalty=l1, score=0.8382243223078836, total=   0.8s\n",
      "[CV] C=0.4835172413793104, penalty=l2 ................................\n"
     ]
    },
    {
     "name": "stderr",
     "output_type": "stream",
     "text": [
      "F:\\Anaconda\\lib\\site-packages\\sklearn\\linear_model\\logistic.py:433: FutureWarning: Default solver will be changed to 'lbfgs' in 0.22. Specify a solver to silence this warning.\n",
      "  FutureWarning)\n"
     ]
    },
    {
     "name": "stdout",
     "output_type": "stream",
     "text": [
      "[CV]  C=0.4835172413793104, penalty=l2, score=0.83652411735455, total=   0.2s\n",
      "[CV] C=0.4835172413793104, penalty=l2 ................................\n"
     ]
    },
    {
     "name": "stderr",
     "output_type": "stream",
     "text": [
      "F:\\Anaconda\\lib\\site-packages\\sklearn\\linear_model\\logistic.py:433: FutureWarning: Default solver will be changed to 'lbfgs' in 0.22. Specify a solver to silence this warning.\n",
      "  FutureWarning)\n"
     ]
    },
    {
     "name": "stdout",
     "output_type": "stream",
     "text": [
      "[CV]  C=0.4835172413793104, penalty=l2, score=0.8445853537237349, total=   0.1s\n",
      "[CV] C=0.4835172413793104, penalty=l2 ................................\n"
     ]
    },
    {
     "name": "stderr",
     "output_type": "stream",
     "text": [
      "F:\\Anaconda\\lib\\site-packages\\sklearn\\linear_model\\logistic.py:433: FutureWarning: Default solver will be changed to 'lbfgs' in 0.22. Specify a solver to silence this warning.\n",
      "  FutureWarning)\n"
     ]
    },
    {
     "name": "stdout",
     "output_type": "stream",
     "text": [
      "[CV]  C=0.4835172413793104, penalty=l2, score=0.8383486694852027, total=   0.1s\n",
      "[CV] C=0.552448275862069, penalty=l1 .................................\n"
     ]
    },
    {
     "name": "stderr",
     "output_type": "stream",
     "text": [
      "F:\\Anaconda\\lib\\site-packages\\sklearn\\linear_model\\logistic.py:433: FutureWarning: Default solver will be changed to 'lbfgs' in 0.22. Specify a solver to silence this warning.\n",
      "  FutureWarning)\n"
     ]
    },
    {
     "name": "stdout",
     "output_type": "stream",
     "text": [
      "[CV]  C=0.552448275862069, penalty=l1, score=0.836399801093983, total=   0.8s\n",
      "[CV] C=0.552448275862069, penalty=l1 .................................\n"
     ]
    },
    {
     "name": "stderr",
     "output_type": "stream",
     "text": [
      "F:\\Anaconda\\lib\\site-packages\\sklearn\\linear_model\\logistic.py:433: FutureWarning: Default solver will be changed to 'lbfgs' in 0.22. Specify a solver to silence this warning.\n",
      "  FutureWarning)\n"
     ]
    },
    {
     "name": "stdout",
     "output_type": "stream",
     "text": [
      "[CV]  C=0.552448275862069, penalty=l1, score=0.84520701230884, total=   0.8s\n",
      "[CV] C=0.552448275862069, penalty=l1 .................................\n"
     ]
    },
    {
     "name": "stderr",
     "output_type": "stream",
     "text": [
      "F:\\Anaconda\\lib\\site-packages\\sklearn\\linear_model\\logistic.py:433: FutureWarning: Default solver will be changed to 'lbfgs' in 0.22. Specify a solver to silence this warning.\n",
      "  FutureWarning)\n"
     ]
    },
    {
     "name": "stdout",
     "output_type": "stream",
     "text": [
      "[CV]  C=0.552448275862069, penalty=l1, score=0.8379756279532454, total=   0.7s\n",
      "[CV] C=0.552448275862069, penalty=l2 .................................\n",
      "[CV]  C=0.552448275862069, penalty=l2, score=0.83652411735455, total=   0.1s\n",
      "[CV] C=0.552448275862069, penalty=l2 .................................\n"
     ]
    },
    {
     "name": "stderr",
     "output_type": "stream",
     "text": [
      "F:\\Anaconda\\lib\\site-packages\\sklearn\\linear_model\\logistic.py:433: FutureWarning: Default solver will be changed to 'lbfgs' in 0.22. Specify a solver to silence this warning.\n",
      "  FutureWarning)\n",
      "F:\\Anaconda\\lib\\site-packages\\sklearn\\linear_model\\logistic.py:433: FutureWarning: Default solver will be changed to 'lbfgs' in 0.22. Specify a solver to silence this warning.\n",
      "  FutureWarning)\n"
     ]
    },
    {
     "name": "stdout",
     "output_type": "stream",
     "text": [
      "[CV]  C=0.552448275862069, penalty=l2, score=0.844709685440756, total=   0.1s\n",
      "[CV] C=0.552448275862069, penalty=l2 .................................\n",
      "[CV]  C=0.552448275862069, penalty=l2, score=0.8382243223078836, total=   0.1s\n",
      "[CV] C=0.6213793103448276, penalty=l1 ................................\n"
     ]
    },
    {
     "name": "stderr",
     "output_type": "stream",
     "text": [
      "F:\\Anaconda\\lib\\site-packages\\sklearn\\linear_model\\logistic.py:433: FutureWarning: Default solver will be changed to 'lbfgs' in 0.22. Specify a solver to silence this warning.\n",
      "  FutureWarning)\n",
      "F:\\Anaconda\\lib\\site-packages\\sklearn\\linear_model\\logistic.py:433: FutureWarning: Default solver will be changed to 'lbfgs' in 0.22. Specify a solver to silence this warning.\n",
      "  FutureWarning)\n"
     ]
    },
    {
     "name": "stdout",
     "output_type": "stream",
     "text": [
      "[CV]  C=0.6213793103448276, penalty=l1, score=0.836399801093983, total=   0.7s\n",
      "[CV] C=0.6213793103448276, penalty=l1 ................................\n"
     ]
    },
    {
     "name": "stderr",
     "output_type": "stream",
     "text": [
      "F:\\Anaconda\\lib\\site-packages\\sklearn\\linear_model\\logistic.py:433: FutureWarning: Default solver will be changed to 'lbfgs' in 0.22. Specify a solver to silence this warning.\n",
      "  FutureWarning)\n"
     ]
    },
    {
     "name": "stdout",
     "output_type": "stream",
     "text": [
      "[CV]  C=0.6213793103448276, penalty=l1, score=0.84520701230884, total=   1.0s\n",
      "[CV] C=0.6213793103448276, penalty=l1 ................................\n"
     ]
    },
    {
     "name": "stderr",
     "output_type": "stream",
     "text": [
      "F:\\Anaconda\\lib\\site-packages\\sklearn\\linear_model\\logistic.py:433: FutureWarning: Default solver will be changed to 'lbfgs' in 0.22. Specify a solver to silence this warning.\n",
      "  FutureWarning)\n"
     ]
    },
    {
     "name": "stdout",
     "output_type": "stream",
     "text": [
      "[CV]  C=0.6213793103448276, penalty=l1, score=0.8380999751305646, total=   0.8s\n",
      "[CV] C=0.6213793103448276, penalty=l2 ................................\n",
      "[CV]  C=0.6213793103448276, penalty=l2, score=0.8366484336151169, total=   0.1s"
     ]
    },
    {
     "name": "stderr",
     "output_type": "stream",
     "text": [
      "F:\\Anaconda\\lib\\site-packages\\sklearn\\linear_model\\logistic.py:433: FutureWarning: Default solver will be changed to 'lbfgs' in 0.22. Specify a solver to silence this warning.\n",
      "  FutureWarning)\n"
     ]
    },
    {
     "name": "stdout",
     "output_type": "stream",
     "text": [
      "\n",
      "[CV] C=0.6213793103448276, penalty=l2 ................................\n"
     ]
    },
    {
     "name": "stderr",
     "output_type": "stream",
     "text": [
      "F:\\Anaconda\\lib\\site-packages\\sklearn\\linear_model\\logistic.py:433: FutureWarning: Default solver will be changed to 'lbfgs' in 0.22. Specify a solver to silence this warning.\n",
      "  FutureWarning)\n"
     ]
    },
    {
     "name": "stdout",
     "output_type": "stream",
     "text": [
      "[CV]  C=0.6213793103448276, penalty=l2, score=0.844709685440756, total=   0.2s\n",
      "[CV] C=0.6213793103448276, penalty=l2 ................................\n"
     ]
    },
    {
     "name": "stderr",
     "output_type": "stream",
     "text": [
      "F:\\Anaconda\\lib\\site-packages\\sklearn\\linear_model\\logistic.py:433: FutureWarning: Default solver will be changed to 'lbfgs' in 0.22. Specify a solver to silence this warning.\n",
      "  FutureWarning)\n"
     ]
    },
    {
     "name": "stdout",
     "output_type": "stream",
     "text": [
      "[CV]  C=0.6213793103448276, penalty=l2, score=0.8383486694852027, total=   0.2s\n",
      "[CV] C=0.6903103448275862, penalty=l1 ................................\n"
     ]
    },
    {
     "name": "stderr",
     "output_type": "stream",
     "text": [
      "F:\\Anaconda\\lib\\site-packages\\sklearn\\linear_model\\logistic.py:433: FutureWarning: Default solver will be changed to 'lbfgs' in 0.22. Specify a solver to silence this warning.\n",
      "  FutureWarning)\n"
     ]
    },
    {
     "name": "stdout",
     "output_type": "stream",
     "text": [
      "[CV]  C=0.6903103448275862, penalty=l1, score=0.836399801093983, total=   0.9s\n",
      "[CV] C=0.6903103448275862, penalty=l1 ................................\n"
     ]
    },
    {
     "name": "stderr",
     "output_type": "stream",
     "text": [
      "F:\\Anaconda\\lib\\site-packages\\sklearn\\linear_model\\logistic.py:433: FutureWarning: Default solver will be changed to 'lbfgs' in 0.22. Specify a solver to silence this warning.\n",
      "  FutureWarning)\n"
     ]
    },
    {
     "name": "stdout",
     "output_type": "stream",
     "text": [
      "[CV]  C=0.6903103448275862, penalty=l1, score=0.84520701230884, total=   0.9s\n",
      "[CV] C=0.6903103448275862, penalty=l1 ................................\n"
     ]
    },
    {
     "name": "stderr",
     "output_type": "stream",
     "text": [
      "F:\\Anaconda\\lib\\site-packages\\sklearn\\linear_model\\logistic.py:433: FutureWarning: Default solver will be changed to 'lbfgs' in 0.22. Specify a solver to silence this warning.\n",
      "  FutureWarning)\n"
     ]
    },
    {
     "name": "stdout",
     "output_type": "stream",
     "text": [
      "[CV]  C=0.6903103448275862, penalty=l1, score=0.8379756279532454, total=   0.9s\n",
      "[CV] C=0.6903103448275862, penalty=l2 ................................\n",
      "[CV]  C=0.6903103448275862, penalty=l2, score=0.83652411735455, total=   0.1s\n",
      "[CV] C=0.6903103448275862, penalty=l2 ................................"
     ]
    },
    {
     "name": "stderr",
     "output_type": "stream",
     "text": [
      "F:\\Anaconda\\lib\\site-packages\\sklearn\\linear_model\\logistic.py:433: FutureWarning: Default solver will be changed to 'lbfgs' in 0.22. Specify a solver to silence this warning.\n",
      "  FutureWarning)\n"
     ]
    },
    {
     "name": "stdout",
     "output_type": "stream",
     "text": [
      "\n",
      "[CV]  C=0.6903103448275862, penalty=l2, score=0.8445853537237349, total=   0.1s\n",
      "[CV] C=0.6903103448275862, penalty=l2 ................................"
     ]
    },
    {
     "name": "stderr",
     "output_type": "stream",
     "text": [
      "F:\\Anaconda\\lib\\site-packages\\sklearn\\linear_model\\logistic.py:433: FutureWarning: Default solver will be changed to 'lbfgs' in 0.22. Specify a solver to silence this warning.\n",
      "  FutureWarning)\n"
     ]
    },
    {
     "name": "stdout",
     "output_type": "stream",
     "text": [
      "\n",
      "[CV]  C=0.6903103448275862, penalty=l2, score=0.8384730166625217, total=   0.1s"
     ]
    },
    {
     "name": "stderr",
     "output_type": "stream",
     "text": [
      "F:\\Anaconda\\lib\\site-packages\\sklearn\\linear_model\\logistic.py:433: FutureWarning: Default solver will be changed to 'lbfgs' in 0.22. Specify a solver to silence this warning.\n",
      "  FutureWarning)\n"
     ]
    },
    {
     "name": "stdout",
     "output_type": "stream",
     "text": [
      "\n",
      "[CV] C=0.7592413793103449, penalty=l1 ................................\n"
     ]
    },
    {
     "name": "stderr",
     "output_type": "stream",
     "text": [
      "F:\\Anaconda\\lib\\site-packages\\sklearn\\linear_model\\logistic.py:433: FutureWarning: Default solver will be changed to 'lbfgs' in 0.22. Specify a solver to silence this warning.\n",
      "  FutureWarning)\n"
     ]
    },
    {
     "name": "stdout",
     "output_type": "stream",
     "text": [
      "[CV]  C=0.7592413793103449, penalty=l1, score=0.836399801093983, total=   0.7s\n",
      "[CV] C=0.7592413793103449, penalty=l1 ................................\n"
     ]
    },
    {
     "name": "stderr",
     "output_type": "stream",
     "text": [
      "F:\\Anaconda\\lib\\site-packages\\sklearn\\linear_model\\logistic.py:433: FutureWarning: Default solver will be changed to 'lbfgs' in 0.22. Specify a solver to silence this warning.\n",
      "  FutureWarning)\n"
     ]
    },
    {
     "name": "stdout",
     "output_type": "stream",
     "text": [
      "[CV]  C=0.7592413793103449, penalty=l1, score=0.845331344025861, total=   0.8s\n",
      "[CV] C=0.7592413793103449, penalty=l1 ................................\n"
     ]
    },
    {
     "name": "stderr",
     "output_type": "stream",
     "text": [
      "F:\\Anaconda\\lib\\site-packages\\sklearn\\linear_model\\logistic.py:433: FutureWarning: Default solver will be changed to 'lbfgs' in 0.22. Specify a solver to silence this warning.\n",
      "  FutureWarning)\n"
     ]
    },
    {
     "name": "stdout",
     "output_type": "stream",
     "text": [
      "[CV]  C=0.7592413793103449, penalty=l1, score=0.8382243223078836, total=   0.7s\n",
      "[CV] C=0.7592413793103449, penalty=l2 ................................\n",
      "[CV]  C=0.7592413793103449, penalty=l2, score=0.83652411735455, total=   0.1s\n",
      "[CV] C=0.7592413793103449, penalty=l2 ................................"
     ]
    },
    {
     "name": "stderr",
     "output_type": "stream",
     "text": [
      "F:\\Anaconda\\lib\\site-packages\\sklearn\\linear_model\\logistic.py:433: FutureWarning: Default solver will be changed to 'lbfgs' in 0.22. Specify a solver to silence this warning.\n",
      "  FutureWarning)\n"
     ]
    },
    {
     "name": "stdout",
     "output_type": "stream",
     "text": [
      "\n"
     ]
    },
    {
     "name": "stderr",
     "output_type": "stream",
     "text": [
      "F:\\Anaconda\\lib\\site-packages\\sklearn\\linear_model\\logistic.py:433: FutureWarning: Default solver will be changed to 'lbfgs' in 0.22. Specify a solver to silence this warning.\n",
      "  FutureWarning)\n"
     ]
    },
    {
     "name": "stdout",
     "output_type": "stream",
     "text": [
      "[CV]  C=0.7592413793103449, penalty=l2, score=0.8445853537237349, total=   0.1s\n",
      "[CV] C=0.7592413793103449, penalty=l2 ................................\n"
     ]
    },
    {
     "name": "stderr",
     "output_type": "stream",
     "text": [
      "F:\\Anaconda\\lib\\site-packages\\sklearn\\linear_model\\logistic.py:433: FutureWarning: Default solver will be changed to 'lbfgs' in 0.22. Specify a solver to silence this warning.\n",
      "  FutureWarning)\n"
     ]
    },
    {
     "name": "stdout",
     "output_type": "stream",
     "text": [
      "[CV]  C=0.7592413793103449, penalty=l2, score=0.8385973638398408, total=   0.1s\n",
      "[CV] C=0.8281724137931036, penalty=l1 ................................\n"
     ]
    },
    {
     "name": "stderr",
     "output_type": "stream",
     "text": [
      "F:\\Anaconda\\lib\\site-packages\\sklearn\\linear_model\\logistic.py:433: FutureWarning: Default solver will be changed to 'lbfgs' in 0.22. Specify a solver to silence this warning.\n",
      "  FutureWarning)\n"
     ]
    },
    {
     "name": "stdout",
     "output_type": "stream",
     "text": [
      "[CV]  C=0.8281724137931036, penalty=l1, score=0.836399801093983, total=   0.6s\n",
      "[CV] C=0.8281724137931036, penalty=l1 ................................\n"
     ]
    },
    {
     "name": "stderr",
     "output_type": "stream",
     "text": [
      "F:\\Anaconda\\lib\\site-packages\\sklearn\\linear_model\\logistic.py:433: FutureWarning: Default solver will be changed to 'lbfgs' in 0.22. Specify a solver to silence this warning.\n",
      "  FutureWarning)\n"
     ]
    },
    {
     "name": "stdout",
     "output_type": "stream",
     "text": [
      "[CV]  C=0.8281724137931036, penalty=l1, score=0.845331344025861, total=   0.8s\n",
      "[CV] C=0.8281724137931036, penalty=l1 ................................\n"
     ]
    },
    {
     "name": "stderr",
     "output_type": "stream",
     "text": [
      "F:\\Anaconda\\lib\\site-packages\\sklearn\\linear_model\\logistic.py:433: FutureWarning: Default solver will be changed to 'lbfgs' in 0.22. Specify a solver to silence this warning.\n",
      "  FutureWarning)\n"
     ]
    },
    {
     "name": "stdout",
     "output_type": "stream",
     "text": [
      "[CV]  C=0.8281724137931036, penalty=l1, score=0.8382243223078836, total=   0.7s\n",
      "[CV] C=0.8281724137931036, penalty=l2 ................................\n",
      "[CV]  C=0.8281724137931036, penalty=l2, score=0.83652411735455, total=   0.1s\n",
      "[CV] C=0.8281724137931036, penalty=l2 ................................"
     ]
    },
    {
     "name": "stderr",
     "output_type": "stream",
     "text": [
      "F:\\Anaconda\\lib\\site-packages\\sklearn\\linear_model\\logistic.py:433: FutureWarning: Default solver will be changed to 'lbfgs' in 0.22. Specify a solver to silence this warning.\n",
      "  FutureWarning)\n"
     ]
    },
    {
     "name": "stdout",
     "output_type": "stream",
     "text": [
      "\n"
     ]
    },
    {
     "name": "stderr",
     "output_type": "stream",
     "text": [
      "F:\\Anaconda\\lib\\site-packages\\sklearn\\linear_model\\logistic.py:433: FutureWarning: Default solver will be changed to 'lbfgs' in 0.22. Specify a solver to silence this warning.\n",
      "  FutureWarning)\n"
     ]
    },
    {
     "name": "stdout",
     "output_type": "stream",
     "text": [
      "[CV]  C=0.8281724137931036, penalty=l2, score=0.8445853537237349, total=   0.1s\n",
      "[CV] C=0.8281724137931036, penalty=l2 ................................\n"
     ]
    },
    {
     "name": "stderr",
     "output_type": "stream",
     "text": [
      "F:\\Anaconda\\lib\\site-packages\\sklearn\\linear_model\\logistic.py:433: FutureWarning: Default solver will be changed to 'lbfgs' in 0.22. Specify a solver to silence this warning.\n",
      "  FutureWarning)\n"
     ]
    },
    {
     "name": "stdout",
     "output_type": "stream",
     "text": [
      "[CV]  C=0.8281724137931036, penalty=l2, score=0.8385973638398408, total=   0.1s\n",
      "[CV] C=0.8971034482758622, penalty=l1 ................................\n"
     ]
    },
    {
     "name": "stderr",
     "output_type": "stream",
     "text": [
      "F:\\Anaconda\\lib\\site-packages\\sklearn\\linear_model\\logistic.py:433: FutureWarning: Default solver will be changed to 'lbfgs' in 0.22. Specify a solver to silence this warning.\n",
      "  FutureWarning)\n"
     ]
    },
    {
     "name": "stdout",
     "output_type": "stream",
     "text": [
      "[CV]  C=0.8971034482758622, penalty=l1, score=0.83652411735455, total=   0.6s\n",
      "[CV] C=0.8971034482758622, penalty=l1 ................................\n"
     ]
    },
    {
     "name": "stderr",
     "output_type": "stream",
     "text": [
      "F:\\Anaconda\\lib\\site-packages\\sklearn\\linear_model\\logistic.py:433: FutureWarning: Default solver will be changed to 'lbfgs' in 0.22. Specify a solver to silence this warning.\n",
      "  FutureWarning)\n"
     ]
    },
    {
     "name": "stdout",
     "output_type": "stream",
     "text": [
      "[CV]  C=0.8971034482758622, penalty=l1, score=0.84520701230884, total=   0.7s\n",
      "[CV] C=0.8971034482758622, penalty=l1 ................................\n"
     ]
    },
    {
     "name": "stderr",
     "output_type": "stream",
     "text": [
      "F:\\Anaconda\\lib\\site-packages\\sklearn\\linear_model\\logistic.py:433: FutureWarning: Default solver will be changed to 'lbfgs' in 0.22. Specify a solver to silence this warning.\n",
      "  FutureWarning)\n"
     ]
    },
    {
     "name": "stdout",
     "output_type": "stream",
     "text": [
      "[CV]  C=0.8971034482758622, penalty=l1, score=0.8382243223078836, total=   0.7s\n",
      "[CV] C=0.8971034482758622, penalty=l2 ................................\n",
      "[CV]  C=0.8971034482758622, penalty=l2, score=0.836399801093983, total=   0.1s\n",
      "[CV] C=0.8971034482758622, penalty=l2 ................................"
     ]
    },
    {
     "name": "stderr",
     "output_type": "stream",
     "text": [
      "F:\\Anaconda\\lib\\site-packages\\sklearn\\linear_model\\logistic.py:433: FutureWarning: Default solver will be changed to 'lbfgs' in 0.22. Specify a solver to silence this warning.\n",
      "  FutureWarning)\n"
     ]
    },
    {
     "name": "stdout",
     "output_type": "stream",
     "text": [
      "\n",
      "[CV]  C=0.8971034482758622, penalty=l2, score=0.8445853537237349, total=   0.1s"
     ]
    },
    {
     "name": "stderr",
     "output_type": "stream",
     "text": [
      "F:\\Anaconda\\lib\\site-packages\\sklearn\\linear_model\\logistic.py:433: FutureWarning: Default solver will be changed to 'lbfgs' in 0.22. Specify a solver to silence this warning.\n",
      "  FutureWarning)\n"
     ]
    },
    {
     "name": "stdout",
     "output_type": "stream",
     "text": [
      "\n",
      "[CV] C=0.8971034482758622, penalty=l2 ................................\n",
      "[CV]  C=0.8971034482758622, penalty=l2, score=0.8385973638398408, total=   0.1s"
     ]
    },
    {
     "name": "stderr",
     "output_type": "stream",
     "text": [
      "F:\\Anaconda\\lib\\site-packages\\sklearn\\linear_model\\logistic.py:433: FutureWarning: Default solver will be changed to 'lbfgs' in 0.22. Specify a solver to silence this warning.\n",
      "  FutureWarning)\n"
     ]
    },
    {
     "name": "stdout",
     "output_type": "stream",
     "text": [
      "\n",
      "[CV] C=0.9660344827586208, penalty=l1 ................................\n"
     ]
    },
    {
     "name": "stderr",
     "output_type": "stream",
     "text": [
      "F:\\Anaconda\\lib\\site-packages\\sklearn\\linear_model\\logistic.py:433: FutureWarning: Default solver will be changed to 'lbfgs' in 0.22. Specify a solver to silence this warning.\n",
      "  FutureWarning)\n"
     ]
    },
    {
     "name": "stdout",
     "output_type": "stream",
     "text": [
      "[CV]  C=0.9660344827586208, penalty=l1, score=0.83652411735455, total=   0.7s\n",
      "[CV] C=0.9660344827586208, penalty=l1 ................................\n"
     ]
    },
    {
     "name": "stderr",
     "output_type": "stream",
     "text": [
      "F:\\Anaconda\\lib\\site-packages\\sklearn\\linear_model\\logistic.py:433: FutureWarning: Default solver will be changed to 'lbfgs' in 0.22. Specify a solver to silence this warning.\n",
      "  FutureWarning)\n"
     ]
    },
    {
     "name": "stdout",
     "output_type": "stream",
     "text": [
      "[CV]  C=0.9660344827586208, penalty=l1, score=0.845082680591819, total=   0.8s\n",
      "[CV] C=0.9660344827586208, penalty=l1 ................................\n"
     ]
    },
    {
     "name": "stderr",
     "output_type": "stream",
     "text": [
      "F:\\Anaconda\\lib\\site-packages\\sklearn\\linear_model\\logistic.py:433: FutureWarning: Default solver will be changed to 'lbfgs' in 0.22. Specify a solver to silence this warning.\n",
      "  FutureWarning)\n"
     ]
    },
    {
     "name": "stdout",
     "output_type": "stream",
     "text": [
      "[CV]  C=0.9660344827586208, penalty=l1, score=0.8382243223078836, total=   0.9s\n",
      "[CV] C=0.9660344827586208, penalty=l2 ................................\n",
      "[CV]  C=0.9660344827586208, penalty=l2, score=0.8367727498756837, total=   0.1s\n",
      "[CV] C=0.9660344827586208, penalty=l2 ................................"
     ]
    },
    {
     "name": "stderr",
     "output_type": "stream",
     "text": [
      "F:\\Anaconda\\lib\\site-packages\\sklearn\\linear_model\\logistic.py:433: FutureWarning: Default solver will be changed to 'lbfgs' in 0.22. Specify a solver to silence this warning.\n",
      "  FutureWarning)\n"
     ]
    },
    {
     "name": "stdout",
     "output_type": "stream",
     "text": [
      "\n"
     ]
    },
    {
     "name": "stderr",
     "output_type": "stream",
     "text": [
      "F:\\Anaconda\\lib\\site-packages\\sklearn\\linear_model\\logistic.py:433: FutureWarning: Default solver will be changed to 'lbfgs' in 0.22. Specify a solver to silence this warning.\n",
      "  FutureWarning)\n"
     ]
    },
    {
     "name": "stdout",
     "output_type": "stream",
     "text": [
      "[CV]  C=0.9660344827586208, penalty=l2, score=0.8445853537237349, total=   0.1s\n",
      "[CV] C=0.9660344827586208, penalty=l2 ................................\n"
     ]
    },
    {
     "name": "stderr",
     "output_type": "stream",
     "text": [
      "F:\\Anaconda\\lib\\site-packages\\sklearn\\linear_model\\logistic.py:433: FutureWarning: Default solver will be changed to 'lbfgs' in 0.22. Specify a solver to silence this warning.\n",
      "  FutureWarning)\n"
     ]
    },
    {
     "name": "stdout",
     "output_type": "stream",
     "text": [
      "[CV]  C=0.9660344827586208, penalty=l2, score=0.8385973638398408, total=   0.1s\n",
      "[CV] C=1.0349655172413792, penalty=l1 ................................\n"
     ]
    },
    {
     "name": "stderr",
     "output_type": "stream",
     "text": [
      "F:\\Anaconda\\lib\\site-packages\\sklearn\\linear_model\\logistic.py:433: FutureWarning: Default solver will be changed to 'lbfgs' in 0.22. Specify a solver to silence this warning.\n",
      "  FutureWarning)\n"
     ]
    },
    {
     "name": "stdout",
     "output_type": "stream",
     "text": [
      "[CV]  C=1.0349655172413792, penalty=l1, score=0.83652411735455, total=   0.6s\n",
      "[CV] C=1.0349655172413792, penalty=l1 ................................\n"
     ]
    },
    {
     "name": "stderr",
     "output_type": "stream",
     "text": [
      "F:\\Anaconda\\lib\\site-packages\\sklearn\\linear_model\\logistic.py:433: FutureWarning: Default solver will be changed to 'lbfgs' in 0.22. Specify a solver to silence this warning.\n",
      "  FutureWarning)\n"
     ]
    },
    {
     "name": "stdout",
     "output_type": "stream",
     "text": [
      "[CV]  C=1.0349655172413792, penalty=l1, score=0.845082680591819, total=   0.8s\n",
      "[CV] C=1.0349655172413792, penalty=l1 ................................\n"
     ]
    },
    {
     "name": "stderr",
     "output_type": "stream",
     "text": [
      "F:\\Anaconda\\lib\\site-packages\\sklearn\\linear_model\\logistic.py:433: FutureWarning: Default solver will be changed to 'lbfgs' in 0.22. Specify a solver to silence this warning.\n",
      "  FutureWarning)\n"
     ]
    },
    {
     "name": "stdout",
     "output_type": "stream",
     "text": [
      "[CV]  C=1.0349655172413792, penalty=l1, score=0.8382243223078836, total=   1.1s\n",
      "[CV] C=1.0349655172413792, penalty=l2 ................................\n"
     ]
    },
    {
     "name": "stderr",
     "output_type": "stream",
     "text": [
      "F:\\Anaconda\\lib\\site-packages\\sklearn\\linear_model\\logistic.py:433: FutureWarning: Default solver will be changed to 'lbfgs' in 0.22. Specify a solver to silence this warning.\n",
      "  FutureWarning)\n"
     ]
    },
    {
     "name": "stdout",
     "output_type": "stream",
     "text": [
      "[CV]  C=1.0349655172413792, penalty=l2, score=0.8367727498756837, total=   0.1s\n",
      "[CV] C=1.0349655172413792, penalty=l2 ................................\n"
     ]
    },
    {
     "name": "stderr",
     "output_type": "stream",
     "text": [
      "F:\\Anaconda\\lib\\site-packages\\sklearn\\linear_model\\logistic.py:433: FutureWarning: Default solver will be changed to 'lbfgs' in 0.22. Specify a solver to silence this warning.\n",
      "  FutureWarning)\n"
     ]
    },
    {
     "name": "stdout",
     "output_type": "stream",
     "text": [
      "[CV]  C=1.0349655172413792, penalty=l2, score=0.8445853537237349, total=   0.1s\n",
      "[CV] C=1.0349655172413792, penalty=l2 ................................\n"
     ]
    },
    {
     "name": "stderr",
     "output_type": "stream",
     "text": [
      "F:\\Anaconda\\lib\\site-packages\\sklearn\\linear_model\\logistic.py:433: FutureWarning: Default solver will be changed to 'lbfgs' in 0.22. Specify a solver to silence this warning.\n",
      "  FutureWarning)\n"
     ]
    },
    {
     "name": "stdout",
     "output_type": "stream",
     "text": [
      "[CV]  C=1.0349655172413792, penalty=l2, score=0.8385973638398408, total=   0.1s\n",
      "[CV] C=1.103896551724138, penalty=l1 .................................\n"
     ]
    },
    {
     "name": "stderr",
     "output_type": "stream",
     "text": [
      "F:\\Anaconda\\lib\\site-packages\\sklearn\\linear_model\\logistic.py:433: FutureWarning: Default solver will be changed to 'lbfgs' in 0.22. Specify a solver to silence this warning.\n",
      "  FutureWarning)\n"
     ]
    },
    {
     "name": "stdout",
     "output_type": "stream",
     "text": [
      "[CV]  C=1.103896551724138, penalty=l1, score=0.8367727498756837, total=   0.6s\n",
      "[CV] C=1.103896551724138, penalty=l1 .................................\n"
     ]
    },
    {
     "name": "stderr",
     "output_type": "stream",
     "text": [
      "F:\\Anaconda\\lib\\site-packages\\sklearn\\linear_model\\logistic.py:433: FutureWarning: Default solver will be changed to 'lbfgs' in 0.22. Specify a solver to silence this warning.\n",
      "  FutureWarning)\n"
     ]
    },
    {
     "name": "stdout",
     "output_type": "stream",
     "text": [
      "[CV]  C=1.103896551724138, penalty=l1, score=0.845082680591819, total=   0.7s\n",
      "[CV] C=1.103896551724138, penalty=l1 .................................\n"
     ]
    },
    {
     "name": "stderr",
     "output_type": "stream",
     "text": [
      "F:\\Anaconda\\lib\\site-packages\\sklearn\\linear_model\\logistic.py:433: FutureWarning: Default solver will be changed to 'lbfgs' in 0.22. Specify a solver to silence this warning.\n",
      "  FutureWarning)\n"
     ]
    },
    {
     "name": "stdout",
     "output_type": "stream",
     "text": [
      "[CV]  C=1.103896551724138, penalty=l1, score=0.8382243223078836, total=   1.0s\n",
      "[CV] C=1.103896551724138, penalty=l2 .................................\n",
      "[CV]  C=1.103896551724138, penalty=l2, score=0.8367727498756837, total=   0.1s\n",
      "[CV] C=1.103896551724138, penalty=l2 ................................."
     ]
    },
    {
     "name": "stderr",
     "output_type": "stream",
     "text": [
      "F:\\Anaconda\\lib\\site-packages\\sklearn\\linear_model\\logistic.py:433: FutureWarning: Default solver will be changed to 'lbfgs' in 0.22. Specify a solver to silence this warning.\n",
      "  FutureWarning)\n"
     ]
    },
    {
     "name": "stdout",
     "output_type": "stream",
     "text": [
      "\n"
     ]
    },
    {
     "name": "stderr",
     "output_type": "stream",
     "text": [
      "F:\\Anaconda\\lib\\site-packages\\sklearn\\linear_model\\logistic.py:433: FutureWarning: Default solver will be changed to 'lbfgs' in 0.22. Specify a solver to silence this warning.\n",
      "  FutureWarning)\n"
     ]
    },
    {
     "name": "stdout",
     "output_type": "stream",
     "text": [
      "[CV]  C=1.103896551724138, penalty=l2, score=0.8445853537237349, total=   0.1s\n",
      "[CV] C=1.103896551724138, penalty=l2 .................................\n",
      "[CV]  C=1.103896551724138, penalty=l2, score=0.8385973638398408, total=   0.1s\n",
      "[CV] C=1.1728275862068966, penalty=l1 ................................"
     ]
    },
    {
     "name": "stderr",
     "output_type": "stream",
     "text": [
      "F:\\Anaconda\\lib\\site-packages\\sklearn\\linear_model\\logistic.py:433: FutureWarning: Default solver will be changed to 'lbfgs' in 0.22. Specify a solver to silence this warning.\n",
      "  FutureWarning)\n"
     ]
    },
    {
     "name": "stdout",
     "output_type": "stream",
     "text": [
      "\n"
     ]
    },
    {
     "name": "stderr",
     "output_type": "stream",
     "text": [
      "F:\\Anaconda\\lib\\site-packages\\sklearn\\linear_model\\logistic.py:433: FutureWarning: Default solver will be changed to 'lbfgs' in 0.22. Specify a solver to silence this warning.\n",
      "  FutureWarning)\n"
     ]
    },
    {
     "name": "stdout",
     "output_type": "stream",
     "text": [
      "[CV]  C=1.1728275862068966, penalty=l1, score=0.8367727498756837, total=   0.6s\n",
      "[CV] C=1.1728275862068966, penalty=l1 ................................\n"
     ]
    },
    {
     "name": "stderr",
     "output_type": "stream",
     "text": [
      "F:\\Anaconda\\lib\\site-packages\\sklearn\\linear_model\\logistic.py:433: FutureWarning: Default solver will be changed to 'lbfgs' in 0.22. Specify a solver to silence this warning.\n",
      "  FutureWarning)\n"
     ]
    },
    {
     "name": "stdout",
     "output_type": "stream",
     "text": [
      "[CV]  C=1.1728275862068966, penalty=l1, score=0.8449583488747979, total=   0.8s\n",
      "[CV] C=1.1728275862068966, penalty=l1 ................................\n"
     ]
    },
    {
     "name": "stderr",
     "output_type": "stream",
     "text": [
      "F:\\Anaconda\\lib\\site-packages\\sklearn\\linear_model\\logistic.py:433: FutureWarning: Default solver will be changed to 'lbfgs' in 0.22. Specify a solver to silence this warning.\n",
      "  FutureWarning)\n"
     ]
    },
    {
     "name": "stdout",
     "output_type": "stream",
     "text": [
      "[CV]  C=1.1728275862068966, penalty=l1, score=0.8382243223078836, total=   1.0s\n",
      "[CV] C=1.1728275862068966, penalty=l2 ................................\n"
     ]
    },
    {
     "name": "stderr",
     "output_type": "stream",
     "text": [
      "F:\\Anaconda\\lib\\site-packages\\sklearn\\linear_model\\logistic.py:433: FutureWarning: Default solver will be changed to 'lbfgs' in 0.22. Specify a solver to silence this warning.\n",
      "  FutureWarning)\n"
     ]
    },
    {
     "name": "stdout",
     "output_type": "stream",
     "text": [
      "[CV]  C=1.1728275862068966, penalty=l2, score=0.8367727498756837, total=   0.1s\n",
      "[CV] C=1.1728275862068966, penalty=l2 ................................\n"
     ]
    },
    {
     "name": "stderr",
     "output_type": "stream",
     "text": [
      "F:\\Anaconda\\lib\\site-packages\\sklearn\\linear_model\\logistic.py:433: FutureWarning: Default solver will be changed to 'lbfgs' in 0.22. Specify a solver to silence this warning.\n",
      "  FutureWarning)\n"
     ]
    },
    {
     "name": "stdout",
     "output_type": "stream",
     "text": [
      "[CV]  C=1.1728275862068966, penalty=l2, score=0.8445853537237349, total=   0.1s\n",
      "[CV] C=1.1728275862068966, penalty=l2 ................................\n",
      "[CV]  C=1.1728275862068966, penalty=l2, score=0.8385973638398408, total=   0.1s\n",
      "[CV] C=1.2417586206896551, penalty=l1 ................................"
     ]
    },
    {
     "name": "stderr",
     "output_type": "stream",
     "text": [
      "F:\\Anaconda\\lib\\site-packages\\sklearn\\linear_model\\logistic.py:433: FutureWarning: Default solver will be changed to 'lbfgs' in 0.22. Specify a solver to silence this warning.\n",
      "  FutureWarning)\n"
     ]
    },
    {
     "name": "stdout",
     "output_type": "stream",
     "text": [
      "\n"
     ]
    },
    {
     "name": "stderr",
     "output_type": "stream",
     "text": [
      "F:\\Anaconda\\lib\\site-packages\\sklearn\\linear_model\\logistic.py:433: FutureWarning: Default solver will be changed to 'lbfgs' in 0.22. Specify a solver to silence this warning.\n",
      "  FutureWarning)\n"
     ]
    },
    {
     "name": "stdout",
     "output_type": "stream",
     "text": [
      "[CV]  C=1.2417586206896551, penalty=l1, score=0.8367727498756837, total=   0.8s\n",
      "[CV] C=1.2417586206896551, penalty=l1 ................................\n"
     ]
    },
    {
     "name": "stderr",
     "output_type": "stream",
     "text": [
      "F:\\Anaconda\\lib\\site-packages\\sklearn\\linear_model\\logistic.py:433: FutureWarning: Default solver will be changed to 'lbfgs' in 0.22. Specify a solver to silence this warning.\n",
      "  FutureWarning)\n"
     ]
    },
    {
     "name": "stdout",
     "output_type": "stream",
     "text": [
      "[CV]  C=1.2417586206896551, penalty=l1, score=0.8449583488747979, total=   0.7s\n",
      "[CV] C=1.2417586206896551, penalty=l1 ................................\n"
     ]
    },
    {
     "name": "stderr",
     "output_type": "stream",
     "text": [
      "F:\\Anaconda\\lib\\site-packages\\sklearn\\linear_model\\logistic.py:433: FutureWarning: Default solver will be changed to 'lbfgs' in 0.22. Specify a solver to silence this warning.\n",
      "  FutureWarning)\n"
     ]
    },
    {
     "name": "stdout",
     "output_type": "stream",
     "text": [
      "[CV]  C=1.2417586206896551, penalty=l1, score=0.8383486694852027, total=   1.0s\n",
      "[CV] C=1.2417586206896551, penalty=l2 ................................\n",
      "[CV]  C=1.2417586206896551, penalty=l2, score=0.8367727498756837, total=   0.1s"
     ]
    },
    {
     "name": "stderr",
     "output_type": "stream",
     "text": [
      "F:\\Anaconda\\lib\\site-packages\\sklearn\\linear_model\\logistic.py:433: FutureWarning: Default solver will be changed to 'lbfgs' in 0.22. Specify a solver to silence this warning.\n",
      "  FutureWarning)\n"
     ]
    },
    {
     "name": "stdout",
     "output_type": "stream",
     "text": [
      "\n",
      "[CV] C=1.2417586206896551, penalty=l2 ................................\n"
     ]
    },
    {
     "name": "stderr",
     "output_type": "stream",
     "text": [
      "F:\\Anaconda\\lib\\site-packages\\sklearn\\linear_model\\logistic.py:433: FutureWarning: Default solver will be changed to 'lbfgs' in 0.22. Specify a solver to silence this warning.\n",
      "  FutureWarning)\n"
     ]
    },
    {
     "name": "stdout",
     "output_type": "stream",
     "text": [
      "[CV]  C=1.2417586206896551, penalty=l2, score=0.844834017157777, total=   0.1s\n",
      "[CV] C=1.2417586206896551, penalty=l2 ................................\n"
     ]
    },
    {
     "name": "stderr",
     "output_type": "stream",
     "text": [
      "F:\\Anaconda\\lib\\site-packages\\sklearn\\linear_model\\logistic.py:433: FutureWarning: Default solver will be changed to 'lbfgs' in 0.22. Specify a solver to silence this warning.\n",
      "  FutureWarning)\n"
     ]
    },
    {
     "name": "stdout",
     "output_type": "stream",
     "text": [
      "[CV]  C=1.2417586206896551, penalty=l2, score=0.8385973638398408, total=   0.1s\n",
      "[CV] C=1.3106896551724139, penalty=l1 ................................\n"
     ]
    },
    {
     "name": "stderr",
     "output_type": "stream",
     "text": [
      "F:\\Anaconda\\lib\\site-packages\\sklearn\\linear_model\\logistic.py:433: FutureWarning: Default solver will be changed to 'lbfgs' in 0.22. Specify a solver to silence this warning.\n",
      "  FutureWarning)\n"
     ]
    },
    {
     "name": "stdout",
     "output_type": "stream",
     "text": [
      "[CV]  C=1.3106896551724139, penalty=l1, score=0.8367727498756837, total=   0.8s\n",
      "[CV] C=1.3106896551724139, penalty=l1 ................................\n"
     ]
    },
    {
     "name": "stderr",
     "output_type": "stream",
     "text": [
      "F:\\Anaconda\\lib\\site-packages\\sklearn\\linear_model\\logistic.py:433: FutureWarning: Default solver will be changed to 'lbfgs' in 0.22. Specify a solver to silence this warning.\n",
      "  FutureWarning)\n"
     ]
    },
    {
     "name": "stdout",
     "output_type": "stream",
     "text": [
      "[CV]  C=1.3106896551724139, penalty=l1, score=0.8449583488747979, total=   0.7s\n",
      "[CV] C=1.3106896551724139, penalty=l1 ................................\n"
     ]
    },
    {
     "name": "stderr",
     "output_type": "stream",
     "text": [
      "F:\\Anaconda\\lib\\site-packages\\sklearn\\linear_model\\logistic.py:433: FutureWarning: Default solver will be changed to 'lbfgs' in 0.22. Specify a solver to silence this warning.\n",
      "  FutureWarning)\n"
     ]
    },
    {
     "name": "stdout",
     "output_type": "stream",
     "text": [
      "[CV]  C=1.3106896551724139, penalty=l1, score=0.8383486694852027, total=   1.1s\n",
      "[CV] C=1.3106896551724139, penalty=l2 ................................\n",
      "[CV]  C=1.3106896551724139, penalty=l2, score=0.8367727498756837, total=   0.1s\n",
      "[CV] C=1.3106896551724139, penalty=l2 ................................"
     ]
    },
    {
     "name": "stderr",
     "output_type": "stream",
     "text": [
      "F:\\Anaconda\\lib\\site-packages\\sklearn\\linear_model\\logistic.py:433: FutureWarning: Default solver will be changed to 'lbfgs' in 0.22. Specify a solver to silence this warning.\n",
      "  FutureWarning)\n"
     ]
    },
    {
     "name": "stdout",
     "output_type": "stream",
     "text": [
      "\n",
      "[CV]  C=1.3106896551724139, penalty=l2, score=0.844834017157777, total=   0.1s\n",
      "[CV] C=1.3106896551724139, penalty=l2 ................................"
     ]
    },
    {
     "name": "stderr",
     "output_type": "stream",
     "text": [
      "F:\\Anaconda\\lib\\site-packages\\sklearn\\linear_model\\logistic.py:433: FutureWarning: Default solver will be changed to 'lbfgs' in 0.22. Specify a solver to silence this warning.\n",
      "  FutureWarning)\n"
     ]
    },
    {
     "name": "stdout",
     "output_type": "stream",
     "text": [
      "\n"
     ]
    },
    {
     "name": "stderr",
     "output_type": "stream",
     "text": [
      "F:\\Anaconda\\lib\\site-packages\\sklearn\\linear_model\\logistic.py:433: FutureWarning: Default solver will be changed to 'lbfgs' in 0.22. Specify a solver to silence this warning.\n",
      "  FutureWarning)\n"
     ]
    },
    {
     "name": "stdout",
     "output_type": "stream",
     "text": [
      "[CV]  C=1.3106896551724139, penalty=l2, score=0.8385973638398408, total=   0.1s\n",
      "[CV] C=1.3796206896551724, penalty=l1 ................................\n"
     ]
    },
    {
     "name": "stderr",
     "output_type": "stream",
     "text": [
      "F:\\Anaconda\\lib\\site-packages\\sklearn\\linear_model\\logistic.py:433: FutureWarning: Default solver will be changed to 'lbfgs' in 0.22. Specify a solver to silence this warning.\n",
      "  FutureWarning)\n"
     ]
    },
    {
     "name": "stdout",
     "output_type": "stream",
     "text": [
      "[CV]  C=1.3796206896551724, penalty=l1, score=0.8367727498756837, total=   0.9s\n",
      "[CV] C=1.3796206896551724, penalty=l1 ................................\n"
     ]
    },
    {
     "name": "stderr",
     "output_type": "stream",
     "text": [
      "F:\\Anaconda\\lib\\site-packages\\sklearn\\linear_model\\logistic.py:433: FutureWarning: Default solver will be changed to 'lbfgs' in 0.22. Specify a solver to silence this warning.\n",
      "  FutureWarning)\n"
     ]
    },
    {
     "name": "stdout",
     "output_type": "stream",
     "text": [
      "[CV]  C=1.3796206896551724, penalty=l1, score=0.8449583488747979, total=   0.8s\n",
      "[CV] C=1.3796206896551724, penalty=l1 ................................\n"
     ]
    },
    {
     "name": "stderr",
     "output_type": "stream",
     "text": [
      "F:\\Anaconda\\lib\\site-packages\\sklearn\\linear_model\\logistic.py:433: FutureWarning: Default solver will be changed to 'lbfgs' in 0.22. Specify a solver to silence this warning.\n",
      "  FutureWarning)\n"
     ]
    },
    {
     "name": "stdout",
     "output_type": "stream",
     "text": [
      "[CV]  C=1.3796206896551724, penalty=l1, score=0.8383486694852027, total=   1.0s\n",
      "[CV] C=1.3796206896551724, penalty=l2 ................................\n",
      "[CV]  C=1.3796206896551724, penalty=l2, score=0.8367727498756837, total=   0.1s\n",
      "[CV] C=1.3796206896551724, penalty=l2 ................................"
     ]
    },
    {
     "name": "stderr",
     "output_type": "stream",
     "text": [
      "F:\\Anaconda\\lib\\site-packages\\sklearn\\linear_model\\logistic.py:433: FutureWarning: Default solver will be changed to 'lbfgs' in 0.22. Specify a solver to silence this warning.\n",
      "  FutureWarning)\n",
      "F:\\Anaconda\\lib\\site-packages\\sklearn\\linear_model\\logistic.py:433: FutureWarning: Default solver will be changed to 'lbfgs' in 0.22. Specify a solver to silence this warning.\n",
      "  FutureWarning)\n"
     ]
    },
    {
     "name": "stdout",
     "output_type": "stream",
     "text": [
      "\n",
      "[CV]  C=1.3796206896551724, penalty=l2, score=0.844834017157777, total=   0.1s\n",
      "[CV] C=1.3796206896551724, penalty=l2 ................................\n",
      "[CV]  C=1.3796206896551724, penalty=l2, score=0.8385973638398408, total=   0.1s\n",
      "[CV] C=1.448551724137931, penalty=l1 ................................."
     ]
    },
    {
     "name": "stderr",
     "output_type": "stream",
     "text": [
      "F:\\Anaconda\\lib\\site-packages\\sklearn\\linear_model\\logistic.py:433: FutureWarning: Default solver will be changed to 'lbfgs' in 0.22. Specify a solver to silence this warning.\n",
      "  FutureWarning)\n"
     ]
    },
    {
     "name": "stdout",
     "output_type": "stream",
     "text": [
      "\n"
     ]
    },
    {
     "name": "stderr",
     "output_type": "stream",
     "text": [
      "F:\\Anaconda\\lib\\site-packages\\sklearn\\linear_model\\logistic.py:433: FutureWarning: Default solver will be changed to 'lbfgs' in 0.22. Specify a solver to silence this warning.\n",
      "  FutureWarning)\n"
     ]
    },
    {
     "name": "stdout",
     "output_type": "stream",
     "text": [
      "[CV]  C=1.448551724137931, penalty=l1, score=0.8367727498756837, total=   0.9s\n",
      "[CV] C=1.448551724137931, penalty=l1 .................................\n"
     ]
    },
    {
     "name": "stderr",
     "output_type": "stream",
     "text": [
      "F:\\Anaconda\\lib\\site-packages\\sklearn\\linear_model\\logistic.py:433: FutureWarning: Default solver will be changed to 'lbfgs' in 0.22. Specify a solver to silence this warning.\n",
      "  FutureWarning)\n"
     ]
    },
    {
     "name": "stdout",
     "output_type": "stream",
     "text": [
      "[CV]  C=1.448551724137931, penalty=l1, score=0.8449583488747979, total=   0.7s\n",
      "[CV] C=1.448551724137931, penalty=l1 .................................\n"
     ]
    },
    {
     "name": "stderr",
     "output_type": "stream",
     "text": [
      "F:\\Anaconda\\lib\\site-packages\\sklearn\\linear_model\\logistic.py:433: FutureWarning: Default solver will be changed to 'lbfgs' in 0.22. Specify a solver to silence this warning.\n",
      "  FutureWarning)\n"
     ]
    },
    {
     "name": "stdout",
     "output_type": "stream",
     "text": [
      "[CV]  C=1.448551724137931, penalty=l1, score=0.8383486694852027, total=   1.0s\n",
      "[CV] C=1.448551724137931, penalty=l2 .................................\n"
     ]
    },
    {
     "name": "stderr",
     "output_type": "stream",
     "text": [
      "F:\\Anaconda\\lib\\site-packages\\sklearn\\linear_model\\logistic.py:433: FutureWarning: Default solver will be changed to 'lbfgs' in 0.22. Specify a solver to silence this warning.\n",
      "  FutureWarning)\n"
     ]
    },
    {
     "name": "stdout",
     "output_type": "stream",
     "text": [
      "[CV]  C=1.448551724137931, penalty=l2, score=0.8368970661362506, total=   0.1s\n",
      "[CV] C=1.448551724137931, penalty=l2 .................................\n"
     ]
    },
    {
     "name": "stderr",
     "output_type": "stream",
     "text": [
      "F:\\Anaconda\\lib\\site-packages\\sklearn\\linear_model\\logistic.py:433: FutureWarning: Default solver will be changed to 'lbfgs' in 0.22. Specify a solver to silence this warning.\n",
      "  FutureWarning)\n"
     ]
    },
    {
     "name": "stdout",
     "output_type": "stream",
     "text": [
      "[CV]  C=1.448551724137931, penalty=l2, score=0.844834017157777, total=   0.1s\n",
      "[CV] C=1.448551724137931, penalty=l2 .................................\n"
     ]
    },
    {
     "name": "stderr",
     "output_type": "stream",
     "text": [
      "F:\\Anaconda\\lib\\site-packages\\sklearn\\linear_model\\logistic.py:433: FutureWarning: Default solver will be changed to 'lbfgs' in 0.22. Specify a solver to silence this warning.\n",
      "  FutureWarning)\n"
     ]
    },
    {
     "name": "stdout",
     "output_type": "stream",
     "text": [
      "[CV]  C=1.448551724137931, penalty=l2, score=0.8385973638398408, total=   0.2s\n",
      "[CV] C=1.5174827586206896, penalty=l1 ................................\n"
     ]
    },
    {
     "name": "stderr",
     "output_type": "stream",
     "text": [
      "F:\\Anaconda\\lib\\site-packages\\sklearn\\linear_model\\logistic.py:433: FutureWarning: Default solver will be changed to 'lbfgs' in 0.22. Specify a solver to silence this warning.\n",
      "  FutureWarning)\n"
     ]
    },
    {
     "name": "stdout",
     "output_type": "stream",
     "text": [
      "[CV]  C=1.5174827586206896, penalty=l1, score=0.8367727498756837, total=   0.9s\n",
      "[CV] C=1.5174827586206896, penalty=l1 ................................\n"
     ]
    },
    {
     "name": "stderr",
     "output_type": "stream",
     "text": [
      "F:\\Anaconda\\lib\\site-packages\\sklearn\\linear_model\\logistic.py:433: FutureWarning: Default solver will be changed to 'lbfgs' in 0.22. Specify a solver to silence this warning.\n",
      "  FutureWarning)\n"
     ]
    },
    {
     "name": "stdout",
     "output_type": "stream",
     "text": [
      "[CV]  C=1.5174827586206896, penalty=l1, score=0.8449583488747979, total=   0.7s\n",
      "[CV] C=1.5174827586206896, penalty=l1 ................................\n"
     ]
    },
    {
     "name": "stderr",
     "output_type": "stream",
     "text": [
      "F:\\Anaconda\\lib\\site-packages\\sklearn\\linear_model\\logistic.py:433: FutureWarning: Default solver will be changed to 'lbfgs' in 0.22. Specify a solver to silence this warning.\n",
      "  FutureWarning)\n"
     ]
    },
    {
     "name": "stdout",
     "output_type": "stream",
     "text": [
      "[CV]  C=1.5174827586206896, penalty=l1, score=0.8383486694852027, total=   1.1s\n",
      "[CV] C=1.5174827586206896, penalty=l2 ................................\n"
     ]
    },
    {
     "name": "stderr",
     "output_type": "stream",
     "text": [
      "F:\\Anaconda\\lib\\site-packages\\sklearn\\linear_model\\logistic.py:433: FutureWarning: Default solver will be changed to 'lbfgs' in 0.22. Specify a solver to silence this warning.\n",
      "  FutureWarning)\n"
     ]
    },
    {
     "name": "stdout",
     "output_type": "stream",
     "text": [
      "[CV]  C=1.5174827586206896, penalty=l2, score=0.8368970661362506, total=   0.1s\n",
      "[CV] C=1.5174827586206896, penalty=l2 ................................\n"
     ]
    },
    {
     "name": "stderr",
     "output_type": "stream",
     "text": [
      "F:\\Anaconda\\lib\\site-packages\\sklearn\\linear_model\\logistic.py:433: FutureWarning: Default solver will be changed to 'lbfgs' in 0.22. Specify a solver to silence this warning.\n",
      "  FutureWarning)\n"
     ]
    },
    {
     "name": "stdout",
     "output_type": "stream",
     "text": [
      "[CV]  C=1.5174827586206896, penalty=l2, score=0.844834017157777, total=   0.1s\n",
      "[CV] C=1.5174827586206896, penalty=l2 ................................\n"
     ]
    },
    {
     "name": "stderr",
     "output_type": "stream",
     "text": [
      "F:\\Anaconda\\lib\\site-packages\\sklearn\\linear_model\\logistic.py:433: FutureWarning: Default solver will be changed to 'lbfgs' in 0.22. Specify a solver to silence this warning.\n",
      "  FutureWarning)\n"
     ]
    },
    {
     "name": "stdout",
     "output_type": "stream",
     "text": [
      "[CV]  C=1.5174827586206896, penalty=l2, score=0.8385973638398408, total=   0.1s\n",
      "[CV] C=1.5864137931034483, penalty=l1 ................................\n"
     ]
    },
    {
     "name": "stderr",
     "output_type": "stream",
     "text": [
      "F:\\Anaconda\\lib\\site-packages\\sklearn\\linear_model\\logistic.py:433: FutureWarning: Default solver will be changed to 'lbfgs' in 0.22. Specify a solver to silence this warning.\n",
      "  FutureWarning)\n"
     ]
    },
    {
     "name": "stdout",
     "output_type": "stream",
     "text": [
      "[CV]  C=1.5864137931034483, penalty=l1, score=0.8367727498756837, total=   1.0s\n",
      "[CV] C=1.5864137931034483, penalty=l1 ................................\n"
     ]
    },
    {
     "name": "stderr",
     "output_type": "stream",
     "text": [
      "F:\\Anaconda\\lib\\site-packages\\sklearn\\linear_model\\logistic.py:433: FutureWarning: Default solver will be changed to 'lbfgs' in 0.22. Specify a solver to silence this warning.\n",
      "  FutureWarning)\n"
     ]
    },
    {
     "name": "stdout",
     "output_type": "stream",
     "text": [
      "[CV]  C=1.5864137931034483, penalty=l1, score=0.8449583488747979, total=   0.7s\n",
      "[CV] C=1.5864137931034483, penalty=l1 ................................\n"
     ]
    },
    {
     "name": "stderr",
     "output_type": "stream",
     "text": [
      "F:\\Anaconda\\lib\\site-packages\\sklearn\\linear_model\\logistic.py:433: FutureWarning: Default solver will be changed to 'lbfgs' in 0.22. Specify a solver to silence this warning.\n",
      "  FutureWarning)\n"
     ]
    },
    {
     "name": "stdout",
     "output_type": "stream",
     "text": [
      "[CV]  C=1.5864137931034483, penalty=l1, score=0.8383486694852027, total=   1.1s\n",
      "[CV] C=1.5864137931034483, penalty=l2 ................................\n",
      "[CV]  C=1.5864137931034483, penalty=l2, score=0.8368970661362506, total=   0.1s\n",
      "[CV] C=1.5864137931034483, penalty=l2 ................................"
     ]
    },
    {
     "name": "stderr",
     "output_type": "stream",
     "text": [
      "F:\\Anaconda\\lib\\site-packages\\sklearn\\linear_model\\logistic.py:433: FutureWarning: Default solver will be changed to 'lbfgs' in 0.22. Specify a solver to silence this warning.\n",
      "  FutureWarning)\n",
      "F:\\Anaconda\\lib\\site-packages\\sklearn\\linear_model\\logistic.py:433: FutureWarning: Default solver will be changed to 'lbfgs' in 0.22. Specify a solver to silence this warning.\n",
      "  FutureWarning)\n"
     ]
    },
    {
     "name": "stdout",
     "output_type": "stream",
     "text": [
      "\n",
      "[CV]  C=1.5864137931034483, penalty=l2, score=0.844834017157777, total=   0.1s\n",
      "[CV] C=1.5864137931034483, penalty=l2 ................................\n"
     ]
    },
    {
     "name": "stderr",
     "output_type": "stream",
     "text": [
      "F:\\Anaconda\\lib\\site-packages\\sklearn\\linear_model\\logistic.py:433: FutureWarning: Default solver will be changed to 'lbfgs' in 0.22. Specify a solver to silence this warning.\n",
      "  FutureWarning)\n"
     ]
    },
    {
     "name": "stdout",
     "output_type": "stream",
     "text": [
      "[CV]  C=1.5864137931034483, penalty=l2, score=0.8385973638398408, total=   0.1s\n",
      "[CV] C=1.655344827586207, penalty=l1 .................................\n"
     ]
    },
    {
     "name": "stderr",
     "output_type": "stream",
     "text": [
      "F:\\Anaconda\\lib\\site-packages\\sklearn\\linear_model\\logistic.py:433: FutureWarning: Default solver will be changed to 'lbfgs' in 0.22. Specify a solver to silence this warning.\n",
      "  FutureWarning)\n"
     ]
    },
    {
     "name": "stdout",
     "output_type": "stream",
     "text": [
      "[CV]  C=1.655344827586207, penalty=l1, score=0.8367727498756837, total=   1.1s\n",
      "[CV] C=1.655344827586207, penalty=l1 .................................\n"
     ]
    },
    {
     "name": "stderr",
     "output_type": "stream",
     "text": [
      "F:\\Anaconda\\lib\\site-packages\\sklearn\\linear_model\\logistic.py:433: FutureWarning: Default solver will be changed to 'lbfgs' in 0.22. Specify a solver to silence this warning.\n",
      "  FutureWarning)\n"
     ]
    },
    {
     "name": "stdout",
     "output_type": "stream",
     "text": [
      "[CV]  C=1.655344827586207, penalty=l1, score=0.8449583488747979, total=   0.9s\n",
      "[CV] C=1.655344827586207, penalty=l1 .................................\n"
     ]
    },
    {
     "name": "stderr",
     "output_type": "stream",
     "text": [
      "F:\\Anaconda\\lib\\site-packages\\sklearn\\linear_model\\logistic.py:433: FutureWarning: Default solver will be changed to 'lbfgs' in 0.22. Specify a solver to silence this warning.\n",
      "  FutureWarning)\n"
     ]
    },
    {
     "name": "stdout",
     "output_type": "stream",
     "text": [
      "[CV]  C=1.655344827586207, penalty=l1, score=0.8383486694852027, total=   1.2s\n",
      "[CV] C=1.655344827586207, penalty=l2 .................................\n"
     ]
    },
    {
     "name": "stderr",
     "output_type": "stream",
     "text": [
      "F:\\Anaconda\\lib\\site-packages\\sklearn\\linear_model\\logistic.py:433: FutureWarning: Default solver will be changed to 'lbfgs' in 0.22. Specify a solver to silence this warning.\n",
      "  FutureWarning)\n"
     ]
    },
    {
     "name": "stdout",
     "output_type": "stream",
     "text": [
      "[CV]  C=1.655344827586207, penalty=l2, score=0.8368970661362506, total=   0.2s\n",
      "[CV] C=1.655344827586207, penalty=l2 .................................\n",
      "[CV]  C=1.655344827586207, penalty=l2, score=0.844834017157777, total=   0.1s\n",
      "[CV] C=1.655344827586207, penalty=l2 ................................."
     ]
    },
    {
     "name": "stderr",
     "output_type": "stream",
     "text": [
      "F:\\Anaconda\\lib\\site-packages\\sklearn\\linear_model\\logistic.py:433: FutureWarning: Default solver will be changed to 'lbfgs' in 0.22. Specify a solver to silence this warning.\n",
      "  FutureWarning)\n",
      "F:\\Anaconda\\lib\\site-packages\\sklearn\\linear_model\\logistic.py:433: FutureWarning: Default solver will be changed to 'lbfgs' in 0.22. Specify a solver to silence this warning.\n",
      "  FutureWarning)\n"
     ]
    },
    {
     "name": "stdout",
     "output_type": "stream",
     "text": [
      "\n",
      "[CV]  C=1.655344827586207, penalty=l2, score=0.8385973638398408, total=   0.1s\n",
      "[CV] C=1.7242758620689655, penalty=l1 ................................\n"
     ]
    },
    {
     "name": "stderr",
     "output_type": "stream",
     "text": [
      "F:\\Anaconda\\lib\\site-packages\\sklearn\\linear_model\\logistic.py:433: FutureWarning: Default solver will be changed to 'lbfgs' in 0.22. Specify a solver to silence this warning.\n",
      "  FutureWarning)\n"
     ]
    },
    {
     "name": "stdout",
     "output_type": "stream",
     "text": [
      "[CV]  C=1.7242758620689655, penalty=l1, score=0.8367727498756837, total=   1.1s\n",
      "[CV] C=1.7242758620689655, penalty=l1 ................................\n"
     ]
    },
    {
     "name": "stderr",
     "output_type": "stream",
     "text": [
      "F:\\Anaconda\\lib\\site-packages\\sklearn\\linear_model\\logistic.py:433: FutureWarning: Default solver will be changed to 'lbfgs' in 0.22. Specify a solver to silence this warning.\n",
      "  FutureWarning)\n"
     ]
    },
    {
     "name": "stdout",
     "output_type": "stream",
     "text": [
      "[CV]  C=1.7242758620689655, penalty=l1, score=0.8449583488747979, total=   0.8s\n",
      "[CV] C=1.7242758620689655, penalty=l1 ................................\n"
     ]
    },
    {
     "name": "stderr",
     "output_type": "stream",
     "text": [
      "F:\\Anaconda\\lib\\site-packages\\sklearn\\linear_model\\logistic.py:433: FutureWarning: Default solver will be changed to 'lbfgs' in 0.22. Specify a solver to silence this warning.\n",
      "  FutureWarning)\n"
     ]
    },
    {
     "name": "stdout",
     "output_type": "stream",
     "text": [
      "[CV]  C=1.7242758620689655, penalty=l1, score=0.8383486694852027, total=   1.2s\n",
      "[CV] C=1.7242758620689655, penalty=l2 ................................\n"
     ]
    },
    {
     "name": "stderr",
     "output_type": "stream",
     "text": [
      "F:\\Anaconda\\lib\\site-packages\\sklearn\\linear_model\\logistic.py:433: FutureWarning: Default solver will be changed to 'lbfgs' in 0.22. Specify a solver to silence this warning.\n",
      "  FutureWarning)\n"
     ]
    },
    {
     "name": "stdout",
     "output_type": "stream",
     "text": [
      "[CV]  C=1.7242758620689655, penalty=l2, score=0.8368970661362506, total=   0.1s\n",
      "[CV] C=1.7242758620689655, penalty=l2 ................................\n",
      "[CV]  C=1.7242758620689655, penalty=l2, score=0.844834017157777, total=   0.1s"
     ]
    },
    {
     "name": "stderr",
     "output_type": "stream",
     "text": [
      "F:\\Anaconda\\lib\\site-packages\\sklearn\\linear_model\\logistic.py:433: FutureWarning: Default solver will be changed to 'lbfgs' in 0.22. Specify a solver to silence this warning.\n",
      "  FutureWarning)\n",
      "F:\\Anaconda\\lib\\site-packages\\sklearn\\linear_model\\logistic.py:433: FutureWarning: Default solver will be changed to 'lbfgs' in 0.22. Specify a solver to silence this warning.\n",
      "  FutureWarning)\n"
     ]
    },
    {
     "name": "stdout",
     "output_type": "stream",
     "text": [
      "\n",
      "[CV] C=1.7242758620689655, penalty=l2 ................................\n",
      "[CV]  C=1.7242758620689655, penalty=l2, score=0.8385973638398408, total=   0.1s\n",
      "[CV] C=1.7932068965517243, penalty=l1 ................................\n"
     ]
    },
    {
     "name": "stderr",
     "output_type": "stream",
     "text": [
      "F:\\Anaconda\\lib\\site-packages\\sklearn\\linear_model\\logistic.py:433: FutureWarning: Default solver will be changed to 'lbfgs' in 0.22. Specify a solver to silence this warning.\n",
      "  FutureWarning)\n"
     ]
    },
    {
     "name": "stdout",
     "output_type": "stream",
     "text": [
      "[CV]  C=1.7932068965517243, penalty=l1, score=0.8367727498756837, total=   1.1s\n",
      "[CV] C=1.7932068965517243, penalty=l1 ................................\n"
     ]
    },
    {
     "name": "stderr",
     "output_type": "stream",
     "text": [
      "F:\\Anaconda\\lib\\site-packages\\sklearn\\linear_model\\logistic.py:433: FutureWarning: Default solver will be changed to 'lbfgs' in 0.22. Specify a solver to silence this warning.\n",
      "  FutureWarning)\n"
     ]
    },
    {
     "name": "stdout",
     "output_type": "stream",
     "text": [
      "[CV]  C=1.7932068965517243, penalty=l1, score=0.8449583488747979, total=   0.9s\n",
      "[CV] C=1.7932068965517243, penalty=l1 ................................\n"
     ]
    },
    {
     "name": "stderr",
     "output_type": "stream",
     "text": [
      "F:\\Anaconda\\lib\\site-packages\\sklearn\\linear_model\\logistic.py:433: FutureWarning: Default solver will be changed to 'lbfgs' in 0.22. Specify a solver to silence this warning.\n",
      "  FutureWarning)\n"
     ]
    },
    {
     "name": "stdout",
     "output_type": "stream",
     "text": [
      "[CV]  C=1.7932068965517243, penalty=l1, score=0.8383486694852027, total=   1.2s\n",
      "[CV] C=1.7932068965517243, penalty=l2 ................................\n",
      "[CV]  C=1.7932068965517243, penalty=l2, score=0.8368970661362506, total=   0.1s"
     ]
    },
    {
     "name": "stderr",
     "output_type": "stream",
     "text": [
      "F:\\Anaconda\\lib\\site-packages\\sklearn\\linear_model\\logistic.py:433: FutureWarning: Default solver will be changed to 'lbfgs' in 0.22. Specify a solver to silence this warning.\n",
      "  FutureWarning)\n"
     ]
    },
    {
     "name": "stdout",
     "output_type": "stream",
     "text": [
      "\n",
      "[CV] C=1.7932068965517243, penalty=l2 ................................\n"
     ]
    },
    {
     "name": "stderr",
     "output_type": "stream",
     "text": [
      "F:\\Anaconda\\lib\\site-packages\\sklearn\\linear_model\\logistic.py:433: FutureWarning: Default solver will be changed to 'lbfgs' in 0.22. Specify a solver to silence this warning.\n",
      "  FutureWarning)\n"
     ]
    },
    {
     "name": "stdout",
     "output_type": "stream",
     "text": [
      "[CV]  C=1.7932068965517243, penalty=l2, score=0.844834017157777, total=   0.1s\n",
      "[CV] C=1.7932068965517243, penalty=l2 ................................\n"
     ]
    },
    {
     "name": "stderr",
     "output_type": "stream",
     "text": [
      "F:\\Anaconda\\lib\\site-packages\\sklearn\\linear_model\\logistic.py:433: FutureWarning: Default solver will be changed to 'lbfgs' in 0.22. Specify a solver to silence this warning.\n",
      "  FutureWarning)\n"
     ]
    },
    {
     "name": "stdout",
     "output_type": "stream",
     "text": [
      "[CV]  C=1.7932068965517243, penalty=l2, score=0.8385973638398408, total=   0.1s\n",
      "[CV] C=1.8621379310344828, penalty=l1 ................................\n"
     ]
    },
    {
     "name": "stderr",
     "output_type": "stream",
     "text": [
      "F:\\Anaconda\\lib\\site-packages\\sklearn\\linear_model\\logistic.py:433: FutureWarning: Default solver will be changed to 'lbfgs' in 0.22. Specify a solver to silence this warning.\n",
      "  FutureWarning)\n"
     ]
    },
    {
     "name": "stdout",
     "output_type": "stream",
     "text": [
      "[CV]  C=1.8621379310344828, penalty=l1, score=0.8367727498756837, total=   1.2s\n",
      "[CV] C=1.8621379310344828, penalty=l1 ................................\n"
     ]
    },
    {
     "name": "stderr",
     "output_type": "stream",
     "text": [
      "F:\\Anaconda\\lib\\site-packages\\sklearn\\linear_model\\logistic.py:433: FutureWarning: Default solver will be changed to 'lbfgs' in 0.22. Specify a solver to silence this warning.\n",
      "  FutureWarning)\n"
     ]
    },
    {
     "name": "stdout",
     "output_type": "stream",
     "text": [
      "[CV]  C=1.8621379310344828, penalty=l1, score=0.8449583488747979, total=   0.7s\n",
      "[CV] C=1.8621379310344828, penalty=l1 ................................\n"
     ]
    },
    {
     "name": "stderr",
     "output_type": "stream",
     "text": [
      "F:\\Anaconda\\lib\\site-packages\\sklearn\\linear_model\\logistic.py:433: FutureWarning: Default solver will be changed to 'lbfgs' in 0.22. Specify a solver to silence this warning.\n",
      "  FutureWarning)\n"
     ]
    },
    {
     "name": "stdout",
     "output_type": "stream",
     "text": [
      "[CV]  C=1.8621379310344828, penalty=l1, score=0.8383486694852027, total=   1.0s\n",
      "[CV] C=1.8621379310344828, penalty=l2 ................................\n",
      "[CV]  C=1.8621379310344828, penalty=l2, score=0.8368970661362506, total=   0.1s"
     ]
    },
    {
     "name": "stderr",
     "output_type": "stream",
     "text": [
      "F:\\Anaconda\\lib\\site-packages\\sklearn\\linear_model\\logistic.py:433: FutureWarning: Default solver will be changed to 'lbfgs' in 0.22. Specify a solver to silence this warning.\n",
      "  FutureWarning)\n",
      "F:\\Anaconda\\lib\\site-packages\\sklearn\\linear_model\\logistic.py:433: FutureWarning: Default solver will be changed to 'lbfgs' in 0.22. Specify a solver to silence this warning.\n",
      "  FutureWarning)\n"
     ]
    },
    {
     "name": "stdout",
     "output_type": "stream",
     "text": [
      "\n",
      "[CV] C=1.8621379310344828, penalty=l2 ................................\n",
      "[CV]  C=1.8621379310344828, penalty=l2, score=0.844834017157777, total=   0.1s\n",
      "[CV] C=1.8621379310344828, penalty=l2 ................................\n",
      "[CV]  C=1.8621379310344828, penalty=l2, score=0.8385973638398408, total=   0.1s\n",
      "[CV] C=1.9310689655172415, penalty=l1 ................................\n"
     ]
    },
    {
     "name": "stderr",
     "output_type": "stream",
     "text": [
      "F:\\Anaconda\\lib\\site-packages\\sklearn\\linear_model\\logistic.py:433: FutureWarning: Default solver will be changed to 'lbfgs' in 0.22. Specify a solver to silence this warning.\n",
      "  FutureWarning)\n",
      "F:\\Anaconda\\lib\\site-packages\\sklearn\\linear_model\\logistic.py:433: FutureWarning: Default solver will be changed to 'lbfgs' in 0.22. Specify a solver to silence this warning.\n",
      "  FutureWarning)\n"
     ]
    },
    {
     "name": "stdout",
     "output_type": "stream",
     "text": [
      "[CV]  C=1.9310689655172415, penalty=l1, score=0.8366484336151169, total=   1.3s\n",
      "[CV] C=1.9310689655172415, penalty=l1 ................................\n"
     ]
    },
    {
     "name": "stderr",
     "output_type": "stream",
     "text": [
      "F:\\Anaconda\\lib\\site-packages\\sklearn\\linear_model\\logistic.py:433: FutureWarning: Default solver will be changed to 'lbfgs' in 0.22. Specify a solver to silence this warning.\n",
      "  FutureWarning)\n"
     ]
    },
    {
     "name": "stdout",
     "output_type": "stream",
     "text": [
      "[CV]  C=1.9310689655172415, penalty=l1, score=0.8449583488747979, total=   1.5s\n",
      "[CV] C=1.9310689655172415, penalty=l1 ................................\n"
     ]
    },
    {
     "name": "stderr",
     "output_type": "stream",
     "text": [
      "F:\\Anaconda\\lib\\site-packages\\sklearn\\linear_model\\logistic.py:433: FutureWarning: Default solver will be changed to 'lbfgs' in 0.22. Specify a solver to silence this warning.\n",
      "  FutureWarning)\n"
     ]
    },
    {
     "name": "stdout",
     "output_type": "stream",
     "text": [
      "[CV]  C=1.9310689655172415, penalty=l1, score=0.8383486694852027, total=   1.2s\n",
      "[CV] C=1.9310689655172415, penalty=l2 ................................\n"
     ]
    },
    {
     "name": "stderr",
     "output_type": "stream",
     "text": [
      "F:\\Anaconda\\lib\\site-packages\\sklearn\\linear_model\\logistic.py:433: FutureWarning: Default solver will be changed to 'lbfgs' in 0.22. Specify a solver to silence this warning.\n",
      "  FutureWarning)\n"
     ]
    },
    {
     "name": "stdout",
     "output_type": "stream",
     "text": [
      "[CV]  C=1.9310689655172415, penalty=l2, score=0.8368970661362506, total=   0.2s\n",
      "[CV] C=1.9310689655172415, penalty=l2 ................................\n"
     ]
    },
    {
     "name": "stderr",
     "output_type": "stream",
     "text": [
      "F:\\Anaconda\\lib\\site-packages\\sklearn\\linear_model\\logistic.py:433: FutureWarning: Default solver will be changed to 'lbfgs' in 0.22. Specify a solver to silence this warning.\n",
      "  FutureWarning)\n"
     ]
    },
    {
     "name": "stdout",
     "output_type": "stream",
     "text": [
      "[CV]  C=1.9310689655172415, penalty=l2, score=0.844834017157777, total=   0.2s\n",
      "[CV] C=1.9310689655172415, penalty=l2 ................................\n"
     ]
    },
    {
     "name": "stderr",
     "output_type": "stream",
     "text": [
      "F:\\Anaconda\\lib\\site-packages\\sklearn\\linear_model\\logistic.py:433: FutureWarning: Default solver will be changed to 'lbfgs' in 0.22. Specify a solver to silence this warning.\n",
      "  FutureWarning)\n"
     ]
    },
    {
     "name": "stdout",
     "output_type": "stream",
     "text": [
      "[CV]  C=1.9310689655172415, penalty=l2, score=0.8385973638398408, total=   0.2s\n",
      "[CV] C=2.0, penalty=l1 ...............................................\n"
     ]
    },
    {
     "name": "stderr",
     "output_type": "stream",
     "text": [
      "F:\\Anaconda\\lib\\site-packages\\sklearn\\linear_model\\logistic.py:433: FutureWarning: Default solver will be changed to 'lbfgs' in 0.22. Specify a solver to silence this warning.\n",
      "  FutureWarning)\n"
     ]
    },
    {
     "name": "stdout",
     "output_type": "stream",
     "text": [
      "[CV] ...... C=2.0, penalty=l1, score=0.8366484336151169, total=   1.3s\n",
      "[CV] C=2.0, penalty=l1 ...............................................\n"
     ]
    },
    {
     "name": "stderr",
     "output_type": "stream",
     "text": [
      "F:\\Anaconda\\lib\\site-packages\\sklearn\\linear_model\\logistic.py:433: FutureWarning: Default solver will be changed to 'lbfgs' in 0.22. Specify a solver to silence this warning.\n",
      "  FutureWarning)\n"
     ]
    },
    {
     "name": "stdout",
     "output_type": "stream",
     "text": [
      "[CV] ...... C=2.0, penalty=l1, score=0.8449583488747979, total=   1.3s\n",
      "[CV] C=2.0, penalty=l1 ...............................................\n"
     ]
    },
    {
     "name": "stderr",
     "output_type": "stream",
     "text": [
      "F:\\Anaconda\\lib\\site-packages\\sklearn\\linear_model\\logistic.py:433: FutureWarning: Default solver will be changed to 'lbfgs' in 0.22. Specify a solver to silence this warning.\n",
      "  FutureWarning)\n"
     ]
    },
    {
     "name": "stdout",
     "output_type": "stream",
     "text": [
      "[CV] ...... C=2.0, penalty=l1, score=0.8383486694852027, total=   1.2s\n",
      "[CV] C=2.0, penalty=l2 ...............................................\n"
     ]
    },
    {
     "name": "stderr",
     "output_type": "stream",
     "text": [
      "F:\\Anaconda\\lib\\site-packages\\sklearn\\linear_model\\logistic.py:433: FutureWarning: Default solver will be changed to 'lbfgs' in 0.22. Specify a solver to silence this warning.\n",
      "  FutureWarning)\n"
     ]
    },
    {
     "name": "stdout",
     "output_type": "stream",
     "text": [
      "[CV] ...... C=2.0, penalty=l2, score=0.8368970661362506, total=   0.1s\n",
      "[CV] C=2.0, penalty=l2 ...............................................\n"
     ]
    },
    {
     "name": "stderr",
     "output_type": "stream",
     "text": [
      "F:\\Anaconda\\lib\\site-packages\\sklearn\\linear_model\\logistic.py:433: FutureWarning: Default solver will be changed to 'lbfgs' in 0.22. Specify a solver to silence this warning.\n",
      "  FutureWarning)\n"
     ]
    },
    {
     "name": "stdout",
     "output_type": "stream",
     "text": [
      "[CV] ....... C=2.0, penalty=l2, score=0.844834017157777, total=   0.1s\n",
      "[CV] C=2.0, penalty=l2 ...............................................\n"
     ]
    },
    {
     "name": "stderr",
     "output_type": "stream",
     "text": [
      "F:\\Anaconda\\lib\\site-packages\\sklearn\\linear_model\\logistic.py:433: FutureWarning: Default solver will be changed to 'lbfgs' in 0.22. Specify a solver to silence this warning.\n",
      "  FutureWarning)\n"
     ]
    },
    {
     "name": "stdout",
     "output_type": "stream",
     "text": [
      "[CV] ...... C=2.0, penalty=l2, score=0.8385973638398408, total=   0.2s\n"
     ]
    },
    {
     "name": "stderr",
     "output_type": "stream",
     "text": [
      "[Parallel(n_jobs=1)]: Done 180 out of 180 | elapsed:  1.7min finished\n",
      "F:\\Anaconda\\lib\\site-packages\\sklearn\\linear_model\\logistic.py:433: FutureWarning: Default solver will be changed to 'lbfgs' in 0.22. Specify a solver to silence this warning.\n",
      "  FutureWarning)\n"
     ]
    },
    {
     "data": {
      "text/plain": [
       "GridSearchCV(cv='warn', error_score='raise-deprecating',\n",
       "       estimator=LogisticRegression(C=1.0, class_weight=None, dual=False, fit_intercept=True,\n",
       "          intercept_scaling=1, max_iter=100, multi_class='warn',\n",
       "          n_jobs=None, penalty='l2', random_state=10, solver='warn',\n",
       "          tol=0.0001, verbose=0, warm_start=False),\n",
       "       fit_params=None, iid='warn', n_jobs=None,\n",
       "       param_grid={'penalty': ['l1', 'l2'], 'C': array([1.00000e-03, 6.99310e-02, 1.38862e-01, 2.07793e-01, 2.76724e-01,\n",
       "       3.45655e-01, 4.14586e-01, 4.83517e-01, 5.52448e-01, 6.21379e-01,\n",
       "       6.90310e-01, 7.59241e-01, 8.28172e-01, 8.97103e-01, 9.66034e-01,\n",
       "       1.03497e+00, 1.10390e+00, 1.17283e+00, 1.24176e+00, 1.31069e+00,\n",
       "       1.37962e+00, 1.44855e+00, 1.51748e+00, 1.58641e+00, 1.65534e+00,\n",
       "       1.72428e+00, 1.79321e+00, 1.86214e+00, 1.93107e+00, 2.00000e+00])},\n",
       "       pre_dispatch='2*n_jobs', refit=True, return_train_score='warn',\n",
       "       scoring=None, verbose=4)"
      ]
     },
     "execution_count": 50,
     "metadata": {},
     "output_type": "execute_result"
    }
   ],
   "source": [
    "grid.fit(X_train,y_train)"
   ]
  },
  {
   "cell_type": "code",
   "execution_count": 51,
   "metadata": {},
   "outputs": [],
   "source": [
    "best_model_logistic_regression = grid.best_estimator_"
   ]
  },
  {
   "cell_type": "code",
   "execution_count": 52,
   "metadata": {},
   "outputs": [],
   "source": [
    "y_pred = best_model_logistic_regression.predict(X_test)"
   ]
  },
  {
   "cell_type": "code",
   "execution_count": 53,
   "metadata": {},
   "outputs": [],
   "source": [
    "y_pred_lr = y_pred\n",
    "y_test_lr = y_test"
   ]
  },
  {
   "cell_type": "code",
   "execution_count": 54,
   "metadata": {},
   "outputs": [
    {
     "data": {
      "text/plain": [
       "0.840046411403945"
      ]
     },
     "execution_count": 54,
     "metadata": {},
     "output_type": "execute_result"
    }
   ],
   "source": [
    "accuracy_score(y_test_lr,y_pred_lr)"
   ]
  },
  {
   "cell_type": "code",
   "execution_count": 55,
   "metadata": {},
   "outputs": [
    {
     "data": {
      "text/plain": [
       "array([[4189,  320],\n",
       "       [ 645,  879]], dtype=int64)"
      ]
     },
     "execution_count": 55,
     "metadata": {},
     "output_type": "execute_result"
    }
   ],
   "source": [
    "confusion_matrix(y_test_lr,y_pred_lr)"
   ]
  },
  {
   "cell_type": "markdown",
   "metadata": {},
   "source": [
    "# Random Forest Model"
   ]
  },
  {
   "cell_type": "code",
   "execution_count": 56,
   "metadata": {},
   "outputs": [],
   "source": [
    "from sklearn.model_selection import StratifiedKFold\n",
    "from sklearn.model_selection import cross_val_score,RandomizedSearchCV\n",
    "from sklearn.ensemble import RandomForestClassifier\n",
    "import warnings\n",
    "warnings.filterwarnings('ignore')"
   ]
  },
  {
   "cell_type": "code",
   "execution_count": 57,
   "metadata": {},
   "outputs": [
    {
     "data": {
      "text/plain": [
       "array([0.84009942, 0.84921292, 0.84424192, 0.84299917, 0.83961873,\n",
       "       0.86235489, 0.85406302, 0.84452736, 0.83955224, 0.83830846])"
      ]
     },
     "execution_count": 57,
     "metadata": {},
     "output_type": "execute_result"
    }
   ],
   "source": [
    "scores = cross_val_score(estimator=RandomForestClassifier(),X=X_train,y=y_train,cv=10,n_jobs=-1) #Cross Validation\n",
    "scores"
   ]
  },
  {
   "cell_type": "code",
   "execution_count": 58,
   "metadata": {},
   "outputs": [],
   "source": [
    "n_estimators = [10,100,500,1000,2000]\n",
    "criterion = ['gini','entropy']\n",
    "min_samples_split = [2,10,20,50,100]\n",
    "max_depth = [20,30,40,50,None]"
   ]
  },
  {
   "cell_type": "code",
   "execution_count": 59,
   "metadata": {},
   "outputs": [
    {
     "name": "stdout",
     "output_type": "stream",
     "text": [
      "Fitting 5 folds for each of 10 candidates, totalling 50 fits\n"
     ]
    },
    {
     "name": "stderr",
     "output_type": "stream",
     "text": [
      "[Parallel(n_jobs=-1)]: Using backend LokyBackend with 4 concurrent workers.\n",
      "[Parallel(n_jobs=-1)]: Done  33 tasks      | elapsed:  2.5min\n",
      "[Parallel(n_jobs=-1)]: Done  50 out of  50 | elapsed:  5.0min finished\n"
     ]
    },
    {
     "data": {
      "text/plain": [
       "RandomizedSearchCV(cv=5, error_score='raise-deprecating',\n",
       "          estimator=RandomForestClassifier(bootstrap=True, class_weight=None, criterion='gini',\n",
       "            max_depth=None, max_features='auto', max_leaf_nodes=None,\n",
       "            min_impurity_decrease=0.0, min_impurity_split=None,\n",
       "            min_samples_leaf=1, min_samples_split=2,\n",
       "            min_weight_fraction_leaf=0.0, n_estimators='warn', n_jobs=None,\n",
       "            oob_score=False, random_state=None, verbose=0,\n",
       "            warm_start=False),\n",
       "          fit_params=None, iid='warn', n_iter=10, n_jobs=-1,\n",
       "          param_distributions={'n_estimators': [10, 100, 500, 1000, 2000], 'criterion': ['gini', 'entropy'], 'min_samples_split': [2, 10, 20, 50, 100], 'max_depth': [20, 30, 40, 50, None]},\n",
       "          pre_dispatch='2*n_jobs', random_state=None, refit=True,\n",
       "          return_train_score='warn', scoring=None, verbose=2)"
      ]
     },
     "execution_count": 59,
     "metadata": {},
     "output_type": "execute_result"
    }
   ],
   "source": [
    "#Model Training using RamdomSearch and cross-validation\n",
    "param_grid = {'n_estimators':n_estimators,\n",
    "             'criterion':criterion, 'min_samples_split':min_samples_split, 'max_depth': max_depth}\n",
    "rf= RandomForestClassifier()\n",
    "rf_g= RandomizedSearchCV(rf, param_grid, cv=5, verbose=2, n_jobs=-1)\n",
    "rf_g.fit(X_train,y_train)"
   ]
  },
  {
   "cell_type": "code",
   "execution_count": 60,
   "metadata": {},
   "outputs": [],
   "source": [
    "#Lets find out the best setting of the hyperparameters\n",
    "best_model_randomForest = rf_g.best_estimator_"
   ]
  },
  {
   "cell_type": "code",
   "execution_count": 61,
   "metadata": {},
   "outputs": [],
   "source": [
    "y_pred = best_model_randomForest.predict(X_test)"
   ]
  },
  {
   "cell_type": "code",
   "execution_count": 62,
   "metadata": {},
   "outputs": [],
   "source": [
    "y_pred_rf = y_pred\n",
    "y_test_rf = y_test"
   ]
  },
  {
   "cell_type": "code",
   "execution_count": 63,
   "metadata": {},
   "outputs": [
    {
     "data": {
      "text/plain": [
       "0.8634178683905188"
      ]
     },
     "execution_count": 63,
     "metadata": {},
     "output_type": "execute_result"
    }
   ],
   "source": [
    "accuracy_score(y_test_rf,y_pred_rf)"
   ]
  },
  {
   "cell_type": "code",
   "execution_count": 64,
   "metadata": {},
   "outputs": [
    {
     "data": {
      "text/plain": [
       "array([[4241,  268],\n",
       "       [ 556,  968]], dtype=int64)"
      ]
     },
     "execution_count": 64,
     "metadata": {},
     "output_type": "execute_result"
    }
   ],
   "source": [
    "confusion_matrix(y_test_rf,y_pred_rf)"
   ]
  },
  {
   "cell_type": "markdown",
   "metadata": {},
   "source": [
    "## Artificial Neural Network"
   ]
  },
  {
   "cell_type": "code",
   "execution_count": 65,
   "metadata": {},
   "outputs": [
    {
     "name": "stderr",
     "output_type": "stream",
     "text": [
      "Using TensorFlow backend.\n"
     ]
    }
   ],
   "source": [
    "from keras import layers,models"
   ]
  },
  {
   "cell_type": "markdown",
   "metadata": {},
   "source": [
    "### Determining the Principal Component using PCA before feeding to ANN\n",
    "\n",
    "#### PCA Analyses"
   ]
  },
  {
   "cell_type": "code",
   "execution_count": 66,
   "metadata": {},
   "outputs": [],
   "source": [
    "from sklearn.decomposition import PCA"
   ]
  },
  {
   "cell_type": "code",
   "execution_count": 67,
   "metadata": {},
   "outputs": [],
   "source": [
    "X_PCA = data.iloc[:,:-1]\n",
    "y_PCA = data.iloc[:,-1]"
   ]
  },
  {
   "cell_type": "code",
   "execution_count": 68,
   "metadata": {},
   "outputs": [
    {
     "data": {
      "text/plain": [
       "array([[ 6.95778620e-04, -3.24678222e-04, -8.54112635e-06,\n",
       "        -2.24516202e-04, -2.16759936e-05, -1.90905716e-05,\n",
       "        -1.78347952e-04,  1.26336120e-05, -6.99383041e-05,\n",
       "        -7.41462104e-05,  2.99097713e-04, -2.06602921e-05,\n",
       "        -3.18725815e-05, -5.33243294e-06,  6.44673664e-05,\n",
       "        -1.72055879e-04, -4.11956941e-04, -1.10730051e-04,\n",
       "        -2.39527381e-05,  9.55895688e-05,  5.88300481e-06,\n",
       "        -1.00028628e-04, -6.99893771e-05, -1.52193411e-04,\n",
       "         1.92194059e-04,  1.84456842e-04],\n",
       "       [-3.24678222e-04,  2.48873588e-01, -5.72052105e-03,\n",
       "        -1.50372399e-01, -1.45177548e-02, -1.27861376e-02,\n",
       "        -1.18986488e-01, -9.83237427e-03, -6.62963371e-02,\n",
       "        -4.96603071e-02,  2.45469575e-02,  8.17209913e-04,\n",
       "        -1.81562284e-02, -5.21163701e-04,  1.86680519e-02,\n",
       "         1.02168217e-01,  1.53818521e-01,  3.92241864e-02,\n",
       "        -1.45427832e-02,  5.07567724e-03,  4.02780905e-02,\n",
       "         1.40019371e-02,  4.20638946e-02,  4.05925375e-02,\n",
       "         1.11560056e-01, -1.67703720e-03],\n",
       "       [-8.54112635e-06, -5.72052105e-03,  1.21170113e-02,\n",
       "        -3.95576166e-03, -3.81910364e-04, -3.36357690e-04,\n",
       "         2.85880623e-03,  5.00466034e-04, -3.90730698e-04,\n",
       "         2.67226231e-03, -5.71848745e-04,  7.30113508e-04,\n",
       "         6.44660473e-04,  3.70223201e-04, -1.89391837e-03,\n",
       "        -2.28783248e-03,  1.74171310e-03,  1.47727647e-04,\n",
       "         5.36756163e-04, -3.18743082e-03, -4.47131989e-03,\n",
       "        -1.33415261e-03, -7.20084813e-04, -1.16540971e-03,\n",
       "        -1.09751886e-03, -1.09293912e-02],\n",
       "       [-2.24516202e-04, -1.50372399e-01, -3.95576166e-03,\n",
       "         2.18486339e-01, -1.00390816e-02, -8.84166188e-03,\n",
       "         6.48746363e-02,  8.66463961e-03,  8.25204517e-02,\n",
       "        -7.78281284e-03, -1.50318943e-02,  8.42128676e-04,\n",
       "         9.56976816e-03,  3.15375319e-04, -1.08193382e-02,\n",
       "        -3.83842967e-02, -2.44936288e-01, -2.68543363e-02,\n",
       "         1.80353267e-02, -6.88978622e-03, -1.40929508e-02,\n",
       "         5.04796059e-03, -3.08341067e-02, -2.88675917e-02,\n",
       "        -9.94713561e-02,  3.34063847e-03],\n",
       "       [-2.16759936e-05, -1.45177548e-02, -3.81910364e-04,\n",
       "        -1.00390816e-02,  3.01636934e-02, -8.53621273e-04,\n",
       "         4.72381668e-03,  8.39619102e-04, -1.62577537e-03,\n",
       "         1.03777851e-02, -1.45125938e-03, -3.27013016e-04,\n",
       "         5.04961613e-03,  1.92584262e-04, -4.95153498e-03,\n",
       "        -8.93431496e-03,  2.27392261e-03, -1.74360247e-03,\n",
       "         5.20497542e-03, -2.35174145e-03, -8.99648262e-03,\n",
       "        -1.00629905e-03, -2.17770306e-03, -2.08463984e-03,\n",
       "        -3.17564794e-03, -3.16730430e-03],\n",
       "       [-1.90905716e-05, -1.27861376e-02, -3.36357690e-04,\n",
       "        -8.84166188e-03, -8.53621273e-04,  2.66677104e-02,\n",
       "         7.29962032e-03,  5.18048443e-04, -3.66206343e-03,\n",
       "         8.45235360e-03, -1.27815922e-03, -1.17358594e-04,\n",
       "         9.86763912e-04, -4.42192908e-05, -8.96744618e-04,\n",
       "        -1.38520339e-02,  4.03178932e-02, -2.32320843e-03,\n",
       "        -3.74760320e-03, -3.71386995e-03, -1.01330591e-02,\n",
       "        -8.54051481e-04, -1.86949214e-03, -7.29880604e-04,\n",
       "        -1.48984261e-02, -6.18183432e-05],\n",
       "       [-1.78347952e-04, -1.18986488e-01,  2.85880623e-03,\n",
       "         6.48746363e-02,  4.72381668e-03,  7.29962032e-03,\n",
       "         1.90543555e-01, -7.55006330e-03, -3.79286644e-02,\n",
       "        -2.72787439e-02, -1.19408200e-02, -1.40096017e-03,\n",
       "         3.78803900e-04, -3.88143078e-05,  1.10271108e-03,\n",
       "        -3.51559796e-02, -1.04840368e-02, -1.09477000e-02,\n",
       "         4.57510107e-03,  7.07368460e-03,  2.50262473e-02,\n",
       "         4.87089430e-04, -1.15945115e-02, -8.01329512e-03,\n",
       "         3.23881285e-03,  3.09156281e-03],\n",
       "       [ 1.26336120e-05, -9.83237427e-03,  5.00466034e-04,\n",
       "         8.66463961e-03,  8.39619102e-04,  5.18048443e-04,\n",
       "        -7.55006330e-03,  2.86063944e-02, -4.36430011e-03,\n",
       "        -3.13885624e-03, -1.37398253e-03,  1.37994812e-03,\n",
       "         2.08783711e-03,  6.03145323e-04, -4.15615275e-03,\n",
       "        -3.23874015e-03, -1.17236341e-02, -3.06555956e-03,\n",
       "         4.52611028e-03, -6.45079519e-03, -1.57048471e-02,\n",
       "        -1.50827895e-03, -3.41192591e-03, -2.45411945e-03,\n",
       "        -8.78681011e-03, -1.48804514e-02],\n",
       "       [-6.99383041e-05, -6.62963371e-02, -3.90730698e-04,\n",
       "         8.25204517e-02, -1.62577537e-03, -3.66206343e-03,\n",
       "        -3.79286644e-02, -4.36430011e-03,  1.26147419e-01,\n",
       "        -1.57684274e-02, -6.90236891e-03,  4.13777449e-04,\n",
       "         2.21792935e-03, -1.72524157e-04, -2.48082676e-03,\n",
       "        -1.69957092e-02, -1.49395331e-01, -1.27274497e-02,\n",
       "         5.19498238e-03, -6.29316030e-03, -3.44143513e-02,\n",
       "         1.71400361e-03, -1.85934935e-02, -1.80553063e-02,\n",
       "        -9.36640431e-02,  1.25254702e-02],\n",
       "       [-7.41462104e-05, -4.96603071e-02,  2.67226231e-03,\n",
       "        -7.78281284e-03,  1.03777851e-02,  8.45235360e-03,\n",
       "        -2.72787439e-02, -3.13885624e-03, -1.57684274e-02,\n",
       "         9.51543033e-02, -4.96426532e-03, -4.74453523e-04,\n",
       "         1.32625950e-02,  3.44830663e-04, -1.39467184e-02,\n",
       "        -4.71237377e-02,  1.53868198e-02, -1.22077617e-02,\n",
       "         1.00416563e-03, -1.57462224e-03, -1.82637999e-02,\n",
       "        -1.48027922e-02, -8.88272948e-03, -1.26243596e-02,\n",
       "        -1.33291972e-02, -3.89813444e-03],\n",
       "       [ 2.99097713e-04,  2.45469575e-02, -5.71848745e-04,\n",
       "        -1.50318943e-02, -1.45125938e-03, -1.27815922e-03,\n",
       "        -1.19408200e-02, -1.37398253e-03, -6.90236891e-03,\n",
       "        -4.96426532e-03,  4.44434663e-02,  4.73446615e-04,\n",
       "         5.58899650e-05,  7.69031145e-06, -6.58645056e-04,\n",
       "        -3.14648917e-02,  5.18066353e-03, -7.73319594e-04,\n",
       "        -3.66802985e-03,  2.12842231e-03,  7.09195347e-03,\n",
       "        -5.88765983e-03,  3.28726326e-03,  3.15833879e-03,\n",
       "        -1.28536778e-02, -2.52463951e-03],\n",
       "       [-2.06602921e-05,  8.17209913e-04,  7.30113508e-04,\n",
       "         8.42128676e-04, -3.27013016e-04, -1.17358594e-04,\n",
       "        -1.40096017e-03,  1.37994812e-03,  4.13777449e-04,\n",
       "        -4.74453523e-04,  4.73446615e-04,  2.87935605e-02,\n",
       "        -2.77143061e-03, -2.27263213e-04, -2.55134931e-02,\n",
       "        -1.23926577e-04, -1.19127755e-03,  1.44609367e-03,\n",
       "        -8.55424793e-03,  1.47225594e-03,  1.05244490e-02,\n",
       "         5.26060698e-04,  8.50880659e-04,  2.43042593e-04,\n",
       "        -1.06679820e-03, -3.69032139e-02],\n",
       "       [-3.18725815e-05, -1.81562284e-02,  6.44660473e-04,\n",
       "         9.56976816e-03,  5.04961613e-03,  9.86763912e-04,\n",
       "         3.78803900e-04,  2.08783711e-03,  2.21792935e-03,\n",
       "         1.32625950e-02,  5.58899650e-05, -2.77143061e-03,\n",
       "         8.46757208e-02, -7.15307790e-04, -8.03033633e-02,\n",
       "        -1.60937509e-02, -4.10344035e-03, -1.77434760e-02,\n",
       "         3.44891793e-02, -4.65482005e-03, -2.16324760e-02,\n",
       "        -1.47200157e-03, -6.14508721e-03, -7.41680166e-03,\n",
       "        -1.75945330e-02,  5.88302949e-03],\n",
       "       [-5.33243294e-06, -5.21163701e-04,  3.70223201e-04,\n",
       "         3.15375319e-04,  1.92584262e-04, -4.42192908e-05,\n",
       "        -3.88143078e-05,  6.03145323e-04, -1.72524157e-04,\n",
       "         3.44830663e-04,  7.69031145e-06, -2.27263213e-04,\n",
       "        -7.15307790e-04,  7.60024049e-03, -6.58504683e-03,\n",
       "        -4.00621696e-04, -2.82004503e-03, -1.18327315e-03,\n",
       "         4.33388116e-04, -2.45345291e-03, -4.31708188e-03,\n",
       "         5.86459521e-04, -3.24238689e-05, -7.21351447e-04,\n",
       "        -5.23399652e-04, -1.04342443e-02],\n",
       "       [ 6.44673664e-05,  1.86680519e-02, -1.89391837e-03,\n",
       "        -1.08193382e-02, -4.95153498e-03, -8.96744618e-04,\n",
       "         1.10271108e-03, -4.15615275e-03, -2.48082676e-03,\n",
       "        -1.39467184e-02, -6.58645056e-04, -2.55134931e-02,\n",
       "        -8.03033633e-02, -6.58504683e-03,  1.20554818e-01,\n",
       "         1.70906245e-02,  9.34218274e-03,  1.87321505e-02,\n",
       "        -2.04175697e-02,  6.12702668e-03,  1.82686612e-02,\n",
       "         3.14367466e-04,  5.87937345e-03,  9.09617028e-03,\n",
       "         1.95841916e-02,  4.00935933e-02],\n",
       "       [-1.72055879e-04,  1.02168217e-01, -2.28783248e-03,\n",
       "        -3.83842967e-02, -8.93431496e-03, -1.38520339e-02,\n",
       "        -3.51559796e-02, -3.23874015e-03, -1.69957092e-02,\n",
       "        -4.71237377e-02, -3.14648917e-02, -1.23926577e-04,\n",
       "        -1.60937509e-02, -4.00621696e-04,  1.70906245e-02,\n",
       "         2.19142174e-01,  3.83835211e-02,  3.50974782e-02,\n",
       "         1.18729415e-02, -1.30553923e-02,  2.88223179e-03,\n",
       "         2.91709462e-02,  2.28515181e-02,  2.20075596e-02,\n",
       "         1.08264473e-01,  2.89316105e-04],\n",
       "       [-4.11956941e-04,  1.53818521e-01,  1.74171310e-03,\n",
       "        -2.44936288e-01,  2.27392261e-03,  4.03178932e-02,\n",
       "        -1.04840368e-02, -1.17236341e-02, -1.49395331e-01,\n",
       "         1.53868198e-02,  5.18066353e-03, -1.19127755e-03,\n",
       "        -4.10344035e-03, -2.82004503e-03,  9.34218274e-03,\n",
       "         3.83835211e-02,  1.00003316e+00,  8.05430328e-02,\n",
       "        -7.65133728e-02, -1.11134394e-03,  4.35275297e-02,\n",
       "        -5.68240509e-03,  8.01568839e-02,  6.01674747e-02,\n",
       "         1.01602128e-01, -1.90480758e-03],\n",
       "       [-1.10730051e-04,  3.92241864e-02,  1.47727647e-04,\n",
       "        -2.68543363e-02, -1.74360247e-03, -2.32320843e-03,\n",
       "        -1.09477000e-02, -3.06555956e-03, -1.27274497e-02,\n",
       "        -1.22077617e-02, -7.73319594e-04,  1.44609367e-03,\n",
       "        -1.77434760e-02, -1.18327315e-03,  1.87321505e-02,\n",
       "         3.50974782e-02,  8.05430328e-02,  1.00003316e+00,\n",
       "        -3.24941167e-02,  1.78554929e-02,  3.78341432e-02,\n",
       "         1.55727453e-02,  3.53507961e-02,  7.20426049e-03,\n",
       "         5.07252530e-02,  7.66851878e-03],\n",
       "       [-2.39527381e-05, -1.45427832e-02,  5.36756163e-04,\n",
       "         1.80353267e-02,  5.20497542e-03, -3.74760320e-03,\n",
       "         4.57510107e-03,  4.52611028e-03,  5.19498238e-03,\n",
       "         1.00416563e-03, -3.66802985e-03, -8.55424793e-03,\n",
       "         3.44891793e-02,  4.33388116e-04, -2.04175697e-02,\n",
       "         1.18729415e-02, -7.65133728e-02, -3.24941167e-02,\n",
       "         1.00003316e+00, -2.71026441e-02, -4.49932339e-02,\n",
       "         2.04137040e-04,  4.21581361e-04, -9.74985106e-03,\n",
       "        -2.28865104e-02, -6.67190225e-02],\n",
       "       [ 9.55895688e-05,  5.07567724e-03, -3.18743082e-03,\n",
       "        -6.88978622e-03, -2.35174145e-03, -3.71386995e-03,\n",
       "         7.07368460e-03, -6.45079519e-03, -6.29316030e-03,\n",
       "        -1.57462224e-03,  2.12842231e-03,  1.47225594e-03,\n",
       "        -4.65482005e-03, -2.45345291e-03,  6.12702668e-03,\n",
       "        -1.30553923e-02, -1.11134394e-03,  1.78554929e-02,\n",
       "        -2.71026441e-02,  1.00003316e+00,  3.45420966e-01,\n",
       "        -3.82133845e-02,  3.05764593e-02,  1.50283204e-02,\n",
       "         5.98893813e-02,  7.87929398e-02],\n",
       "       [ 5.88300481e-06,  4.02780905e-02, -4.47131989e-03,\n",
       "        -1.40929508e-02, -8.99648262e-03, -1.01330591e-02,\n",
       "         2.50262473e-02, -1.57048471e-02, -3.44143513e-02,\n",
       "        -1.82637999e-02,  7.09195347e-03,  1.05244490e-02,\n",
       "        -2.16324760e-02, -4.31708188e-03,  1.82686612e-02,\n",
       "         2.88223179e-03,  4.35275297e-02,  3.78341432e-02,\n",
       "        -4.49932339e-02,  3.45420966e-01,  1.00003316e+00,\n",
       "         8.77200571e-02,  1.24420120e-01,  7.96490510e-02,\n",
       "         1.52527128e-01,  9.15580651e-02],\n",
       "       [-1.00028628e-04,  1.40019371e-02, -1.33415261e-03,\n",
       "         5.04796059e-03, -1.00629905e-03, -8.54051481e-04,\n",
       "         4.87089430e-04, -1.50827895e-03,  1.71400361e-03,\n",
       "        -1.48027922e-02, -5.88765983e-03,  5.26060698e-04,\n",
       "        -1.47200157e-03,  5.86459521e-04,  3.14367466e-04,\n",
       "         2.91709462e-02, -5.68240509e-03,  1.55727453e-02,\n",
       "         2.04137040e-04, -3.82133845e-02,  8.77200571e-02,\n",
       "         1.00003316e+00,  2.21631536e-02,  1.46071630e-02,\n",
       "         1.83658531e-02, -3.48345449e-03],\n",
       "       [-6.99893771e-05,  4.20638946e-02, -7.20084813e-04,\n",
       "        -3.08341067e-02, -2.17770306e-03, -1.86949214e-03,\n",
       "        -1.15945115e-02, -3.41192591e-03, -1.85934935e-02,\n",
       "        -8.88272948e-03,  3.28726326e-03,  8.50880659e-04,\n",
       "        -6.14508721e-03, -3.24238689e-05,  5.87937345e-03,\n",
       "         2.28515181e-02,  8.01568839e-02,  3.53507961e-02,\n",
       "         4.21581361e-04,  3.05764593e-02,  1.24420120e-01,\n",
       "         2.21631536e-02,  1.00003316e+00, -3.22303951e-02,\n",
       "         8.04344674e-02,  8.53071121e-03],\n",
       "       [-1.52193411e-04,  4.05925375e-02, -1.16540971e-03,\n",
       "        -2.88675917e-02, -2.08463984e-03, -7.29880604e-04,\n",
       "        -8.01329512e-03, -2.45411945e-03, -1.80553063e-02,\n",
       "        -1.26243596e-02,  3.15833879e-03,  2.43042593e-04,\n",
       "        -7.41680166e-03, -7.21351447e-04,  9.09617028e-03,\n",
       "         2.20075596e-02,  6.01674747e-02,  7.20426049e-03,\n",
       "        -9.74985106e-03,  1.50283204e-02,  7.96490510e-02,\n",
       "         1.46071630e-02, -3.22303951e-02,  1.00003316e+00,\n",
       "         5.24187872e-02,  9.38610831e-03],\n",
       "       [ 1.92194059e-04,  1.11560056e-01, -1.09751886e-03,\n",
       "        -9.94713561e-02, -3.17564794e-03, -1.48984261e-02,\n",
       "         3.23881285e-03, -8.78681011e-03, -9.36640431e-02,\n",
       "        -1.33291972e-02, -1.28536778e-02, -1.06679820e-03,\n",
       "        -1.75945330e-02, -5.23399652e-04,  1.95841916e-02,\n",
       "         1.08264473e-01,  1.01602128e-01,  5.07252530e-02,\n",
       "        -2.28865104e-02,  5.98893813e-02,  1.52527128e-01,\n",
       "         1.83658531e-02,  8.04344674e-02,  5.24187872e-02,\n",
       "         1.00003316e+00,  8.40783815e-03],\n",
       "       [ 1.84456842e-04, -1.67703720e-03, -1.09293912e-02,\n",
       "         3.34063847e-03, -3.16730430e-03, -6.18183432e-05,\n",
       "         3.09156281e-03, -1.48804514e-02,  1.25254702e-02,\n",
       "        -3.89813444e-03, -2.52463951e-03, -3.69032139e-02,\n",
       "         5.88302949e-03, -1.04342443e-02,  4.00935933e-02,\n",
       "         2.89316105e-04, -1.90480758e-03,  7.66851878e-03,\n",
       "        -6.67190225e-02,  7.87929398e-02,  9.15580651e-02,\n",
       "        -3.48345449e-03,  8.53071121e-03,  9.38610831e-03,\n",
       "         8.40783815e-03,  1.00003316e+00]])"
      ]
     },
     "execution_count": 68,
     "metadata": {},
     "output_type": "execute_result"
    }
   ],
   "source": [
    "cov = np.cov(X_PCA.T)\n",
    "cov"
   ]
  },
  {
   "cell_type": "code",
   "execution_count": 69,
   "metadata": {},
   "outputs": [],
   "source": [
    "eig_val,eig_vec = np.linalg.eig(cov)"
   ]
  },
  {
   "cell_type": "code",
   "execution_count": 70,
   "metadata": {},
   "outputs": [
    {
     "data": {
      "text/plain": [
       "array([1.58419549e+00, 1.24905723e+00, 1.06586905e+00, 1.03144903e+00,\n",
       "       1.01354970e+00, 9.60866513e-01, 9.22371506e-01, 8.96225802e-01,\n",
       "       8.72128217e-01, 6.12278845e-01, 3.93244175e-01, 2.15756433e-01,\n",
       "       1.72865171e-01, 1.54001361e-01, 1.03829226e-01, 6.33795166e-02,\n",
       "       3.90171444e-02, 3.31660067e-02, 2.88941306e-02, 2.61279186e-02,\n",
       "       1.96270424e-02, 5.94535403e-04, 1.55187026e-03, 2.09248465e-03,\n",
       "       1.06296203e-02, 1.02293001e-02])"
      ]
     },
     "execution_count": 70,
     "metadata": {},
     "output_type": "execute_result"
    }
   ],
   "source": [
    "eig_val"
   ]
  },
  {
   "cell_type": "code",
   "execution_count": 71,
   "metadata": {},
   "outputs": [
    {
     "data": {
      "text/plain": [
       "array([[-4.33411458e-05,  2.74644851e-04, -5.38275469e-05,\n",
       "         8.42617622e-05, -5.36048816e-05,  6.22882894e-05,\n",
       "        -7.97760360e-05,  3.46404894e-04, -1.78612157e-04,\n",
       "         7.22246627e-05,  2.60794509e-05, -1.11840035e-03,\n",
       "        -1.46593179e-03,  3.69947046e-04, -1.02527090e-04,\n",
       "         2.52439020e-03,  2.99185227e-04,  2.57968337e-03,\n",
       "        -5.65299781e-03,  1.09104560e-02, -5.40511702e-03,\n",
       "        -9.49145006e-01, -3.14429250e-01, -2.47791184e-03,\n",
       "        -6.83816468e-03, -2.82350109e-03],\n",
       "       [ 1.40172918e-01, -1.68535473e-01,  6.14436308e-03,\n",
       "        -2.18852622e-02, -2.69701061e-02,  2.87016187e-02,\n",
       "        -2.02060240e-02,  3.39124172e-02,  5.86096965e-02,\n",
       "         2.80764252e-02,  6.14362393e-01, -3.81498282e-02,\n",
       "        -3.92888076e-02,  2.01667660e-01,  3.36211466e-01,\n",
       "        -2.68620473e-01, -4.40841467e-02, -1.46747074e-01,\n",
       "         1.19056279e-01, -2.48066830e-01,  1.63190187e-01,\n",
       "        -1.46616112e-01,  4.23478917e-01,  2.05841216e-03,\n",
       "         9.48816759e-02,  4.62003352e-02],\n",
       "       [-4.22092836e-03, -5.02371477e-03,  3.32556657e-03,\n",
       "         1.28961993e-04, -3.45486463e-03, -1.83310346e-03,\n",
       "         7.80986152e-03, -1.70554694e-03, -1.36321097e-04,\n",
       "        -1.13722783e-04, -1.41692887e-02, -1.02347417e-02,\n",
       "        -4.60838618e-03,  1.33952942e-02, -3.47217600e-02,\n",
       "         6.93898413e-02,  2.55654417e-02,  8.29503190e-03,\n",
       "         1.93738680e-02,  7.35815980e-02, -3.03526258e-01,\n",
       "        -6.88493282e-03,  6.85760804e-03,  1.74487177e-03,\n",
       "         8.18943458e-01,  4.73216495e-01],\n",
       "       [-1.36041006e-01,  2.04728279e-01,  3.06788567e-02,\n",
       "         9.04616998e-03,  5.66202663e-02, -5.07111477e-02,\n",
       "         4.32737211e-03, -5.58380203e-03, -1.32817158e-01,\n",
       "        -3.33810271e-02, -3.02582666e-01,  2.42231798e-01,\n",
       "         2.43428469e-01, -3.54716835e-01,  2.33876371e-01,\n",
       "        -6.69463673e-01, -2.06072197e-02, -6.30331533e-02,\n",
       "        -6.09620340e-02, -1.27882401e-01,  1.82596459e-01,\n",
       "        -8.68045954e-03,  8.38011321e-03,  2.16560014e-03,\n",
       "         1.19856984e-01,  5.87775765e-02],\n",
       "       [-6.98392341e-03, -2.79285052e-03,  9.17374934e-04,\n",
       "         7.16255532e-04, -3.71754766e-03,  2.61055576e-04,\n",
       "        -5.94899753e-05, -2.19945512e-03,  6.54050222e-03,\n",
       "         5.10772844e-03, -3.82087204e-02, -6.00277598e-02,\n",
       "        -1.37531304e-02,  4.10286413e-02, -1.32363540e-01,\n",
       "         2.24417457e-01, -5.52024818e-02,  1.77703822e-01,\n",
       "        -6.31890048e-01, -4.51035909e-01,  5.02943062e-01,\n",
       "        -5.75272286e-03,  3.60419703e-03,  3.45676040e-03,\n",
       "         1.65358155e-01,  8.56619712e-02],\n",
       "       [-1.04171849e-03, -1.90639765e-02, -1.47540354e-02,\n",
       "         3.06877722e-03, -2.24656865e-03,  8.36631707e-03,\n",
       "         4.86133494e-03, -2.15887695e-02,  3.07992094e-02,\n",
       "         1.03488514e-03, -6.30992966e-02, -2.92767363e-02,\n",
       "        -3.33616042e-02, -6.82720915e-03, -5.20570632e-02,\n",
       "         9.61730435e-02,  5.36406963e-02,  5.26035568e-02,\n",
       "         4.13386499e-01,  4.34836898e-01,  7.60512310e-01,\n",
       "        -3.52897542e-03,  2.25564586e-03,  5.72631820e-04,\n",
       "         1.67706062e-01,  8.83083767e-02],\n",
       "       [-1.15638384e-02,  5.24333340e-02,  5.33489587e-03,\n",
       "        -9.77577943e-04,  2.80832269e-03, -2.89201322e-03,\n",
       "         1.18602083e-02,  8.10979365e-03, -7.66497029e-03,\n",
       "        -5.49400285e-02, -4.92945992e-01,  4.37159451e-01,\n",
       "        -4.18023688e-02,  5.33382128e-01,  9.24590470e-02,\n",
       "         1.58602104e-01, -2.40918752e-02, -1.75388075e-01,\n",
       "         1.77843209e-02, -2.36904528e-02, -1.14498369e-02,\n",
       "        -1.43436625e-01,  4.31618909e-01, -6.45515161e-04,\n",
       "        -1.90995282e-02, -1.23378197e-02],\n",
       "       [-1.70211905e-02,  2.06686070e-04,  6.76067924e-03,\n",
       "        -6.86080009e-04, -2.73399796e-03, -3.95980436e-03,\n",
       "         7.85557374e-03, -2.56938682e-03, -6.14537636e-03,\n",
       "         7.93375667e-03, -5.76023263e-03, -1.60438613e-02,\n",
       "         1.99506760e-02, -9.69465923e-03, -7.84983840e-03,\n",
       "        -1.41421318e-01,  1.38336341e-01,  8.51488049e-01,\n",
       "        -6.79299681e-02,  1.99171874e-01, -1.15919497e-01,\n",
       "        -1.25767397e-01,  3.97033619e-01,  2.63807718e-03,\n",
       "        -5.36829204e-02, -1.98905985e-02],\n",
       "       [-9.54691281e-02,  1.15176678e-01, -7.28662097e-04,\n",
       "         1.28708900e-02,  4.34994594e-02, -3.23242398e-02,\n",
       "        -7.14486441e-03, -2.83158682e-02, -6.99725432e-02,\n",
       "         1.49814353e-02,  1.79522809e-02, -1.80514275e-02,\n",
       "         1.49500461e-01, -6.07189247e-01,  2.62882306e-01,\n",
       "         5.29011318e-01, -3.14169358e-02, -1.49372565e-01,\n",
       "         1.39936718e-03,  2.13285443e-02, -3.55743606e-02,\n",
       "        -1.40075458e-01,  4.26620740e-01, -7.23910982e-05,\n",
       "        -2.58559803e-02, -2.42772998e-02],\n",
       "       [-1.88294798e-02, -1.47705851e-03, -1.52041455e-02,\n",
       "         1.04675240e-02, -1.73374439e-02,  9.13716570e-03,\n",
       "         1.01702942e-02, -1.10866943e-02,  2.36627664e-02,\n",
       "         5.24200171e-03, -1.22504642e-01, -3.71190658e-01,\n",
       "        -8.97176680e-02, -1.14232593e-01, -6.68186826e-01,\n",
       "        -2.64122163e-01, -1.00276799e-02, -2.97263524e-01,\n",
       "        -3.72094824e-02,  3.18564225e-02, -1.76955556e-02,\n",
       "        -1.46374218e-01,  4.41606297e-01, -2.35890914e-03,\n",
       "        -1.53259457e-02, -1.10302273e-02],\n",
       "       [ 4.19429708e-03, -2.98794380e-03, -6.57970714e-03,\n",
       "         1.13384283e-03, -5.97781634e-03,  2.07981237e-03,\n",
       "         6.18202301e-03, -1.87890371e-02,  7.93263057e-03,\n",
       "        -9.49391499e-03,  4.51665707e-02, -1.46060499e-01,\n",
       "        -1.41363286e-01,  8.98158688e-02,  3.02392501e-01,\n",
       "        -1.18391840e-01, -3.09552533e-02, -2.20691524e-01,\n",
       "        -6.07635852e-01,  6.50164126e-01,  7.28653900e-03,\n",
       "         3.04241104e-03,  2.29510050e-02, -3.04878480e-03,\n",
       "        -1.43553401e-02, -7.76919406e-03],\n",
       "       [ 1.95900363e-04, -4.29492314e-03,  1.39548800e-02,\n",
       "        -3.01755899e-03, -6.23247391e-03, -7.69654102e-03,\n",
       "         3.77428762e-02, -7.19407567e-03, -8.89369143e-03,\n",
       "        -1.22860331e-02,  8.84625847e-04, -4.56119318e-02,\n",
       "         1.02367864e-01,  3.32252027e-02,  3.48176941e-02,\n",
       "         1.64758640e-02,  7.40250411e-01, -1.10511809e-01,\n",
       "        -4.66283742e-02, -5.50867250e-02,  2.21238621e-02,\n",
       "         2.15004258e-03, -3.05417735e-03, -4.78119778e-01,\n",
       "        -2.22810329e-01,  3.72406433e-01],\n",
       "       [-2.75664926e-02,  1.05787555e-02,  1.39631143e-02,\n",
       "        -1.06265825e-03, -1.28906581e-02,  7.86473224e-03,\n",
       "        -2.04842311e-02, -8.92473742e-03,  2.60125050e-02,\n",
       "         1.32252144e-02, -7.93559598e-02, -2.95329969e-01,\n",
       "         4.86052738e-01,  1.84642773e-01,  5.70866172e-02,\n",
       "         1.98510966e-02, -5.59201143e-01,  6.76974424e-02,\n",
       "         5.44817496e-02,  4.14087062e-02, -1.03467823e-02,\n",
       "        -2.47789610e-04,  5.00985681e-03, -4.50487424e-01,\n",
       "        -1.58774067e-01,  2.82118376e-01],\n",
       "       [-4.46561884e-03, -2.63593997e-03,  5.26237251e-03,\n",
       "        -7.75469415e-04, -1.69921250e-03, -9.61600563e-04,\n",
       "         7.45215124e-03, -3.02661770e-04, -3.14638192e-03,\n",
       "         2.15096140e-03, -8.90009504e-04, -1.13365890e-02,\n",
       "         1.81369815e-02,  1.26919986e-02,  1.92962861e-03,\n",
       "         1.92810111e-03,  6.26073808e-02,  9.41427268e-04,\n",
       "        -2.25793479e-03, -1.80489189e-03, -8.21562062e-03,\n",
       "         1.95338484e-03, -3.27589680e-03, -6.11587214e-01,\n",
       "         3.91377210e-01, -6.84118449e-01],\n",
       "       [ 3.31757523e-02, -3.77342345e-03, -2.91287768e-02,\n",
       "         3.46358294e-03,  1.85069779e-02, -1.58516147e-03,\n",
       "        -2.73751077e-02,  1.52792972e-02, -1.16965732e-02,\n",
       "        -5.96839133e-03,  8.17383329e-02,  3.67580057e-01,\n",
       "        -6.32503596e-01, -2.43906326e-01, -9.43915270e-02,\n",
       "        -4.22234711e-02, -3.17979106e-01,  5.85825592e-02,\n",
       "        -1.34520489e-03,  1.10365825e-02,  2.73003943e-03,\n",
       "        -1.03269256e-05,  5.68518746e-03, -4.40847740e-01,\n",
       "        -1.33366829e-01,  2.60086435e-01],\n",
       "       [ 6.84292307e-02, -8.93264076e-02,  4.41978440e-02,\n",
       "        -2.22195244e-02,  7.95629100e-03, -2.32347604e-03,\n",
       "        -4.27902095e-02,  8.63482518e-02, -2.16246951e-02,\n",
       "         4.48290255e-02,  3.74532641e-01,  5.87052520e-01,\n",
       "         4.75531381e-01, -3.64727849e-02, -4.14005489e-01,\n",
       "         3.18231537e-02, -1.26836581e-02, -6.53926161e-02,\n",
       "        -1.70858529e-01,  2.32891110e-01,  1.24052910e-02,\n",
       "        -1.07587948e-03,  1.00412151e-02, -1.74888559e-03,\n",
       "        -1.09897147e-02, -5.60579048e-03],\n",
       "       [ 3.34287496e-01, -5.75500163e-01, -1.76539145e-01,\n",
       "         2.35187218e-02, -1.14191520e-01,  1.47373657e-01,\n",
       "         3.86920247e-02, -2.09942681e-01,  5.48131174e-01,\n",
       "        -3.02301426e-02, -2.59921735e-01,  7.68425026e-02,\n",
       "         9.38714110e-02, -2.23964577e-01,  7.96998486e-02,\n",
       "        -4.93839181e-02,  1.42621972e-03, -3.45196444e-03,\n",
       "        -3.98442741e-02, -1.92562632e-02, -2.01699581e-02,\n",
       "        -1.41833776e-03,  2.16096984e-03,  3.86307932e-04,\n",
       "         3.53484574e-03, -3.67764023e-03],\n",
       "       [ 1.85809749e-01, -2.28377321e-01, -7.06616968e-02,\n",
       "         2.20534760e-01,  2.26256040e-01, -8.77893290e-01,\n",
       "        -1.35913613e-01, -4.55122666e-02, -1.19549937e-01,\n",
       "        -3.36643125e-03, -4.08007247e-02, -3.28445818e-02,\n",
       "         3.22802708e-03,  1.31256690e-02, -1.23460435e-03,\n",
       "         8.74321660e-04, -3.18339707e-03,  1.35323206e-03,\n",
       "         3.10690314e-03,  1.19199752e-03,  4.81712132e-04,\n",
       "         2.21927928e-05, -2.52561607e-04,  2.87403115e-04,\n",
       "        -5.92581933e-04, -1.35349596e-03],\n",
       "       [-1.63769936e-01,  6.57882876e-02,  6.14863433e-01,\n",
       "        -1.22075229e-01, -3.40568879e-01, -1.86955421e-01,\n",
       "        -5.32695435e-01, -1.57581849e-02,  3.70418826e-01,\n",
       "        -3.21073008e-02, -1.22071084e-02,  5.79996666e-03,\n",
       "        -3.69480202e-02, -2.23765933e-02,  9.56587140e-03,\n",
       "        -8.77820839e-04,  2.27077101e-02, -5.00940503e-03,\n",
       "         2.06017563e-03, -1.18232771e-03, -6.65246426e-04,\n",
       "         4.16215972e-05, -2.60795031e-04,  2.54167993e-03,\n",
       "         1.05081948e-03, -1.85260594e-03],\n",
       "       [ 4.14865723e-01,  4.92594617e-01, -3.56669037e-02,\n",
       "         2.24854958e-02, -2.49411021e-01, -1.62466924e-01,\n",
       "         2.28618387e-01, -6.53691172e-02,  2.30766124e-01,\n",
       "         6.20044824e-01, -5.10972714e-03,  2.22310894e-02,\n",
       "         2.63990407e-03,  3.14455279e-03,  1.70244993e-03,\n",
       "        -7.37814243e-03,  1.38779939e-03, -9.22902586e-04,\n",
       "        -1.87240442e-03,  9.75452967e-04,  1.10333688e-03,\n",
       "        -1.52398930e-04,  5.73773815e-04, -2.51258168e-04,\n",
       "         2.40113754e-03,  8.11189077e-04],\n",
       "       [ 5.43825515e-01,  3.65979574e-01,  1.37705134e-01,\n",
       "        -5.98022840e-02,  1.13125466e-02, -2.50878257e-02,\n",
       "         1.28740207e-01, -7.09946860e-02,  5.01147454e-02,\n",
       "        -7.18487088e-01,  4.94813237e-02, -2.56589742e-02,\n",
       "         2.99236484e-02, -2.71400364e-02, -2.99169004e-02,\n",
       "         1.85920924e-02, -1.56587861e-02,  1.75591961e-02,\n",
       "         1.29672348e-04,  9.16136586e-03,  3.13500499e-03,\n",
       "        -1.17766895e-04,  6.55316342e-04,  1.22746559e-03,\n",
       "         4.44451909e-03, -4.29209321e-03],\n",
       "       [ 8.83566557e-02,  2.75105790e-03,  4.09593556e-01,\n",
       "        -2.03720951e-01,  8.14342185e-01,  9.65724601e-02,\n",
       "         9.44048645e-02,  2.71127259e-02,  2.40639922e-01,\n",
       "         2.01672544e-01, -3.31463945e-02, -2.46923572e-02,\n",
       "        -2.15960613e-02,  3.23968020e-03, -1.84342797e-04,\n",
       "        -1.71292435e-03,  1.57724024e-03, -1.11403461e-03,\n",
       "        -1.22008250e-03,  9.83844240e-04, -3.74111446e-03,\n",
       "        -2.05899846e-05,  3.03732527e-05, -8.22025260e-05,\n",
       "        -1.11385284e-03,  7.39284920e-04],\n",
       "       [ 2.70703072e-01, -9.86659901e-02,  3.58853153e-01,\n",
       "         4.96515917e-01,  2.33255957e-03,  2.91180139e-01,\n",
       "        -1.86366971e-01, -4.68892602e-01, -4.21384451e-01,\n",
       "         1.53106857e-01, -3.42609639e-02, -3.26938101e-03,\n",
       "        -4.44701732e-03,  6.64776247e-03, -5.91816378e-03,\n",
       "         1.56756291e-03,  1.83958371e-04,  3.36764818e-04,\n",
       "         1.80652475e-03, -1.48116344e-04, -1.13739757e-04,\n",
       "        -6.67261014e-05,  4.45989388e-05,  9.58392933e-05,\n",
       "        -8.63774001e-04,  5.17118748e-04],\n",
       "       [ 1.74125159e-01, -9.54644350e-02, -9.70031232e-02,\n",
       "        -7.89627491e-01, -5.27083918e-02, -4.34094720e-02,\n",
       "        -1.86618142e-01, -3.87245810e-01, -3.52238618e-01,\n",
       "         1.08984457e-01, -4.52600619e-02, -1.18396946e-02,\n",
       "         1.27607798e-03, -2.58526817e-03, -6.90464996e-03,\n",
       "         8.41014838e-04,  3.64089916e-04, -5.29567771e-04,\n",
       "         6.49961825e-04, -1.08060064e-04, -1.19679684e-03,\n",
       "        -2.02368183e-04,  1.96310230e-04,  3.01689962e-04,\n",
       "        -5.59064665e-05, -3.61062728e-04],\n",
       "       [ 4.03855448e-01, -2.25855874e-01,  1.93962271e-01,\n",
       "        -8.83603584e-02, -1.39007668e-01,  9.46922885e-02,\n",
       "        -7.93260614e-02,  7.42145041e-01, -2.98034393e-01,\n",
       "         1.12514923e-01, -1.88441656e-01, -7.68481243e-02,\n",
       "        -7.05706391e-03, -9.44277171e-02,  5.46121212e-02,\n",
       "         9.15468370e-03,  2.36241490e-03,  3.35482617e-03,\n",
       "        -6.63851266e-04,  8.55919213e-03,  8.33453884e-03,\n",
       "         2.29774775e-04,  4.47206151e-04, -1.37759716e-04,\n",
       "         1.91441497e-03,  1.64712888e-03],\n",
       "       [ 1.72754477e-01,  2.66433163e-01, -4.66045624e-01,\n",
       "         1.05415248e-01,  2.55667602e-01,  1.89442735e-01,\n",
       "        -7.32990394e-01,  1.10139983e-01,  1.21917730e-01,\n",
       "         3.13846580e-02, -5.31084209e-03, -2.19899163e-02,\n",
       "         2.17036720e-02,  2.18008355e-02,  1.53695469e-03,\n",
       "        -6.91626522e-03,  5.13752354e-02,  5.45663095e-03,\n",
       "        -6.10665956e-03,  3.62966713e-05, -3.22320591e-03,\n",
       "        -2.46989129e-04,  1.30846478e-03, -3.58233661e-03,\n",
       "         1.04624990e-02,  2.97089346e-05]])"
      ]
     },
     "execution_count": 71,
     "metadata": {},
     "output_type": "execute_result"
    }
   ],
   "source": [
    "eig_vec"
   ]
  },
  {
   "cell_type": "code",
   "execution_count": 72,
   "metadata": {},
   "outputs": [
    {
     "data": {
      "text/plain": [
       "{1.5841954862954313: array([-4.33411458e-05,  1.40172918e-01, -4.22092836e-03, -1.36041006e-01,\n",
       "        -6.98392341e-03, -1.04171849e-03, -1.15638384e-02, -1.70211905e-02,\n",
       "        -9.54691281e-02, -1.88294798e-02,  4.19429708e-03,  1.95900363e-04,\n",
       "        -2.75664926e-02, -4.46561884e-03,  3.31757523e-02,  6.84292307e-02,\n",
       "         3.34287496e-01,  1.85809749e-01, -1.63769936e-01,  4.14865723e-01,\n",
       "         5.43825515e-01,  8.83566557e-02,  2.70703072e-01,  1.74125159e-01,\n",
       "         4.03855448e-01,  1.72754477e-01]),\n",
       " 1.2490572323895428: array([ 2.74644851e-04, -1.68535473e-01, -5.02371477e-03,  2.04728279e-01,\n",
       "        -2.79285052e-03, -1.90639765e-02,  5.24333340e-02,  2.06686070e-04,\n",
       "         1.15176678e-01, -1.47705851e-03, -2.98794380e-03, -4.29492314e-03,\n",
       "         1.05787555e-02, -2.63593997e-03, -3.77342345e-03, -8.93264076e-02,\n",
       "        -5.75500163e-01, -2.28377321e-01,  6.57882876e-02,  4.92594617e-01,\n",
       "         3.65979574e-01,  2.75105790e-03, -9.86659901e-02, -9.54644350e-02,\n",
       "        -2.25855874e-01,  2.66433163e-01]),\n",
       " 1.0658690548122687: array([-5.38275469e-05,  6.14436308e-03,  3.32556657e-03,  3.06788567e-02,\n",
       "         9.17374934e-04, -1.47540354e-02,  5.33489587e-03,  6.76067924e-03,\n",
       "        -7.28662097e-04, -1.52041455e-02, -6.57970714e-03,  1.39548800e-02,\n",
       "         1.39631143e-02,  5.26237251e-03, -2.91287768e-02,  4.41978440e-02,\n",
       "        -1.76539145e-01, -7.06616968e-02,  6.14863433e-01, -3.56669037e-02,\n",
       "         1.37705134e-01,  4.09593556e-01,  3.58853153e-01, -9.70031232e-02,\n",
       "         1.93962271e-01, -4.66045624e-01]),\n",
       " 1.0314490288207276: array([ 8.42617622e-05, -2.18852622e-02,  1.28961993e-04,  9.04616998e-03,\n",
       "         7.16255532e-04,  3.06877722e-03, -9.77577943e-04, -6.86080009e-04,\n",
       "         1.28708900e-02,  1.04675240e-02,  1.13384283e-03, -3.01755899e-03,\n",
       "        -1.06265825e-03, -7.75469415e-04,  3.46358294e-03, -2.22195244e-02,\n",
       "         2.35187218e-02,  2.20534760e-01, -1.22075229e-01,  2.24854958e-02,\n",
       "        -5.98022840e-02, -2.03720951e-01,  4.96515917e-01, -7.89627491e-01,\n",
       "        -8.83603584e-02,  1.05415248e-01]),\n",
       " 1.013549703654401: array([-5.36048816e-05, -2.69701061e-02, -3.45486463e-03,  5.66202663e-02,\n",
       "        -3.71754766e-03, -2.24656865e-03,  2.80832269e-03, -2.73399796e-03,\n",
       "         4.34994594e-02, -1.73374439e-02, -5.97781634e-03, -6.23247391e-03,\n",
       "        -1.28906581e-02, -1.69921250e-03,  1.85069779e-02,  7.95629100e-03,\n",
       "        -1.14191520e-01,  2.26256040e-01, -3.40568879e-01, -2.49411021e-01,\n",
       "         1.13125466e-02,  8.14342185e-01,  2.33255957e-03, -5.27083918e-02,\n",
       "        -1.39007668e-01,  2.55667602e-01]),\n",
       " 0.9608665127943775: array([ 6.22882894e-05,  2.87016187e-02, -1.83310346e-03, -5.07111477e-02,\n",
       "         2.61055576e-04,  8.36631707e-03, -2.89201322e-03, -3.95980436e-03,\n",
       "        -3.23242398e-02,  9.13716570e-03,  2.07981237e-03, -7.69654102e-03,\n",
       "         7.86473224e-03, -9.61600563e-04, -1.58516147e-03, -2.32347604e-03,\n",
       "         1.47373657e-01, -8.77893290e-01, -1.86955421e-01, -1.62466924e-01,\n",
       "        -2.50878257e-02,  9.65724601e-02,  2.91180139e-01, -4.34094720e-02,\n",
       "         9.46922885e-02,  1.89442735e-01]),\n",
       " 0.9223715061447445: array([-7.97760360e-05, -2.02060240e-02,  7.80986152e-03,  4.32737211e-03,\n",
       "        -5.94899753e-05,  4.86133494e-03,  1.18602083e-02,  7.85557374e-03,\n",
       "        -7.14486441e-03,  1.01702942e-02,  6.18202301e-03,  3.77428762e-02,\n",
       "        -2.04842311e-02,  7.45215124e-03, -2.73751077e-02, -4.27902095e-02,\n",
       "         3.86920247e-02, -1.35913613e-01, -5.32695435e-01,  2.28618387e-01,\n",
       "         1.28740207e-01,  9.44048645e-02, -1.86366971e-01, -1.86618142e-01,\n",
       "        -7.93260614e-02, -7.32990394e-01]),\n",
       " 0.8962258015079155: array([ 3.46404894e-04,  3.39124172e-02, -1.70554694e-03, -5.58380203e-03,\n",
       "        -2.19945512e-03, -2.15887695e-02,  8.10979365e-03, -2.56938682e-03,\n",
       "        -2.83158682e-02, -1.10866943e-02, -1.87890371e-02, -7.19407567e-03,\n",
       "        -8.92473742e-03, -3.02661770e-04,  1.52792972e-02,  8.63482518e-02,\n",
       "        -2.09942681e-01, -4.55122666e-02, -1.57581849e-02, -6.53691172e-02,\n",
       "        -7.09946860e-02,  2.71127259e-02, -4.68892602e-01, -3.87245810e-01,\n",
       "         7.42145041e-01,  1.10139983e-01]),\n",
       " 0.8721282174490921: array([-1.78612157e-04,  5.86096965e-02, -1.36321097e-04, -1.32817158e-01,\n",
       "         6.54050222e-03,  3.07992094e-02, -7.66497029e-03, -6.14537636e-03,\n",
       "        -6.99725432e-02,  2.36627664e-02,  7.93263057e-03, -8.89369143e-03,\n",
       "         2.60125050e-02, -3.14638192e-03, -1.16965732e-02, -2.16246951e-02,\n",
       "         5.48131174e-01, -1.19549937e-01,  3.70418826e-01,  2.30766124e-01,\n",
       "         5.01147454e-02,  2.40639922e-01, -4.21384451e-01, -3.52238618e-01,\n",
       "        -2.98034393e-01,  1.21917730e-01]),\n",
       " 0.6122788453762381: array([ 7.22246627e-05,  2.80764252e-02, -1.13722783e-04, -3.33810271e-02,\n",
       "         5.10772844e-03,  1.03488514e-03, -5.49400285e-02,  7.93375667e-03,\n",
       "         1.49814353e-02,  5.24200171e-03, -9.49391499e-03, -1.22860331e-02,\n",
       "         1.32252144e-02,  2.15096140e-03, -5.96839133e-03,  4.48290255e-02,\n",
       "        -3.02301426e-02, -3.36643125e-03, -3.21073008e-02,  6.20044824e-01,\n",
       "        -7.18487088e-01,  2.01672544e-01,  1.53106857e-01,  1.08984457e-01,\n",
       "         1.12514923e-01,  3.13846580e-02]),\n",
       " 0.39324417534082645: array([ 2.60794509e-05,  6.14362393e-01, -1.41692887e-02, -3.02582666e-01,\n",
       "        -3.82087204e-02, -6.30992966e-02, -4.92945992e-01, -5.76023263e-03,\n",
       "         1.79522809e-02, -1.22504642e-01,  4.51665707e-02,  8.84625847e-04,\n",
       "        -7.93559598e-02, -8.90009504e-04,  8.17383329e-02,  3.74532641e-01,\n",
       "        -2.59921735e-01, -4.08007247e-02, -1.22071084e-02, -5.10972714e-03,\n",
       "         4.94813237e-02, -3.31463945e-02, -3.42609639e-02, -4.52600619e-02,\n",
       "        -1.88441656e-01, -5.31084209e-03]),\n",
       " 0.21575643330761018: array([-0.0011184 , -0.03814983, -0.01023474,  0.2422318 , -0.06002776,\n",
       "        -0.02927674,  0.43715945, -0.01604386, -0.01805143, -0.37119066,\n",
       "        -0.1460605 , -0.04561193, -0.29532997, -0.01133659,  0.36758006,\n",
       "         0.58705252,  0.0768425 , -0.03284458,  0.00579997,  0.02223109,\n",
       "        -0.02565897, -0.02469236, -0.00326938, -0.01183969, -0.07684812,\n",
       "        -0.02198992]),\n",
       " 0.17286517116075473: array([-0.00146593, -0.03928881, -0.00460839,  0.24342847, -0.01375313,\n",
       "        -0.0333616 , -0.04180237,  0.01995068,  0.14950046, -0.08971767,\n",
       "        -0.14136329,  0.10236786,  0.48605274,  0.01813698, -0.6325036 ,\n",
       "         0.47553138,  0.09387141,  0.00322803, -0.03694802,  0.0026399 ,\n",
       "         0.02992365, -0.02159606, -0.00444702,  0.00127608, -0.00705706,\n",
       "         0.02170367]),\n",
       " 0.1540013609142924: array([ 3.69947046e-04,  2.01667660e-01,  1.33952942e-02, -3.54716835e-01,\n",
       "         4.10286413e-02, -6.82720915e-03,  5.33382128e-01, -9.69465923e-03,\n",
       "        -6.07189247e-01, -1.14232593e-01,  8.98158688e-02,  3.32252027e-02,\n",
       "         1.84642773e-01,  1.26919986e-02, -2.43906326e-01, -3.64727849e-02,\n",
       "        -2.23964577e-01,  1.31256690e-02, -2.23765933e-02,  3.14455279e-03,\n",
       "        -2.71400364e-02,  3.23968020e-03,  6.64776247e-03, -2.58526817e-03,\n",
       "        -9.44277171e-02,  2.18008355e-02]),\n",
       " 0.10382922596449028: array([-1.02527090e-04,  3.36211466e-01, -3.47217600e-02,  2.33876371e-01,\n",
       "        -1.32363540e-01, -5.20570632e-02,  9.24590470e-02, -7.84983840e-03,\n",
       "         2.62882306e-01, -6.68186826e-01,  3.02392501e-01,  3.48176941e-02,\n",
       "         5.70866172e-02,  1.92962861e-03, -9.43915270e-02, -4.14005489e-01,\n",
       "         7.96998486e-02, -1.23460435e-03,  9.56587140e-03,  1.70244993e-03,\n",
       "        -2.99169004e-02, -1.84342797e-04, -5.91816378e-03, -6.90464996e-03,\n",
       "         5.46121212e-02,  1.53695469e-03]),\n",
       " 0.0633795165711175: array([ 0.00252439, -0.26862047,  0.06938984, -0.66946367,  0.22441746,\n",
       "         0.09617304,  0.1586021 , -0.14142132,  0.52901132, -0.26412216,\n",
       "        -0.11839184,  0.01647586,  0.0198511 ,  0.0019281 , -0.04222347,\n",
       "         0.03182315, -0.04938392,  0.00087432, -0.00087782, -0.00737814,\n",
       "         0.01859209, -0.00171292,  0.00156756,  0.00084101,  0.00915468,\n",
       "        -0.00691627]),\n",
       " 0.03901714441978182: array([ 2.99185227e-04, -4.40841467e-02,  2.55654417e-02, -2.06072197e-02,\n",
       "        -5.52024818e-02,  5.36406963e-02, -2.40918752e-02,  1.38336341e-01,\n",
       "        -3.14169358e-02, -1.00276799e-02, -3.09552533e-02,  7.40250411e-01,\n",
       "        -5.59201143e-01,  6.26073808e-02, -3.17979106e-01, -1.26836581e-02,\n",
       "         1.42621972e-03, -3.18339707e-03,  2.27077101e-02,  1.38779939e-03,\n",
       "        -1.56587861e-02,  1.57724024e-03,  1.83958371e-04,  3.64089916e-04,\n",
       "         2.36241490e-03,  5.13752354e-02]),\n",
       " 0.03316600674993555: array([ 2.57968337e-03, -1.46747074e-01,  8.29503190e-03, -6.30331533e-02,\n",
       "         1.77703822e-01,  5.26035568e-02, -1.75388075e-01,  8.51488049e-01,\n",
       "        -1.49372565e-01, -2.97263524e-01, -2.20691524e-01, -1.10511809e-01,\n",
       "         6.76974424e-02,  9.41427268e-04,  5.85825592e-02, -6.53926161e-02,\n",
       "        -3.45196444e-03,  1.35323206e-03, -5.00940503e-03, -9.22902586e-04,\n",
       "         1.75591961e-02, -1.11403461e-03,  3.36764818e-04, -5.29567771e-04,\n",
       "         3.35482617e-03,  5.45663095e-03]),\n",
       " 0.028894130626788046: array([-5.65299781e-03,  1.19056279e-01,  1.93738680e-02, -6.09620340e-02,\n",
       "        -6.31890048e-01,  4.13386499e-01,  1.77843209e-02, -6.79299681e-02,\n",
       "         1.39936718e-03, -3.72094824e-02, -6.07635852e-01, -4.66283742e-02,\n",
       "         5.44817496e-02, -2.25793479e-03, -1.34520489e-03, -1.70858529e-01,\n",
       "        -3.98442741e-02,  3.10690314e-03,  2.06017563e-03, -1.87240442e-03,\n",
       "         1.29672348e-04, -1.22008250e-03,  1.80652475e-03,  6.49961825e-04,\n",
       "        -6.63851266e-04, -6.10665956e-03]),\n",
       " 0.026127918610780617: array([ 1.09104560e-02, -2.48066830e-01,  7.35815980e-02, -1.27882401e-01,\n",
       "        -4.51035909e-01,  4.34836898e-01, -2.36904528e-02,  1.99171874e-01,\n",
       "         2.13285443e-02,  3.18564225e-02,  6.50164126e-01, -5.50867250e-02,\n",
       "         4.14087062e-02, -1.80489189e-03,  1.10365825e-02,  2.32891110e-01,\n",
       "        -1.92562632e-02,  1.19199752e-03, -1.18232771e-03,  9.75452967e-04,\n",
       "         9.16136586e-03,  9.83844240e-04, -1.48116344e-04, -1.08060064e-04,\n",
       "         8.55919213e-03,  3.62966713e-05]),\n",
       " 0.019627042434212913: array([-5.40511702e-03,  1.63190187e-01, -3.03526258e-01,  1.82596459e-01,\n",
       "         5.02943062e-01,  7.60512310e-01, -1.14498369e-02, -1.15919497e-01,\n",
       "        -3.55743606e-02, -1.76955556e-02,  7.28653900e-03,  2.21238621e-02,\n",
       "        -1.03467823e-02, -8.21562062e-03,  2.73003943e-03,  1.24052910e-02,\n",
       "        -2.01699581e-02,  4.81712132e-04, -6.65246426e-04,  1.10333688e-03,\n",
       "         3.13500499e-03, -3.74111446e-03, -1.13739757e-04, -1.19679684e-03,\n",
       "         8.33453884e-03, -3.22320591e-03]),\n",
       " 0.0005945354026153385: array([-9.49145006e-01, -1.46616112e-01, -6.88493282e-03, -8.68045954e-03,\n",
       "        -5.75272286e-03, -3.52897542e-03, -1.43436625e-01, -1.25767397e-01,\n",
       "        -1.40075458e-01, -1.46374218e-01,  3.04241104e-03,  2.15004258e-03,\n",
       "        -2.47789610e-04,  1.95338484e-03, -1.03269256e-05, -1.07587948e-03,\n",
       "        -1.41833776e-03,  2.21927928e-05,  4.16215972e-05, -1.52398930e-04,\n",
       "        -1.17766895e-04, -2.05899846e-05, -6.67261014e-05, -2.02368183e-04,\n",
       "         2.29774775e-04, -2.46989129e-04]),\n",
       " 0.0015518702643173763: array([-3.14429250e-01,  4.23478917e-01,  6.85760804e-03,  8.38011321e-03,\n",
       "         3.60419703e-03,  2.25564586e-03,  4.31618909e-01,  3.97033619e-01,\n",
       "         4.26620740e-01,  4.41606297e-01,  2.29510050e-02, -3.05417735e-03,\n",
       "         5.00985681e-03, -3.27589680e-03,  5.68518746e-03,  1.00412151e-02,\n",
       "         2.16096984e-03, -2.52561607e-04, -2.60795031e-04,  5.73773815e-04,\n",
       "         6.55316342e-04,  3.03732527e-05,  4.45989388e-05,  1.96310230e-04,\n",
       "         4.47206151e-04,  1.30846478e-03]),\n",
       " 0.00209248464752083: array([-2.47791184e-03,  2.05841216e-03,  1.74487177e-03,  2.16560014e-03,\n",
       "         3.45676040e-03,  5.72631820e-04, -6.45515161e-04,  2.63807718e-03,\n",
       "        -7.23910982e-05, -2.35890914e-03, -3.04878480e-03, -4.78119778e-01,\n",
       "        -4.50487424e-01, -6.11587214e-01, -4.40847740e-01, -1.74888559e-03,\n",
       "         3.86307932e-04,  2.87403115e-04,  2.54167993e-03, -2.51258168e-04,\n",
       "         1.22746559e-03, -8.22025260e-05,  9.58392933e-05,  3.01689962e-04,\n",
       "        -1.37759716e-04, -3.58233661e-03]),\n",
       " 0.010629620253315094: array([-6.83816468e-03,  9.48816759e-02,  8.18943458e-01,  1.19856984e-01,\n",
       "         1.65358155e-01,  1.67706062e-01, -1.90995282e-02, -5.36829204e-02,\n",
       "        -2.58559803e-02, -1.53259457e-02, -1.43553401e-02, -2.22810329e-01,\n",
       "        -1.58774067e-01,  3.91377210e-01, -1.33366829e-01, -1.09897147e-02,\n",
       "         3.53484574e-03, -5.92581933e-04,  1.05081948e-03,  2.40113754e-03,\n",
       "         4.44451909e-03, -1.11385284e-03, -8.63774001e-04, -5.59064665e-05,\n",
       "         1.91441497e-03,  1.04624990e-02]),\n",
       " 0.010229300059210975: array([-2.82350109e-03,  4.62003352e-02,  4.73216495e-01,  5.87775765e-02,\n",
       "         8.56619712e-02,  8.83083767e-02, -1.23378197e-02, -1.98905985e-02,\n",
       "        -2.42772998e-02, -1.10302273e-02, -7.76919406e-03,  3.72406433e-01,\n",
       "         2.82118376e-01, -6.84118449e-01,  2.60086435e-01, -5.60579048e-03,\n",
       "        -3.67764023e-03, -1.35349596e-03, -1.85260594e-03,  8.11189077e-04,\n",
       "        -4.29209321e-03,  7.39284920e-04,  5.17118748e-04, -3.61062728e-04,\n",
       "         1.64712888e-03,  2.97089346e-05])}"
      ]
     },
     "execution_count": 72,
     "metadata": {},
     "output_type": "execute_result"
    }
   ],
   "source": [
    "eigenValue_eigenVector_pairs = dict(zip(eig_val,eig_vec.T))\n",
    "eigenValue_eigenVector_pairs"
   ]
  },
  {
   "cell_type": "code",
   "execution_count": 73,
   "metadata": {},
   "outputs": [
    {
     "data": {
      "text/plain": [
       "[0.13796010234299094,\n",
       " 0.10877449475359693,\n",
       " 0.09282150161277837,\n",
       " 0.08982402412371812,\n",
       " 0.08826525643805108,\n",
       " 0.08367732618217057,\n",
       " 0.08032497787476786,\n",
       " 0.07804807195076383,\n",
       " 0.07594952717410351,\n",
       " 0.05332047269499769,\n",
       " 0.034245777838107165,\n",
       " 0.018789208704212707,\n",
       " 0.015054011270190515,\n",
       " 0.013411251134402967,\n",
       " 0.009041996877387467,\n",
       " 0.005519422740591024,\n",
       " 0.003397818819615381,\n",
       " 0.0028882708763608676,\n",
       " 0.002516253361954124,\n",
       " 0.002275357023003422,\n",
       " 0.0017092264220788724,\n",
       " 0.0009256834214593916,\n",
       " 0.0008908214265690268,\n",
       " 0.00018222460461503684,\n",
       " 0.00013514505144117267,\n",
       " 5.1775280071747015e-05]"
      ]
     },
     "execution_count": 73,
     "metadata": {},
     "output_type": "execute_result"
    },
    {
     "data": {
      "image/png": "[encoded data removed]",
      "text/plain": [
       "<Figure size 432x288 with 1 Axes>"
      ]
     },
     "metadata": {
      "needs_background": "light"
     },
     "output_type": "display_data"
    }
   ],
   "source": [
    "total_sum_eigenValues = sum(eig_val)\n",
    "var_exp = [(i/total_sum_eigenValues) for i in sorted(eig_val,reverse=True)]\n",
    "cum_var_exp = np.cumsum(var_exp) # This will show cumulative percentage of explained varaince for each feature\n",
    "plt.bar(np.arange(len(eig_val)),var_exp,alpha=0.5,align='center',label='indivisual explained variance')\n",
    "plt.step(np.arange(len(eig_val)),cum_var_exp,alpha=0.5,label='cumulative explained variance')\n",
    "var_exp"
   ]
  },
  {
   "cell_type": "code",
   "execution_count": 74,
   "metadata": {},
   "outputs": [
    {
     "data": {
      "text/plain": [
       "{0.13796010234299094: 0.13796010234299094,\n",
       " 0.10877449475359693: 0.24673459709658788,\n",
       " 0.09282150161277837: 0.33955609870936626,\n",
       " 0.08982402412371812: 0.42938012283308435,\n",
       " 0.08826525643805108: 0.5176453792711354,\n",
       " 0.08367732618217057: 0.601322705453306,\n",
       " 0.08032497787476786: 0.6816476833280739,\n",
       " 0.07804807195076383: 0.7596957552788377,\n",
       " 0.07594952717410351: 0.8356452824529412,\n",
       " 0.05332047269499769: 0.888965755147939,\n",
       " 0.034245777838107165: 0.9232115329860461,\n",
       " 0.018789208704212707: 0.9420007416902588,\n",
       " 0.015054011270190515: 0.9570547529604494,\n",
       " 0.013411251134402967: 0.9704660040948524,\n",
       " 0.009041996877387467: 0.9795080009722399,\n",
       " 0.005519422740591024: 0.9850274237128309,\n",
       " 0.003397818819615381: 0.9884252425324463,\n",
       " 0.0028882708763608676: 0.9913135134088072,\n",
       " 0.002516253361954124: 0.9938297667707614,\n",
       " 0.002275357023003422: 0.9961051237937648,\n",
       " 0.0017092264220788724: 0.9978143502158436,\n",
       " 0.0009256834214593916: 0.998740033637303,\n",
       " 0.0008908214265690268: 0.9996308550638721,\n",
       " 0.00018222460461503684: 0.9998130796684871,\n",
       " 0.00013514505144117267: 0.9999482247199283,\n",
       " 5.1775280071747015e-05: 1.0}"
      ]
     },
     "execution_count": 74,
     "metadata": {},
     "output_type": "execute_result"
    }
   ],
   "source": [
    "var_exp_cum_var_exp_pairs = dict(zip(var_exp,cum_var_exp.T))\n",
    "var_exp_cum_var_exp_pairs"
   ]
  },
  {
   "cell_type": "code",
   "execution_count": 75,
   "metadata": {},
   "outputs": [],
   "source": [
    "pca = PCA(n_components=14)\n",
    "\n",
    "X_PCA = pca.fit_transform(X_PCA)"
   ]
  },
  {
   "cell_type": "markdown",
   "metadata": {},
   "source": [
    "### ANN"
   ]
  },
  {
   "cell_type": "code",
   "execution_count": 76,
   "metadata": {},
   "outputs": [
    {
     "name": "stderr",
     "output_type": "stream",
     "text": [
      "WARNING: Logging before flag parsing goes to stderr.\n",
      "W1225 15:47:55.876450 14108 deprecation_wrapper.py:119] From F:\\Anaconda\\lib\\site-packages\\keras\\backend\\tensorflow_backend.py:74: The name tf.get_default_graph is deprecated. Please use tf.compat.v1.get_default_graph instead.\n",
      "\n",
      "W1225 15:47:56.362634 14108 deprecation_wrapper.py:119] From F:\\Anaconda\\lib\\site-packages\\keras\\backend\\tensorflow_backend.py:517: The name tf.placeholder is deprecated. Please use tf.compat.v1.placeholder instead.\n",
      "\n",
      "W1225 15:47:56.550837 14108 deprecation_wrapper.py:119] From F:\\Anaconda\\lib\\site-packages\\keras\\backend\\tensorflow_backend.py:4138: The name tf.random_uniform is deprecated. Please use tf.random.uniform instead.\n",
      "\n"
     ]
    },
    {
     "name": "stdout",
     "output_type": "stream",
     "text": [
      "_________________________________________________________________\n",
      "Layer (type)                 Output Shape              Param #   \n",
      "=================================================================\n",
      "dense_1 (Dense)              (None, 128)               1920      \n",
      "_________________________________________________________________\n",
      "dense_2 (Dense)              (None, 64)                8256      \n",
      "_________________________________________________________________\n",
      "dense_3 (Dense)              (None, 32)                2080      \n",
      "_________________________________________________________________\n",
      "dense_4 (Dense)              (None, 16)                528       \n",
      "_________________________________________________________________\n",
      "dense_5 (Dense)              (None, 1)                 17        \n",
      "=================================================================\n",
      "Total params: 12,801\n",
      "Trainable params: 12,801\n",
      "Non-trainable params: 0\n",
      "_________________________________________________________________\n"
     ]
    }
   ],
   "source": [
    "model = models.Sequential()\n",
    "model.add(layers.Dense(units=128,activation='relu',input_dim=14))\n",
    "model.add(layers.Dense(64,activation='tanh'))\n",
    "model.add(layers.Dense(32,activation='tanh'))\n",
    "model.add(layers.Dense(16,activation='tanh'))\n",
    "model.add(layers.Dense(1,activation='sigmoid'))\n",
    "\n",
    "model.summary()"
   ]
  },
  {
   "cell_type": "code",
   "execution_count": 77,
   "metadata": {},
   "outputs": [],
   "source": [
    "X_train_PCA,X_test_PCA,y_train,y_test = train_test_split(X_PCA,y_PCA,train_size=0.8,random_state=10)"
   ]
  },
  {
   "cell_type": "code",
   "execution_count": 78,
   "metadata": {},
   "outputs": [
    {
     "data": {
      "text/plain": [
       "\"y_train_NeuralNetworks = np.array(pd.get_dummies(y_train)).astype('float32')\\ny_test_NeuralNetworks = np.array(pd.get_dummies(y_test)).astype('float32')\""
      ]
     },
     "execution_count": 78,
     "metadata": {},
     "output_type": "execute_result"
    }
   ],
   "source": [
    "'''y_train_NeuralNetworks = np.array(pd.get_dummies(y_train)).astype('float32')\n",
    "y_test_NeuralNetworks = np.array(pd.get_dummies(y_test)).astype('float32')'''"
   ]
  },
  {
   "cell_type": "code",
   "execution_count": 79,
   "metadata": {},
   "outputs": [],
   "source": [
    "# Splitting the data into X_train_PCA and X_validation_PCA for training and Validation respectively\n",
    "X_train_PCA_NeuralNetworks,X_validation_PCA,y_train_NeuralNetworks,y_validation = train_test_split(X_train_PCA,y_train,train_size=0.9,random_state=10)"
   ]
  },
  {
   "cell_type": "code",
   "execution_count": 80,
   "metadata": {
    "scrolled": true
   },
   "outputs": [
    {
     "name": "stderr",
     "output_type": "stream",
     "text": [
      "W1225 15:47:57.137924 14108 deprecation_wrapper.py:119] From F:\\Anaconda\\lib\\site-packages\\keras\\optimizers.py:790: The name tf.train.Optimizer is deprecated. Please use tf.compat.v1.train.Optimizer instead.\n",
      "\n",
      "W1225 15:47:57.199396 14108 deprecation_wrapper.py:119] From F:\\Anaconda\\lib\\site-packages\\keras\\backend\\tensorflow_backend.py:3376: The name tf.log is deprecated. Please use tf.math.log instead.\n",
      "\n",
      "W1225 15:47:57.205025 14108 deprecation.py:323] From F:\\Anaconda\\lib\\site-packages\\tensorflow\\python\\ops\\nn_impl.py:180: add_dispatch_support.<locals>.wrapper (from tensorflow.python.ops.array_ops) is deprecated and will be removed in a future version.\n",
      "Instructions for updating:\n",
      "Use tf.where in 2.0, which has the same broadcast rule as np.where\n",
      "W1225 15:47:57.894195 14108 deprecation_wrapper.py:119] From F:\\Anaconda\\lib\\site-packages\\keras\\backend\\tensorflow_backend.py:986: The name tf.assign_add is deprecated. Please use tf.compat.v1.assign_add instead.\n",
      "\n"
     ]
    },
    {
     "name": "stdout",
     "output_type": "stream",
     "text": [
      "Train on 21716 samples, validate on 2413 samples\n",
      "Epoch 1/50\n",
      "21716/21716 [==============================] - 12s 555us/step - loss: 0.3495 - acc: 0.8380 - val_loss: 0.3437 - val_acc: 0.8305\n",
      "Epoch 2/50\n",
      "21716/21716 [==============================] - 8s 377us/step - loss: 0.3311 - acc: 0.8441 - val_loss: 0.3419 - val_acc: 0.8346\n",
      "Epoch 3/50\n",
      "21716/21716 [==============================] - 8s 386us/step - loss: 0.3272 - acc: 0.8460 - val_loss: 0.3402 - val_acc: 0.8330\n",
      "Epoch 4/50\n",
      "21716/21716 [==============================] - 8s 362us/step - loss: 0.3236 - acc: 0.8475 - val_loss: 0.3529 - val_acc: 0.8355\n",
      "Epoch 5/50\n",
      "21716/21716 [==============================] - 9s 402us/step - loss: 0.3225 - acc: 0.8496 - val_loss: 0.3446 - val_acc: 0.8338\n",
      "Epoch 6/50\n",
      "21716/21716 [==============================] - 11s 487us/step - loss: 0.3200 - acc: 0.8495 - val_loss: 0.3475 - val_acc: 0.8264\n",
      "Epoch 7/50\n",
      "21716/21716 [==============================] - 10s 455us/step - loss: 0.3181 - acc: 0.8491 - val_loss: 0.3381 - val_acc: 0.8334\n",
      "Epoch 8/50\n",
      "21716/21716 [==============================] - 9s 403us/step - loss: 0.3166 - acc: 0.8507 - val_loss: 0.3459 - val_acc: 0.8404\n",
      "Epoch 9/50\n",
      "21716/21716 [==============================] - 9s 403us/step - loss: 0.3146 - acc: 0.8526 - val_loss: 0.3441 - val_acc: 0.8297\n",
      "Epoch 10/50\n",
      "21716/21716 [==============================] - 9s 411us/step - loss: 0.3130 - acc: 0.8510 - val_loss: 0.3394 - val_acc: 0.8400\n",
      "Epoch 11/50\n",
      "21716/21716 [==============================] - 9s 402us/step - loss: 0.3119 - acc: 0.8528 - val_loss: 0.3366 - val_acc: 0.8392\n",
      "Epoch 12/50\n",
      "21716/21716 [==============================] - 10s 460us/step - loss: 0.3092 - acc: 0.8540 - val_loss: 0.3472 - val_acc: 0.8346\n",
      "Epoch 13/50\n",
      "21716/21716 [==============================] - 10s 470us/step - loss: 0.3068 - acc: 0.8530 - val_loss: 0.3412 - val_acc: 0.8355\n",
      "Epoch 14/50\n",
      "21716/21716 [==============================] - 9s 425us/step - loss: 0.3052 - acc: 0.8540 - val_loss: 0.3443 - val_acc: 0.8404\n",
      "Epoch 15/50\n",
      "21716/21716 [==============================] - 9s 432us/step - loss: 0.3036 - acc: 0.8560 - val_loss: 0.3414 - val_acc: 0.8309\n",
      "Epoch 16/50\n",
      "21716/21716 [==============================] - 9s 409us/step - loss: 0.3025 - acc: 0.8548 - val_loss: 0.3433 - val_acc: 0.8297\n",
      "Epoch 17/50\n",
      "21716/21716 [==============================] - 9s 426us/step - loss: 0.3011 - acc: 0.8571 - val_loss: 0.3413 - val_acc: 0.8384\n",
      "Epoch 18/50\n",
      "21716/21716 [==============================] - 9s 411us/step - loss: 0.2980 - acc: 0.8578 - val_loss: 0.3405 - val_acc: 0.8396\n",
      "Epoch 19/50\n",
      "21716/21716 [==============================] - 10s 451us/step - loss: 0.2971 - acc: 0.8577 - val_loss: 0.3457 - val_acc: 0.8367\n",
      "Epoch 20/50\n",
      "21716/21716 [==============================] - 10s 481us/step - loss: 0.2950 - acc: 0.8584 - val_loss: 0.3419 - val_acc: 0.8400\n",
      "Epoch 21/50\n",
      "21716/21716 [==============================] - 10s 478us/step - loss: 0.2935 - acc: 0.8605 - val_loss: 0.3446 - val_acc: 0.8338\n",
      "Epoch 22/50\n",
      "21716/21716 [==============================] - 10s 482us/step - loss: 0.2916 - acc: 0.8605 - val_loss: 0.3503 - val_acc: 0.8334\n",
      "Epoch 23/50\n",
      "21716/21716 [==============================] - 10s 467us/step - loss: 0.2897 - acc: 0.8618 - val_loss: 0.3567 - val_acc: 0.8359\n",
      "Epoch 24/50\n",
      "21716/21716 [==============================] - 10s 480us/step - loss: 0.2865 - acc: 0.8640 - val_loss: 0.3645 - val_acc: 0.8255\n",
      "Epoch 25/50\n",
      "21716/21716 [==============================] - 10s 461us/step - loss: 0.2852 - acc: 0.8633 - val_loss: 0.3543 - val_acc: 0.8309\n",
      "Epoch 26/50\n",
      "21716/21716 [==============================] - 9s 436us/step - loss: 0.2845 - acc: 0.8646 - val_loss: 0.3570 - val_acc: 0.8247\n",
      "Epoch 27/50\n",
      "21716/21716 [==============================] - 10s 475us/step - loss: 0.2808 - acc: 0.8654 - val_loss: 0.3615 - val_acc: 0.8313\n",
      "Epoch 28/50\n",
      "21716/21716 [==============================] - 12s 538us/step - loss: 0.2787 - acc: 0.8670 - val_loss: 0.3514 - val_acc: 0.8322\n",
      "Epoch 29/50\n",
      "21716/21716 [==============================] - 12s 574us/step - loss: 0.2783 - acc: 0.8685 - val_loss: 0.3561 - val_acc: 0.8359\n",
      "Epoch 30/50\n",
      "21716/21716 [==============================] - 12s 574us/step - loss: 0.2743 - acc: 0.8703 - val_loss: 0.3636 - val_acc: 0.8264\n",
      "Epoch 31/50\n",
      "21716/21716 [==============================] - 11s 519us/step - loss: 0.2741 - acc: 0.8698 - val_loss: 0.3639 - val_acc: 0.8239\n",
      "Epoch 32/50\n",
      "21716/21716 [==============================] - 11s 527us/step - loss: 0.2707 - acc: 0.8700 - val_loss: 0.3644 - val_acc: 0.8255\n",
      "Epoch 33/50\n",
      "21716/21716 [==============================] - 12s 533us/step - loss: 0.2706 - acc: 0.8690 - val_loss: 0.3733 - val_acc: 0.8293\n",
      "Epoch 34/50\n",
      "21716/21716 [==============================] - 11s 514us/step - loss: 0.2671 - acc: 0.8707 - val_loss: 0.3624 - val_acc: 0.8276\n",
      "Epoch 35/50\n",
      "21716/21716 [==============================] - 11s 501us/step - loss: 0.2655 - acc: 0.8728 - val_loss: 0.3618 - val_acc: 0.8243\n",
      "Epoch 36/50\n",
      "21716/21716 [==============================] - 12s 558us/step - loss: 0.2621 - acc: 0.8752 - val_loss: 0.3628 - val_acc: 0.8359\n",
      "Epoch 37/50\n",
      "21716/21716 [==============================] - 11s 522us/step - loss: 0.2600 - acc: 0.8752 - val_loss: 0.3796 - val_acc: 0.8210\n",
      "Epoch 38/50\n",
      "21716/21716 [==============================] - 13s 599us/step - loss: 0.2573 - acc: 0.8772 - val_loss: 0.3938 - val_acc: 0.8305\n",
      "Epoch 39/50\n",
      "21716/21716 [==============================] - 12s 552us/step - loss: 0.2561 - acc: 0.8772 - val_loss: 0.3679 - val_acc: 0.8297\n",
      "Epoch 40/50\n",
      "21716/21716 [==============================] - 12s 531us/step - loss: 0.2531 - acc: 0.8825 - val_loss: 0.3832 - val_acc: 0.8284\n",
      "Epoch 41/50\n",
      "21716/21716 [==============================] - 11s 529us/step - loss: 0.2513 - acc: 0.8800 - val_loss: 0.3945 - val_acc: 0.8206\n",
      "Epoch 42/50\n",
      "21716/21716 [==============================] - 13s 580us/step - loss: 0.2506 - acc: 0.8819 - val_loss: 0.4066 - val_acc: 0.8201\n",
      "Epoch 43/50\n",
      "21716/21716 [==============================] - 13s 592us/step - loss: 0.2455 - acc: 0.8839 - val_loss: 0.4014 - val_acc: 0.8185\n",
      "Epoch 44/50\n",
      "21716/21716 [==============================] - 12s 564us/step - loss: 0.2449 - acc: 0.8834 - val_loss: 0.4058 - val_acc: 0.8201\n",
      "Epoch 45/50\n",
      "21716/21716 [==============================] - 12s 560us/step - loss: 0.2446 - acc: 0.8829 - val_loss: 0.4059 - val_acc: 0.8239\n",
      "Epoch 46/50\n",
      "21716/21716 [==============================] - 13s 608us/step - loss: 0.2397 - acc: 0.8862 - val_loss: 0.4216 - val_acc: 0.8214\n",
      "Epoch 47/50\n",
      "21716/21716 [==============================] - 13s 597us/step - loss: 0.2404 - acc: 0.8873 - val_loss: 0.4246 - val_acc: 0.8251\n",
      "Epoch 48/50\n",
      "21716/21716 [==============================] - 13s 593us/step - loss: 0.2365 - acc: 0.8879 - val_loss: 0.4132 - val_acc: 0.8293\n",
      "Epoch 49/50\n",
      "21716/21716 [==============================] - 18s 812us/step - loss: 0.2360 - acc: 0.8860 - val_loss: 0.4267 - val_acc: 0.8185\n",
      "Epoch 50/50\n",
      "21716/21716 [==============================] - 13s 579us/step - loss: 0.2363 - acc: 0.8882 - val_loss: 0.4278 - val_acc: 0.8255\n"
     ]
    },
    {
     "data": {
      "text/plain": [
       "<keras.callbacks.History at 0x23d917c6be0>"
      ]
     },
     "execution_count": 80,
     "metadata": {},
     "output_type": "execute_result"
    }
   ],
   "source": [
    "model.compile(optimizer='adam',loss='binary_crossentropy',metrics=['accuracy'])\n",
    "\n",
    "model.fit(x=X_train_PCA_NeuralNetworks,y=y_train_NeuralNetworks,batch_size=5,epochs=50,validation_data=(X_validation_PCA,y_validation))\n"
   ]
  },
  {
   "cell_type": "code",
   "execution_count": 81,
   "metadata": {},
   "outputs": [],
   "source": [
    "prediction = model.predict(X_test_PCA)\n",
    "\n",
    "prediction = np.around(prediction)"
   ]
  },
  {
   "cell_type": "code",
   "execution_count": 82,
   "metadata": {},
   "outputs": [
    {
     "data": {
      "text/plain": [
       "array([[0.],\n",
       "       [0.],\n",
       "       [1.],\n",
       "       ...,\n",
       "       [0.],\n",
       "       [0.],\n",
       "       [0.]], dtype=float32)"
      ]
     },
     "execution_count": 82,
     "metadata": {},
     "output_type": "execute_result"
    }
   ],
   "source": [
    "prediction"
   ]
  },
  {
   "cell_type": "code",
   "execution_count": 83,
   "metadata": {},
   "outputs": [],
   "source": [
    "y_pred_ann = prediction\n",
    "y_test_ann = y_test"
   ]
  },
  {
   "cell_type": "code",
   "execution_count": 84,
   "metadata": {},
   "outputs": [
    {
     "data": {
      "text/plain": [
       "0.8317586606994861"
      ]
     },
     "execution_count": 84,
     "metadata": {},
     "output_type": "execute_result"
    }
   ],
   "source": [
    "accuracy_score(y_test_ann,y_pred_ann)"
   ]
  },
  {
   "cell_type": "code",
   "execution_count": 85,
   "metadata": {},
   "outputs": [
    {
     "data": {
      "text/plain": [
       "array([[4070,  439],\n",
       "       [ 576,  948]], dtype=int64)"
      ]
     },
     "execution_count": 85,
     "metadata": {},
     "output_type": "execute_result"
    }
   ],
   "source": [
    "confusion_matrix(y_test_ann,y_pred_ann)"
   ]
  },
  {
   "cell_type": "markdown",
   "metadata": {},
   "source": [
    "# Metrics computed from a confusion matrix"
   ]
  },
  {
   "cell_type": "code",
   "execution_count": 86,
   "metadata": {},
   "outputs": [
    {
     "name": "stdout",
     "output_type": "stream",
     "text": [
      "Confusion Matrix for Logistic Regression: \n",
      " [[4189  320]\n",
      " [ 645  879]] \n",
      "\n",
      "\n",
      "Confusion Matrix for Random Forest Classifier: \n",
      " [[4241  268]\n",
      " [ 556  968]] \n",
      "\n",
      "\n",
      "Confusion Matrix for Artificial Neural Network Classifier: \n",
      " [[4070  439]\n",
      " [ 576  948]] \n",
      "\n",
      "\n"
     ]
    }
   ],
   "source": [
    "# save confusion matrix and slice into four pieces\n",
    "confusion_lr = confusion_matrix(y_test_lr, y_pred_lr)\n",
    "print(\"Confusion Matrix for Logistic Regression: \\n {} \\n\\n\".format(confusion_lr))\n",
    "#[row, column]\n",
    "TP_lr = confusion_lr[1, 1]\n",
    "TN_lr = confusion_lr[0, 0]\n",
    "FP_lr = confusion_lr[0, 1]\n",
    "FN_lr = confusion_lr[1, 0]\n",
    "\n",
    "\n",
    "confusion_randomForest = confusion_matrix(y_test_rf, y_pred_rf)\n",
    "print(\"Confusion Matrix for Random Forest Classifier: \\n {} \\n\\n\".format(confusion_randomForest))\n",
    "#[row, column]\n",
    "TP_rf = confusion_randomForest[1, 1]\n",
    "TN_rf = confusion_randomForest[0, 0]\n",
    "FP_rf = confusion_randomForest[0, 1]\n",
    "FN_rf = confusion_randomForest[1, 0]\n",
    "\n",
    "\n",
    "\n",
    "confusion_ann = confusion_matrix(y_test_ann, y_pred_ann)\n",
    "print(\"Confusion Matrix for Artificial Neural Network Classifier: \\n {} \\n\\n\".format(confusion_ann))\n",
    "#[row, column]\n",
    "TP_ann = confusion_ann[1, 1]\n",
    "TN_ann = confusion_ann[0, 0]\n",
    "FP_ann = confusion_ann[0, 1]\n",
    "FN_ann = confusion_ann[1, 0]"
   ]
  },
  {
   "cell_type": "markdown",
   "metadata": {},
   "source": [
    "### Classification Accuracy"
   ]
  },
  {
   "cell_type": "code",
   "execution_count": 87,
   "metadata": {},
   "outputs": [
    {
     "name": "stdout",
     "output_type": "stream",
     "text": [
      "Accuracy for Logistic Regression Classifier: 0.840046411403945 \n",
      "\n",
      "\n",
      "Accuracy for Random Forest Classifier: 0.8634178683905188 \n",
      "\n",
      "\n",
      "Accuracy for Artificial Neural Network Classifier: 0.8317586606994861 \n",
      "\n",
      "\n"
     ]
    }
   ],
   "source": [
    "# use float to perform true division, not integer division\n",
    "print(\"Accuracy for Logistic Regression Classifier: {} \\n\\n\".format((TP_lr + TN_lr) / float(TP_lr + TN_lr + FP_lr + FN_lr)))\n",
    "\n",
    "# use float to perform true division, not integer division\n",
    "print(\"Accuracy for Random Forest Classifier: {} \\n\\n\".format((TP_rf + TN_rf) / float(TP_rf + TN_rf + FP_rf + FN_rf)))\n",
    "\n",
    "# use float to perform true division, not integer division\n",
    "print(\"Accuracy for Artificial Neural Network Classifier: {} \\n\\n\".format((TP_ann + TN_ann) / float(TP_ann + TN_ann + FP_ann + FN_ann)))"
   ]
  },
  {
   "cell_type": "markdown",
   "metadata": {},
   "source": [
    "### Classification Error"
   ]
  },
  {
   "cell_type": "code",
   "execution_count": 88,
   "metadata": {},
   "outputs": [
    {
     "name": "stdout",
     "output_type": "stream",
     "text": [
      "Error for Logistic Regression Classifier: 0.15995358859605502 \n",
      "\n",
      "\n",
      "Error for Random Forest Classifier: 0.13658213160948118 \n",
      "\n",
      "\n",
      "Error for Artificial Neural Network Classifier: 0.16824133930051385 \n",
      "\n",
      "\n"
     ]
    }
   ],
   "source": [
    "print(\"Error for Logistic Regression Classifier: {} \\n\\n\".format((FP_lr + FN_lr) / float(TP_lr + TN_lr + FP_lr + FN_lr)))\n",
    "\n",
    "print(\"Error for Random Forest Classifier: {} \\n\\n\".format((FP_rf + FN_rf) / float(TP_rf + TN_rf + FP_rf + FN_rf)))\n",
    "\n",
    "print(\"Error for Artificial Neural Network Classifier: {} \\n\\n\".format((FP_ann + FN_ann) / float(TP_ann + TN_ann + FP_ann + FN_ann)))"
   ]
  },
  {
   "cell_type": "markdown",
   "metadata": {},
   "source": [
    "### Sensitivity\n",
    "\n",
    "#### Meaning:  When the actual value is positive, how often is the prediction correct?\n",
    "#### Something we want to maximize\n",
    "#### How \"sensitive\" is the classifier to detecting positive instances?\n",
    "#### Also known as \"True Positive Rate\" or \"Recall\"\n",
    "#### TP / all positive\n",
    "#### all positive = TP + FN"
   ]
  },
  {
   "cell_type": "code",
   "execution_count": 89,
   "metadata": {},
   "outputs": [
    {
     "name": "stdout",
     "output_type": "stream",
     "text": [
      "Senstivity of Logistic Regression Classfier : 0.5767716535433071 \n",
      "\n",
      "\n",
      "Senstivity of Random Forest Classifier : 0.6351706036745407 \n",
      "\n",
      "\n",
      "Senstivity of Artificial Neural Network Classifier : 0.6220472440944882 \n",
      "\n",
      "\n"
     ]
    }
   ],
   "source": [
    "print(\"Senstivity of Logistic Regression Classfier : {} \\n\\n\".format(TP_lr / float(FN_lr + TP_lr)))\n",
    "\n",
    "print(\"Senstivity of Random Forest Classifier : {} \\n\\n\".format(TP_rf / float(FN_rf + TP_rf)))\n",
    "\n",
    "print(\"Senstivity of Artificial Neural Network Classifier : {} \\n\\n\".format(TP_ann / float(FN_ann + TP_ann)))"
   ]
  },
  {
   "cell_type": "markdown",
   "metadata": {},
   "source": [
    "### Specificity\n",
    "\n",
    "#### Meaning : When the actual value is negative, how often is the prediction correct?\n",
    "\n",
    "#### Something we want to maximize\n",
    "#### How \"specific\" (or \"selective\") is the classifier in predicting positive instances?\n",
    "#### TN / all negative\n",
    "#### all negative = TN + FP"
   ]
  },
  {
   "cell_type": "code",
   "execution_count": 90,
   "metadata": {},
   "outputs": [
    {
     "name": "stdout",
     "output_type": "stream",
     "text": [
      "specificity of Logistic Regression Classfier : 0.9290308272344201 \n",
      "\n",
      "\n",
      "specificity of Random Forest Classifier : 0.9405633178088267 \n",
      "\n",
      "\n",
      "specificity of Artificial Neural Network Classifier : 0.9026391661122201 \n",
      "\n",
      "\n"
     ]
    }
   ],
   "source": [
    "print(\"specificity of Logistic Regression Classfier : {} \\n\\n\".format(TN_lr / (TN_lr + FP_lr)))\n",
    "\n",
    "print(\"specificity of Random Forest Classifier : {} \\n\\n\".format(TN_rf / (TN_rf + FP_rf)))\n",
    "\n",
    "print(\"specificity of Artificial Neural Network Classifier : {} \\n\\n\".format(TN_ann / (TN_ann + FP_ann)))"
   ]
  },
  {
   "cell_type": "markdown",
   "metadata": {},
   "source": [
    "# Adjusting the threshold of classifier using ROC curve"
   ]
  },
  {
   "cell_type": "code",
   "execution_count": 91,
   "metadata": {},
   "outputs": [],
   "source": [
    "y_pred_prob = best_model_logistic_regression.predict_proba(X_test)[:,1]"
   ]
  },
  {
   "cell_type": "code",
   "execution_count": 92,
   "metadata": {},
   "outputs": [
    {
     "data": {
      "text/plain": [
       "Text(0, 0.5, 'Frequency')"
      ]
     },
     "execution_count": 92,
     "metadata": {},
     "output_type": "execute_result"
    },
    {
     "data": {
      "image/png": "[encoded data removed]",
      "text/plain": [
       "<Figure size 432x288 with 1 Axes>"
      ]
     },
     "metadata": {
      "needs_background": "light"
     },
     "output_type": "display_data"
    }
   ],
   "source": [
    "# histogram of predicted probabilities\n",
    "\n",
    "# 8 bins\n",
    "plt.hist(y_pred_prob, bins=8)\n",
    "\n",
    "# x-axis limit from 0 to 1\n",
    "plt.xlim(0,1)\n",
    "plt.title('Histogram of predicted probabilities')\n",
    "plt.xlabel('Predicted probability of Adults have salary >50K ')\n",
    "plt.ylabel('Frequency')"
   ]
  },
  {
   "cell_type": "markdown",
   "metadata": {},
   "source": [
    "According to above histogram, around 3000 adults have probabilty 0 - 0.1  and less that 500 adults have probabilty of 0.38 - 0.5 of having salary > 50K\n",
    "\n",
    "It means threshold has to be made lower than 0.5 to favour more adults having salary >50K "
   ]
  },
  {
   "cell_type": "code",
   "execution_count": 93,
   "metadata": {},
   "outputs": [
    {
     "data": {
      "image/png": "[encoded data removed]",
      "text/plain": [
       "<Figure size 432x288 with 1 Axes>"
      ]
     },
     "metadata": {
      "needs_background": "light"
     },
     "output_type": "display_data"
    }
   ],
   "source": [
    "fpr, tpr, thresholds = roc_curve(y_test_lr, y_pred_prob)\n",
    "\n",
    "plt.plot(fpr, tpr)\n",
    "plt.xlim([0.0, 1.0])\n",
    "plt.ylim([0.0, 1.0])\n",
    "plt.rcParams['font.size'] = 12\n",
    "plt.title('ROC curve')\n",
    "plt.xlabel('False Positive Rate (1 - Specificity)')\n",
    "plt.ylabel('True Positive Rate (Sensitivity)')\n",
    "plt.grid(True)"
   ]
  },
  {
   "cell_type": "markdown",
   "metadata": {},
   "source": [
    "From above graph, choose the approximate threshold where the sensitivity is as high as possible and (1-Specificity) is as low as possible "
   ]
  },
  {
   "cell_type": "code",
   "execution_count": 94,
   "metadata": {},
   "outputs": [],
   "source": [
    "def evaluate_threshold(threshold):\n",
    "    print('Sensitivity:', tpr[thresholds > threshold][-1])\n",
    "    print('Specificity:', 1 - fpr[thresholds > threshold][-1])"
   ]
  },
  {
   "cell_type": "code",
   "execution_count": 95,
   "metadata": {},
   "outputs": [],
   "source": [
    "threshold = 0.28"
   ]
  },
  {
   "cell_type": "code",
   "execution_count": 96,
   "metadata": {},
   "outputs": [
    {
     "name": "stdout",
     "output_type": "stream",
     "text": [
      "Sensitivity: 0.8149606299212598\n",
      "Specificity: 0.8059436682191173\n"
     ]
    }
   ],
   "source": [
    "evaluate_threshold(threshold)"
   ]
  },
  {
   "cell_type": "code",
   "execution_count": 97,
   "metadata": {},
   "outputs": [],
   "source": [
    "# predict Salary if the predicted probability is greater than 0.3\n",
    "from sklearn.preprocessing import binarize\n",
    "# it will return 1 for all values above threshold and 0 otherwise\n",
    "# results are 2D so we slice out the first column\n",
    "y_pred_class = binarize([y_pred_prob], threshold)[0]"
   ]
  },
  {
   "cell_type": "code",
   "execution_count": 98,
   "metadata": {},
   "outputs": [
    {
     "data": {
      "text/plain": [
       "array([[3631,  878],\n",
       "       [ 282, 1242]], dtype=int64)"
      ]
     },
     "execution_count": 98,
     "metadata": {},
     "output_type": "execute_result"
    }
   ],
   "source": [
    "confusion_matrix_after_adjustment = confusion_matrix(y_test_lr,y_pred_class)\n",
    "confusion_matrix_after_adjustment"
   ]
  },
  {
   "cell_type": "code",
   "execution_count": 99,
   "metadata": {},
   "outputs": [
    {
     "data": {
      "text/plain": [
       "0.8077241836565556"
      ]
     },
     "execution_count": 99,
     "metadata": {},
     "output_type": "execute_result"
    }
   ],
   "source": [
    "accuracy_score(y_test_lr,y_pred_class)"
   ]
  },
  {
   "cell_type": "code",
   "execution_count": 100,
   "metadata": {},
   "outputs": [],
   "source": [
    "TP_new = confusion_matrix_after_adjustment[1, 1]\n",
    "TN_new = confusion_matrix_after_adjustment[0, 0]\n",
    "FP_new = confusion_matrix_after_adjustment[0, 1]\n",
    "FN_new = confusion_matrix_after_adjustment[1, 0]"
   ]
  },
  {
   "cell_type": "code",
   "execution_count": 101,
   "metadata": {},
   "outputs": [
    {
     "name": "stdout",
     "output_type": "stream",
     "text": [
      "Accuracy for Logistic Regression Classifier with threshold 0.28 : 0.8077241836565556 \n",
      "\n",
      "\n",
      "Senstivity of Logistic Regression Classfier with threshold 0.28 : 0.8149606299212598 \n",
      "\n",
      "\n",
      "specificity of Logistic Regression Classfier with threshold 0.28 : 0.80527833222444 \n",
      "\n",
      "\n"
     ]
    }
   ],
   "source": [
    "print(\"Accuracy for Logistic Regression Classifier with threshold {} : {} \\n\\n\".format(threshold,(TP_new + TN_new) / float(TP_new + TN_new + FP_new + FN_new)))\n",
    "\n",
    "print(\"Senstivity of Logistic Regression Classfier with threshold {} : {} \\n\\n\".format(threshold,TP_new / float(FN_new + TP_new)))\n",
    "\n",
    "print(\"specificity of Logistic Regression Classfier with threshold {} : {} \\n\\n\".format(threshold,TN_new / (TN_new + FP_new)))"
   ]
  },
  {
   "cell_type": "markdown",
   "metadata": {},
   "source": [
    "# Using Adaboost Classifier"
   ]
  },
  {
   "cell_type": "code",
   "execution_count": 102,
   "metadata": {},
   "outputs": [],
   "source": [
    "from sklearn.ensemble import AdaBoostClassifier"
   ]
  },
  {
   "cell_type": "code",
   "execution_count": 103,
   "metadata": {},
   "outputs": [],
   "source": [
    "X_train, X_test, y_train, y_test = train_test_split(X, y, test_size=0.2, random_state=10)"
   ]
  },
  {
   "cell_type": "code",
   "execution_count": 121,
   "metadata": {},
   "outputs": [],
   "source": [
    "abc = AdaBoostClassifier()"
   ]
  },
  {
   "cell_type": "code",
   "execution_count": 122,
   "metadata": {},
   "outputs": [
    {
     "data": {
      "text/plain": [
       "0.8622575832918946"
      ]
     },
     "execution_count": 122,
     "metadata": {},
     "output_type": "execute_result"
    }
   ],
   "source": [
    "# Fit\n",
    "abc.fit(X_train, y_train)\n",
    "\n",
    "# Predict\n",
    "y_pred = abc.predict(X_test)\n",
    "\n",
    "# Accuracy\n",
    "accuracy_score(y_pred, y_test)"
   ]
  },
  {
   "cell_type": "code",
   "execution_count": 123,
   "metadata": {},
   "outputs": [],
   "source": [
    "confusion_matrix_abc = confusion_matrix(y_pred,y_test)"
   ]
  },
  {
   "cell_type": "code",
   "execution_count": 124,
   "metadata": {},
   "outputs": [],
   "source": [
    "TP_abc = confusion_matrix_abc[1, 1]\n",
    "TN_abc = confusion_matrix_abc[0, 0]\n",
    "FP_abc = confusion_matrix_abc[0, 1]\n",
    "FN_abc = confusion_matrix_abc[1, 0]"
   ]
  },
  {
   "cell_type": "code",
   "execution_count": 125,
   "metadata": {},
   "outputs": [
    {
     "name": "stdout",
     "output_type": "stream",
     "text": [
      "Accuracy for Adaboost Classifier : 0.8622575832918946 \n",
      "\n",
      "\n",
      "Senstivity of Adaboost Classfier : 0.781021897810219 \n",
      "\n",
      "\n",
      "specificity of Adaboost Classfier : 0.883125 \n",
      "\n",
      "\n"
     ]
    }
   ],
   "source": [
    "print(\"Accuracy for Adaboost Classifier : {} \\n\\n\".format((TP_abc + TN_abc) / float(TP_abc + TN_abc + FP_abc + FN_abc)))\n",
    "\n",
    "print(\"Senstivity of Adaboost Classfier : {} \\n\\n\".format(TP_abc / float(FN_abc + TP_abc)))\n",
    "\n",
    "print(\"specificity of Adaboost Classfier : {} \\n\\n\".format(TN_abc / (TN_abc + FP_abc)))"
   ]
  },
  {
   "cell_type": "markdown",
   "metadata": {},
   "source": [
    "# XG Boost Classifier"
   ]
  },
  {
   "cell_type": "code",
   "execution_count": 109,
   "metadata": {},
   "outputs": [],
   "source": [
    "import xgboost as xgb"
   ]
  },
  {
   "cell_type": "code",
   "execution_count": 110,
   "metadata": {},
   "outputs": [],
   "source": [
    "X_train, X_test, y_train, y_test = train_test_split(X, y, test_size=0.2, random_state=10)"
   ]
  },
  {
   "cell_type": "code",
   "execution_count": 111,
   "metadata": {},
   "outputs": [],
   "source": [
    "xg = xgb.XGBClassifier(random_state=0)"
   ]
  },
  {
   "cell_type": "code",
   "execution_count": 112,
   "metadata": {},
   "outputs": [
    {
     "data": {
      "text/plain": [
       "XGBClassifier(base_score=0.5, booster='gbtree', colsample_bylevel=1,\n",
       "       colsample_bynode=1, colsample_bytree=1, gamma=0, learning_rate=0.1,\n",
       "       max_delta_step=0, max_depth=3, min_child_weight=1, missing=None,\n",
       "       n_estimators=100, n_jobs=1, nthread=None,\n",
       "       objective='binary:logistic', random_state=0, reg_alpha=0,\n",
       "       reg_lambda=1, scale_pos_weight=1, seed=None, silent=None,\n",
       "       subsample=1, verbosity=1)"
      ]
     },
     "execution_count": 112,
     "metadata": {},
     "output_type": "execute_result"
    }
   ],
   "source": [
    "xg.fit(X_train,y_train)"
   ]
  },
  {
   "cell_type": "code",
   "execution_count": 113,
   "metadata": {},
   "outputs": [],
   "source": [
    "y_pred = xg.predict(X_test)"
   ]
  },
  {
   "cell_type": "code",
   "execution_count": 114,
   "metadata": {},
   "outputs": [
    {
     "data": {
      "text/plain": [
       "0.8654069285595889"
      ]
     },
     "execution_count": 114,
     "metadata": {},
     "output_type": "execute_result"
    }
   ],
   "source": [
    "accuracy_score(y_test,y_pred)"
   ]
  },
  {
   "cell_type": "code",
   "execution_count": 116,
   "metadata": {},
   "outputs": [],
   "source": [
    "confusion_xgboost = confusion_matrix(y_test,y_pred)"
   ]
  },
  {
   "cell_type": "code",
   "execution_count": 117,
   "metadata": {},
   "outputs": [],
   "source": [
    "TP_xgboost = confusion_xgboost[1, 1]\n",
    "TN_xgboost = confusion_xgboost[0, 0]\n",
    "FP_xgboost = confusion_xgboost[0, 1]\n",
    "FN_xgboost = confusion_xgboost[1, 0]"
   ]
  },
  {
   "cell_type": "code",
   "execution_count": 118,
   "metadata": {},
   "outputs": [
    {
     "name": "stdout",
     "output_type": "stream",
     "text": [
      "Accuracy for XG Boost Classifier : 0.8654069285595889 \n",
      "\n",
      "\n",
      "Senstivity of XG Boost Classfier : 0.6240157480314961 \n",
      "\n",
      "\n",
      "Specificity of XG Boost Classfier : 0.9469948990907074 \n",
      "\n",
      "\n"
     ]
    }
   ],
   "source": [
    "print(\"Accuracy for XG Boost Classifier : {} \\n\\n\".format((TP_xgboost + TN_xgboost) / float(TP_xgboost + TN_xgboost + FP_xgboost + FN_xgboost)))\n",
    "\n",
    "print(\"Senstivity of XG Boost Classfier : {} \\n\\n\".format(TP_xgboost / float(FN_xgboost + TP_xgboost)))\n",
    "\n",
    "print(\"Specificity of XG Boost Classfier : {} \\n\\n\".format(TN_xgboost / (TN_xgboost + FP_xgboost)))"
   ]
  },
  {
   "cell_type": "code",
   "execution_count": null,
   "metadata": {},
   "outputs": [],
   "source": []
  }
 ],
 "metadata": {
  "kernelspec": {
   "display_name": "Python 3",
   "language": "python",
   "name": "python3"
  },
  "language_info": {
   "codemirror_mode": {
    "name": "ipython",
    "version": 3
   },
   "file_extension": ".py",
   "mimetype": "text/x-python",
   "name": "python",
   "nbconvert_exporter": "python",
   "pygments_lexer": "ipython3",
   "version": "3.7.3"
  }
 },
 "nbformat": 4,
 "nbformat_minor": 2
}
